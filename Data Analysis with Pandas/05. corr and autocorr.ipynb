{
  "nbformat": 4,
  "nbformat_minor": 0,
  "metadata": {
    "kernelspec": {
      "display_name": "Python 3",
      "language": "python",
      "name": "python3"
    },
    "language_info": {
      "codemirror_mode": {
        "name": "ipython",
        "version": 3
      },
      "file_extension": ".py",
      "mimetype": "text/x-python",
      "name": "python",
      "nbconvert_exporter": "python",
      "pygments_lexer": "ipython3",
      "version": "3.6.1"
    },
    "colab": {
      "name": "05. corr and autocorr.ipynb",
      "version": "0.3.2",
      "provenance": []
    }
  },
  "cells": [
    {
      "cell_type": "code",
      "metadata": {
        "id": "-vDPbuyJGd6x",
        "colab_type": "code",
        "colab": {}
      },
      "source": [
        "import pandas as pd\n",
        "import numpy as np\n",
        "import matplotlib.pyplot as plt\n",
        "plt.rcParams[\"figure.figsize\"] = (20,8)\n",
        "import warnings\n",
        "warnings.filterwarnings('ignore')\n",
        "import seaborn as sns\n",
        "import datetime"
      ],
      "execution_count": 0,
      "outputs": []
    },
    {
      "cell_type": "markdown",
      "metadata": {
        "id": "-onwMnOEGd64",
        "colab_type": "text"
      },
      "source": [
        "# Correlation and Auto Correlation\n",
        "\n",
        "\n",
        "## correlations\n",
        "    What is correlation ?\n",
        "    Correlation is a statistical measure that indicates the extent to which two or more variables fluctuate together. A positive correlation indicates the extent to which those variables increase or decrease in parallel; a negative correlation indicates the extent to which one variable increases as the other decreases.\n",
        "\n"
      ]
    },
    {
      "cell_type": "code",
      "metadata": {
        "id": "8krbyZ6vGd65",
        "colab_type": "code",
        "colab": {}
      },
      "source": [
        "colab_path = \"https://raw.githubusercontent.com/poornagurram/TimeSeriesAnalysis_ODSC_2019/master/\"\n",
        "s = pd.read_csv(colab_path+'data/stock_data.csv', parse_dates= [0], index_col=[0])"
      ],
      "execution_count": 0,
      "outputs": []
    },
    {
      "cell_type": "code",
      "metadata": {
        "id": "OcUeUINdGd68",
        "colab_type": "code",
        "colab": {}
      },
      "source": [
        "#Investigate if the data has missing values\n",
        "# If less drop or else try imputing using some method"
      ],
      "execution_count": 0,
      "outputs": []
    },
    {
      "cell_type": "code",
      "metadata": {
        "id": "S2EYk_mQGd7A",
        "colab_type": "code",
        "colab": {}
      },
      "source": [
        "# Computes pairwise correlation of columns, excluding NA/null values.\n",
        "# various methods available are: {‘pearson’, ‘kendall’, ‘spearman’} or callable\n",
        "# Pearson correlation: measures the linear association between continuous variables.\n",
        "# Spearman's rank correlation: measures monotonic association (only strictly increasing or decreasing, but not mixed) \n",
        "# This makes it appropriate to use with both continuous and discrete data.\n",
        "# Kendall correlation: works well for discrete data\n",
        "s.corr()"
      ],
      "execution_count": 0,
      "outputs": []
    },
    {
      "cell_type": "code",
      "metadata": {
        "id": "s3DGnpSxGd7F",
        "colab_type": "code",
        "colab": {}
      },
      "source": [
        "#Plotting the values in a heatmap\n",
        "sns.heatmap(s.corr())"
      ],
      "execution_count": 0,
      "outputs": []
    },
    {
      "cell_type": "code",
      "metadata": {
        "id": "3mma-AH9Gd7J",
        "colab_type": "code",
        "colab": {}
      },
      "source": [
        "#relation between two can be found as\n",
        "s['AAPL'].corr(s['AAPL'])"
      ],
      "execution_count": 0,
      "outputs": []
    },
    {
      "cell_type": "code",
      "metadata": {
        "id": "RnRp1vsgGd7a",
        "colab_type": "code",
        "colab": {}
      },
      "source": [
        ""
      ],
      "execution_count": 0,
      "outputs": []
    },
    {
      "cell_type": "markdown",
      "metadata": {
        "id": "kq2G_3ydGd7e",
        "colab_type": "text"
      },
      "source": [
        "## auto correlation\n",
        "\n",
        "    correlation between the elements of a series and others from the same series separated from them by a given interval."
      ]
    },
    {
      "cell_type": "code",
      "metadata": {
        "id": "8k01gqk1Gd7f",
        "colab_type": "code",
        "colab": {}
      },
      "source": [
        "from statsmodels.tsa.stattools import *\n",
        "from statsmodels.graphics.tsaplots import *"
      ],
      "execution_count": 0,
      "outputs": []
    },
    {
      "cell_type": "code",
      "metadata": {
        "id": "9RVV-HMtGd7k",
        "colab_type": "code",
        "colab": {}
      },
      "source": [
        "#The NumPy linspace function (sometimes called np.linspace) is a tool in Python for creating numeric sequences.\n",
        "# Trigonometric sine\n",
        "data = np.sin(np.linspace(start=0,stop=100,num=100))"
      ],
      "execution_count": 0,
      "outputs": []
    },
    {
      "cell_type": "code",
      "metadata": {
        "id": "Is1W5ckJGd7o",
        "colab_type": "code",
        "colab": {}
      },
      "source": [
        "# Autocorrelation function for 1d arrays.\n",
        "# correlation between the elements of a series and others from the same series separated from them by a given interval.\n",
        "ac_res = acf(data, nlags=100)\n"
      ],
      "execution_count": 0,
      "outputs": []
    },
    {
      "cell_type": "code",
      "metadata": {
        "id": "JbPo9wF5Gd7t",
        "colab_type": "code",
        "colab": {}
      },
      "source": [
        "plt.plot(ac_res)\n",
        "plt.axhline(y=-1.96/np.sqrt(800), linestyle='--')\n",
        "plt.axhline(y=1.96/np.sqrt(800), linestyle='--')"
      ],
      "execution_count": 0,
      "outputs": []
    },
    {
      "cell_type": "code",
      "metadata": {
        "id": "euwVA5Y8Gd7z",
        "colab_type": "code",
        "colab": {}
      },
      "source": [
        "ap = pd.read_csv(colab_path+'data/AirPassengers.csv', header=0, parse_dates=[0], index_col=0)"
      ],
      "execution_count": 0,
      "outputs": []
    },
    {
      "cell_type": "code",
      "metadata": {
        "id": "SlPuvI6QGd72",
        "colab_type": "code",
        "colab": {}
      },
      "source": [
        "ap.plot()"
      ],
      "execution_count": 0,
      "outputs": []
    },
    {
      "cell_type": "code",
      "metadata": {
        "id": "oCDdTuMGGd77",
        "colab_type": "code",
        "colab": {}
      },
      "source": [
        "plt.plot(acf(ap))"
      ],
      "execution_count": 0,
      "outputs": []
    },
    {
      "cell_type": "code",
      "metadata": {
        "id": "3b-3ktcRGd7-",
        "colab_type": "code",
        "colab": {}
      },
      "source": [
        "ac_plot = plot_acf(ap)"
      ],
      "execution_count": 0,
      "outputs": []
    },
    {
      "cell_type": "code",
      "metadata": {
        "id": "-Oc0Eb8wGd8C",
        "colab_type": "code",
        "colab": {}
      },
      "source": [
        "dtrend_ap = np.log(ap).diff().dropna()"
      ],
      "execution_count": 0,
      "outputs": []
    },
    {
      "cell_type": "code",
      "metadata": {
        "id": "ekAHgfhlGd8F",
        "colab_type": "code",
        "colab": {}
      },
      "source": [
        "dtrend_ap.plot()"
      ],
      "execution_count": 0,
      "outputs": []
    },
    {
      "cell_type": "code",
      "metadata": {
        "id": "Y73uSCj4Gd8I",
        "colab_type": "code",
        "colab": {}
      },
      "source": [
        "acf_plot = plot_acf(dtrend_ap)"
      ],
      "execution_count": 0,
      "outputs": []
    },
    {
      "cell_type": "code",
      "metadata": {
        "id": "kuatoefiGd8L",
        "colab_type": "code",
        "colab": {}
      },
      "source": [
        "# Q5:\n",
        "# read \"../data/stock_data.csv\"\n",
        "# Plot acf using statsmodels for IBM stock data\n",
        "# detrend \n",
        "# plot the detrend data"
      ],
      "execution_count": 0,
      "outputs": []
    },
    {
      "cell_type": "code",
      "metadata": {
        "id": "ORKAF9yQGd8O",
        "colab_type": "code",
        "colab": {}
      },
      "source": [
        ""
      ],
      "execution_count": 0,
      "outputs": []
    }
  ]
}