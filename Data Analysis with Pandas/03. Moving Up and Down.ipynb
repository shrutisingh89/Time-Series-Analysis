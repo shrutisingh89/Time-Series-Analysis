{
  "nbformat": 4,
  "nbformat_minor": 0,
  "metadata": {
    "kernelspec": {
      "display_name": "Python 3",
      "language": "python",
      "name": "python3"
    },
    "language_info": {
      "codemirror_mode": {
        "name": "ipython",
        "version": 3
      },
      "file_extension": ".py",
      "mimetype": "text/x-python",
      "name": "python",
      "nbconvert_exporter": "python",
      "pygments_lexer": "ipython3",
      "version": "3.8.2-final"
    },
    "colab": {
      "name": "03. Moving Up and Down.ipynb",
      "version": "0.3.2",
      "provenance": []
    }
  },
  "cells": [
    {
      "cell_type": "code",
      "metadata": {
        "id": "2lkctECUGda5",
        "colab_type": "code",
        "colab": {}
      },
      "source": [
        "import pandas as pd"
      ],
      "execution_count": 1,
      "outputs": []
    },
    {
      "cell_type": "markdown",
      "metadata": {
        "id": "cCWBO4KTGda-",
        "colab_type": "text"
      },
      "source": [
        "# Moving Up and Down\n",
        "\n",
        "\n",
        "## asfreq\n",
        "\n",
        "   Convert TimeSeries to specified frequency.Optionally provide filling method to pad/backfill missing values.\n",
        "\n",
        "Frequency strings can be found here:\n",
        "* https://pandas.pydata.org/pandas-docs/stable/user_guide/timeseries.html#offset-aliases\n"
      ]
    },
    {
      "cell_type": "code",
      "metadata": {
        "id": "cH5pugSnGda_",
        "colab_type": "code",
        "colab": {}
      },
      "source": [
        "df = pd.read_csv('../data/stock_data.csv', parse_dates=[0], index_col=0)"
      ],
      "execution_count": 2,
      "outputs": []
    },
    {
      "cell_type": "code",
      "metadata": {
        "id": "Of_K8p5PGdbD",
        "colab_type": "code",
        "colab": {}
      },
      "source": [
        "df.index"
      ],
      "execution_count": 3,
      "outputs": [
        {
          "output_type": "execute_result",
          "data": {
            "text/plain": [
              "DatetimeIndex(['2007-10-29', '2007-10-30', '2007-10-31', '2007-11-01',\n",
              "               '2007-11-02', '2007-11-05', '2007-11-06', '2007-11-07',\n",
              "               '2007-11-08', '2007-11-09',\n",
              "               ...\n",
              "               '2011-10-03', '2011-10-04', '2011-10-05', '2011-10-06',\n",
              "               '2011-10-07', '2011-10-10', '2011-10-11', '2011-10-12',\n",
              "               '2011-10-13', '2011-10-14'],\n",
              "              dtype='datetime64[ns]', name='date', length=1000, freq=None)"
            ]
          },
          "metadata": {},
          "execution_count": 3
        }
      ]
    },
    {
      "cell_type": "code",
      "metadata": {
        "id": "-PyQcksuGdbG",
        "colab_type": "code",
        "colab": {}
      },
      "source": [
        "#daily frequency\n",
        "df.asfreq('12H').index"
      ],
      "execution_count": 4,
      "outputs": [
        {
          "output_type": "execute_result",
          "data": {
            "text/plain": [
              "DatetimeIndex(['2007-10-29 00:00:00', '2007-10-29 12:00:00',\n",
              "               '2007-10-30 00:00:00', '2007-10-30 12:00:00',\n",
              "               '2007-10-31 00:00:00', '2007-10-31 12:00:00',\n",
              "               '2007-11-01 00:00:00', '2007-11-01 12:00:00',\n",
              "               '2007-11-02 00:00:00', '2007-11-02 12:00:00',\n",
              "               ...\n",
              "               '2011-10-09 12:00:00', '2011-10-10 00:00:00',\n",
              "               '2011-10-10 12:00:00', '2011-10-11 00:00:00',\n",
              "               '2011-10-11 12:00:00', '2011-10-12 00:00:00',\n",
              "               '2011-10-12 12:00:00', '2011-10-13 00:00:00',\n",
              "               '2011-10-13 12:00:00', '2011-10-14 00:00:00'],\n",
              "              dtype='datetime64[ns]', name='date', length=2893, freq='12H')"
            ]
          },
          "metadata": {},
          "execution_count": 4
        }
      ]
    },
    {
      "cell_type": "code",
      "metadata": {
        "id": "yvS6NMkcGdbJ",
        "colab_type": "code",
        "colab": {}
      },
      "source": [
        "df.asfreq?"
      ],
      "execution_count": 6,
      "outputs": [
        {
          "output_type": "stream",
          "text": [
            "\u001b[1;31mSignature:\u001b[0m\n",
            "\u001b[0mdf\u001b[0m\u001b[1;33m.\u001b[0m\u001b[0masfreq\u001b[0m\u001b[1;33m(\u001b[0m\u001b[1;33m\n",
            "\u001b[0m    \u001b[0mfreq\u001b[0m\u001b[1;33m,\u001b[0m\u001b[1;33m\n",
            "\u001b[0m    \u001b[0mmethod\u001b[0m\u001b[1;33m=\u001b[0m\u001b[1;32mNone\u001b[0m\u001b[1;33m,\u001b[0m\u001b[1;33m\n",
            "\u001b[0m    \u001b[0mhow\u001b[0m\u001b[1;33m:\u001b[0m \u001b[0mUnion\u001b[0m\u001b[1;33m[\u001b[0m\u001b[0mstr\u001b[0m\u001b[1;33m,\u001b[0m \u001b[0mNoneType\u001b[0m\u001b[1;33m]\u001b[0m \u001b[1;33m=\u001b[0m \u001b[1;32mNone\u001b[0m\u001b[1;33m,\u001b[0m\u001b[1;33m\n",
            "\u001b[0m    \u001b[0mnormalize\u001b[0m\u001b[1;33m:\u001b[0m \u001b[0mbool\u001b[0m \u001b[1;33m=\u001b[0m \u001b[1;32mFalse\u001b[0m\u001b[1;33m,\u001b[0m\u001b[1;33m\n",
            "\u001b[0m    \u001b[0mfill_value\u001b[0m\u001b[1;33m=\u001b[0m\u001b[1;32mNone\u001b[0m\u001b[1;33m,\u001b[0m\u001b[1;33m\n",
            "\u001b[0m\u001b[1;33m)\u001b[0m \u001b[1;33m->\u001b[0m \u001b[1;33m~\u001b[0m\u001b[0mFrameOrSeries\u001b[0m\u001b[1;33m\u001b[0m\u001b[1;33m\u001b[0m\u001b[0m\n",
            "\u001b[1;31mDocstring:\u001b[0m\n",
            "Convert TimeSeries to specified frequency.\n",
            "\n",
            "Optionally provide filling method to pad/backfill missing values.\n",
            "\n",
            "Returns the original data conformed to a new index with the specified\n",
            "frequency. ``resample`` is more appropriate if an operation, such as\n",
            "summarization, is necessary to represent the data at the new frequency.\n",
            "\n",
            "Parameters\n",
            "----------\n",
            "freq : DateOffset or str\n",
            "method : {'backfill'/'bfill', 'pad'/'ffill'}, default None\n",
            "    Method to use for filling holes in reindexed Series (note this\n",
            "    does not fill NaNs that already were present):\n",
            "\n",
            "    * 'pad' / 'ffill': propagate last valid observation forward to next\n",
            "      valid\n",
            "    * 'backfill' / 'bfill': use NEXT valid observation to fill.\n",
            "how : {'start', 'end'}, default end\n",
            "    For PeriodIndex only (see PeriodIndex.asfreq).\n",
            "normalize : bool, default False\n",
            "    Whether to reset output index to midnight.\n",
            "fill_value : scalar, optional\n",
            "    Value to use for missing values, applied during upsampling (note\n",
            "    this does not fill NaNs that already were present).\n",
            "\n",
            "Returns\n",
            "-------\n",
            "converted : same type as caller\n",
            "\n",
            "See Also\n",
            "--------\n",
            "reindex\n",
            "\n",
            "Notes\n",
            "-----\n",
            "To learn more about the frequency strings, please see `this link\n",
            "<https://pandas.pydata.org/pandas-docs/stable/user_guide/timeseries.html#offset-aliases>`__.\n",
            "\n",
            "Examples\n",
            "--------\n",
            "\n",
            "Start by creating a series with 4 one minute timestamps.\n",
            "\n",
            ">>> index = pd.date_range('1/1/2000', periods=4, freq='T')\n",
            ">>> series = pd.Series([0.0, None, 2.0, 3.0], index=index)\n",
            ">>> df = pd.DataFrame({'s':series})\n",
            ">>> df\n",
            "                       s\n",
            "2000-01-01 00:00:00    0.0\n",
            "2000-01-01 00:01:00    NaN\n",
            "2000-01-01 00:02:00    2.0\n",
            "2000-01-01 00:03:00    3.0\n",
            "\n",
            "Upsample the series into 30 second bins.\n",
            "\n",
            ">>> df.asfreq(freq='30S')\n",
            "                       s\n",
            "2000-01-01 00:00:00    0.0\n",
            "2000-01-01 00:00:30    NaN\n",
            "2000-01-01 00:01:00    NaN\n",
            "2000-01-01 00:01:30    NaN\n",
            "2000-01-01 00:02:00    2.0\n",
            "2000-01-01 00:02:30    NaN\n",
            "2000-01-01 00:03:00    3.0\n",
            "\n",
            "Upsample again, providing a ``fill value``.\n",
            "\n",
            ">>> df.asfreq(freq='30S', fill_value=9.0)\n",
            "                       s\n",
            "2000-01-01 00:00:00    0.0\n",
            "2000-01-01 00:00:30    9.0\n",
            "2000-01-01 00:01:00    NaN\n",
            "2000-01-01 00:01:30    9.0\n",
            "2000-01-01 00:02:00    2.0\n",
            "2000-01-01 00:02:30    9.0\n",
            "2000-01-01 00:03:00    3.0\n",
            "\n",
            "Upsample again, providing a ``method``.\n",
            "\n",
            ">>> df.asfreq(freq='30S', method='bfill')\n",
            "                       s\n",
            "2000-01-01 00:00:00    0.0\n",
            "2000-01-01 00:00:30    NaN\n",
            "2000-01-01 00:01:00    NaN\n",
            "2000-01-01 00:01:30    2.0\n",
            "2000-01-01 00:02:00    2.0\n",
            "2000-01-01 00:02:30    3.0\n",
            "2000-01-01 00:03:00    3.0\n",
            "\u001b[1;31mFile:\u001b[0m      c:\\users\\hp\\appdata\\local\\programs\\python\\python38\\lib\\site-packages\\pandas\\core\\generic.py\n",
            "\u001b[1;31mType:\u001b[0m      method\n"
          ],
          "name": "stdout"
        }
      ]
    },
    {
      "cell_type": "code",
      "metadata": {
        "id": "aSfeVALsGdbL",
        "colab_type": "code",
        "colab": {}
      },
      "source": [
        "df = df.asfreq('12H')"
      ],
      "execution_count": 7,
      "outputs": []
    },
    {
      "cell_type": "code",
      "metadata": {
        "id": "AgACx7iqGdbO",
        "colab_type": "code",
        "colab": {}
      },
      "source": [
        "df"
      ],
      "execution_count": 8,
      "outputs": [
        {
          "output_type": "execute_result",
          "data": {
            "text/plain": [
              "                        AA    AAPL     GE     IBM    JNJ   MSFT    PEP  \\\n",
              "date                                                                     \n",
              "2007-10-29 00:00:00  37.41  185.09  34.46  106.78  57.13  31.78  65.67   \n",
              "2007-10-29 12:00:00    NaN     NaN    NaN     NaN    NaN    NaN    NaN   \n",
              "2007-10-30 00:00:00  36.43  187.00  34.39  106.15  56.99  32.70  65.80   \n",
              "2007-10-30 12:00:00    NaN     NaN    NaN     NaN    NaN    NaN    NaN   \n",
              "2007-10-31 00:00:00  36.79  189.95  34.97  108.01  57.30  33.84  65.69   \n",
              "...                    ...     ...    ...     ...    ...    ...    ...   \n",
              "2011-10-12 00:00:00  10.05  402.19  16.40  186.12  64.33  26.96  62.70   \n",
              "2011-10-12 12:00:00    NaN     NaN    NaN     NaN    NaN    NaN    NaN   \n",
              "2011-10-13 00:00:00  10.10  408.43  16.22  186.82  64.23  27.18  62.36   \n",
              "2011-10-13 12:00:00    NaN     NaN    NaN     NaN    NaN    NaN    NaN   \n",
              "2011-10-14 00:00:00  10.26  422.00  16.60  190.53  64.72  27.27  62.24   \n",
              "\n",
              "                         SPX    XOM  \n",
              "date                                 \n",
              "2007-10-29 00:00:00  1540.98  85.51  \n",
              "2007-10-29 12:00:00      NaN    NaN  \n",
              "2007-10-30 00:00:00  1531.02  83.25  \n",
              "2007-10-30 12:00:00      NaN    NaN  \n",
              "2007-10-31 00:00:00  1549.38  84.03  \n",
              "...                      ...    ...  \n",
              "2011-10-12 00:00:00  1207.25  77.16  \n",
              "2011-10-12 12:00:00      NaN    NaN  \n",
              "2011-10-13 00:00:00  1203.66  76.37  \n",
              "2011-10-13 12:00:00      NaN    NaN  \n",
              "2011-10-14 00:00:00  1224.58  78.11  \n",
              "\n",
              "[2893 rows x 9 columns]"
            ],
            "text/html": "<div>\n<style scoped>\n    .dataframe tbody tr th:only-of-type {\n        vertical-align: middle;\n    }\n\n    .dataframe tbody tr th {\n        vertical-align: top;\n    }\n\n    .dataframe thead th {\n        text-align: right;\n    }\n</style>\n<table border=\"1\" class=\"dataframe\">\n  <thead>\n    <tr style=\"text-align: right;\">\n      <th></th>\n      <th>AA</th>\n      <th>AAPL</th>\n      <th>GE</th>\n      <th>IBM</th>\n      <th>JNJ</th>\n      <th>MSFT</th>\n      <th>PEP</th>\n      <th>SPX</th>\n      <th>XOM</th>\n    </tr>\n    <tr>\n      <th>date</th>\n      <th></th>\n      <th></th>\n      <th></th>\n      <th></th>\n      <th></th>\n      <th></th>\n      <th></th>\n      <th></th>\n      <th></th>\n    </tr>\n  </thead>\n  <tbody>\n    <tr>\n      <th>2007-10-29 00:00:00</th>\n      <td>37.41</td>\n      <td>185.09</td>\n      <td>34.46</td>\n      <td>106.78</td>\n      <td>57.13</td>\n      <td>31.78</td>\n      <td>65.67</td>\n      <td>1540.98</td>\n      <td>85.51</td>\n    </tr>\n    <tr>\n      <th>2007-10-29 12:00:00</th>\n      <td>NaN</td>\n      <td>NaN</td>\n      <td>NaN</td>\n      <td>NaN</td>\n      <td>NaN</td>\n      <td>NaN</td>\n      <td>NaN</td>\n      <td>NaN</td>\n      <td>NaN</td>\n    </tr>\n    <tr>\n      <th>2007-10-30 00:00:00</th>\n      <td>36.43</td>\n      <td>187.00</td>\n      <td>34.39</td>\n      <td>106.15</td>\n      <td>56.99</td>\n      <td>32.70</td>\n      <td>65.80</td>\n      <td>1531.02</td>\n      <td>83.25</td>\n    </tr>\n    <tr>\n      <th>2007-10-30 12:00:00</th>\n      <td>NaN</td>\n      <td>NaN</td>\n      <td>NaN</td>\n      <td>NaN</td>\n      <td>NaN</td>\n      <td>NaN</td>\n      <td>NaN</td>\n      <td>NaN</td>\n      <td>NaN</td>\n    </tr>\n    <tr>\n      <th>2007-10-31 00:00:00</th>\n      <td>36.79</td>\n      <td>189.95</td>\n      <td>34.97</td>\n      <td>108.01</td>\n      <td>57.30</td>\n      <td>33.84</td>\n      <td>65.69</td>\n      <td>1549.38</td>\n      <td>84.03</td>\n    </tr>\n    <tr>\n      <th>...</th>\n      <td>...</td>\n      <td>...</td>\n      <td>...</td>\n      <td>...</td>\n      <td>...</td>\n      <td>...</td>\n      <td>...</td>\n      <td>...</td>\n      <td>...</td>\n    </tr>\n    <tr>\n      <th>2011-10-12 00:00:00</th>\n      <td>10.05</td>\n      <td>402.19</td>\n      <td>16.40</td>\n      <td>186.12</td>\n      <td>64.33</td>\n      <td>26.96</td>\n      <td>62.70</td>\n      <td>1207.25</td>\n      <td>77.16</td>\n    </tr>\n    <tr>\n      <th>2011-10-12 12:00:00</th>\n      <td>NaN</td>\n      <td>NaN</td>\n      <td>NaN</td>\n      <td>NaN</td>\n      <td>NaN</td>\n      <td>NaN</td>\n      <td>NaN</td>\n      <td>NaN</td>\n      <td>NaN</td>\n    </tr>\n    <tr>\n      <th>2011-10-13 00:00:00</th>\n      <td>10.10</td>\n      <td>408.43</td>\n      <td>16.22</td>\n      <td>186.82</td>\n      <td>64.23</td>\n      <td>27.18</td>\n      <td>62.36</td>\n      <td>1203.66</td>\n      <td>76.37</td>\n    </tr>\n    <tr>\n      <th>2011-10-13 12:00:00</th>\n      <td>NaN</td>\n      <td>NaN</td>\n      <td>NaN</td>\n      <td>NaN</td>\n      <td>NaN</td>\n      <td>NaN</td>\n      <td>NaN</td>\n      <td>NaN</td>\n      <td>NaN</td>\n    </tr>\n    <tr>\n      <th>2011-10-14 00:00:00</th>\n      <td>10.26</td>\n      <td>422.00</td>\n      <td>16.60</td>\n      <td>190.53</td>\n      <td>64.72</td>\n      <td>27.27</td>\n      <td>62.24</td>\n      <td>1224.58</td>\n      <td>78.11</td>\n    </tr>\n  </tbody>\n</table>\n<p>2893 rows × 9 columns</p>\n</div>"
          },
          "metadata": {},
          "execution_count": 8
        }
      ]
    },
    {
      "cell_type": "code",
      "metadata": {
        "id": "GmNPGuxNGdbR",
        "colab_type": "code",
        "colab": {}
      },
      "source": [
        "df.loc['2011-10-13 00:00']"
      ],
      "execution_count": 9,
      "outputs": [
        {
          "output_type": "execute_result",
          "data": {
            "text/plain": [
              "AA        10.10\n",
              "AAPL     408.43\n",
              "GE        16.22\n",
              "IBM      186.82\n",
              "JNJ       64.23\n",
              "MSFT      27.18\n",
              "PEP       62.36\n",
              "SPX     1203.66\n",
              "XOM       76.37\n",
              "Name: 2011-10-13 00:00:00, dtype: float64"
            ]
          },
          "metadata": {},
          "execution_count": 9
        }
      ]
    },
    {
      "cell_type": "code",
      "metadata": {
        "id": "YE4Y-AOYGdbU",
        "colab_type": "code",
        "colab": {}
      },
      "source": [
        "# Hours to Days --> Downsampling\n",
        "df.asfreq('D')"
      ],
      "execution_count": 10,
      "outputs": [
        {
          "output_type": "execute_result",
          "data": {
            "text/plain": [
              "               AA    AAPL     GE     IBM    JNJ   MSFT    PEP      SPX    XOM\n",
              "date                                                                         \n",
              "2007-10-29  37.41  185.09  34.46  106.78  57.13  31.78  65.67  1540.98  85.51\n",
              "2007-10-30  36.43  187.00  34.39  106.15  56.99  32.70  65.80  1531.02  83.25\n",
              "2007-10-31  36.79  189.95  34.97  108.01  57.30  33.84  65.69  1549.38  84.03\n",
              "2007-11-01  35.22  187.44  34.27  105.72  56.85  34.07  64.51  1508.44  80.84\n",
              "2007-11-02  35.83  187.87  34.27  106.59  56.95  34.07  65.03  1509.65  80.32\n",
              "...           ...     ...    ...     ...    ...    ...    ...      ...    ...\n",
              "2011-10-10  10.09  388.81  16.14  186.62  64.43  26.94  61.87  1194.89  76.28\n",
              "2011-10-11  10.30  400.29  16.14  185.00  63.96  27.00  60.95  1195.54  76.27\n",
              "2011-10-12  10.05  402.19  16.40  186.12  64.33  26.96  62.70  1207.25  77.16\n",
              "2011-10-13  10.10  408.43  16.22  186.82  64.23  27.18  62.36  1203.66  76.37\n",
              "2011-10-14  10.26  422.00  16.60  190.53  64.72  27.27  62.24  1224.58  78.11\n",
              "\n",
              "[1447 rows x 9 columns]"
            ],
            "text/html": "<div>\n<style scoped>\n    .dataframe tbody tr th:only-of-type {\n        vertical-align: middle;\n    }\n\n    .dataframe tbody tr th {\n        vertical-align: top;\n    }\n\n    .dataframe thead th {\n        text-align: right;\n    }\n</style>\n<table border=\"1\" class=\"dataframe\">\n  <thead>\n    <tr style=\"text-align: right;\">\n      <th></th>\n      <th>AA</th>\n      <th>AAPL</th>\n      <th>GE</th>\n      <th>IBM</th>\n      <th>JNJ</th>\n      <th>MSFT</th>\n      <th>PEP</th>\n      <th>SPX</th>\n      <th>XOM</th>\n    </tr>\n    <tr>\n      <th>date</th>\n      <th></th>\n      <th></th>\n      <th></th>\n      <th></th>\n      <th></th>\n      <th></th>\n      <th></th>\n      <th></th>\n      <th></th>\n    </tr>\n  </thead>\n  <tbody>\n    <tr>\n      <th>2007-10-29</th>\n      <td>37.41</td>\n      <td>185.09</td>\n      <td>34.46</td>\n      <td>106.78</td>\n      <td>57.13</td>\n      <td>31.78</td>\n      <td>65.67</td>\n      <td>1540.98</td>\n      <td>85.51</td>\n    </tr>\n    <tr>\n      <th>2007-10-30</th>\n      <td>36.43</td>\n      <td>187.00</td>\n      <td>34.39</td>\n      <td>106.15</td>\n      <td>56.99</td>\n      <td>32.70</td>\n      <td>65.80</td>\n      <td>1531.02</td>\n      <td>83.25</td>\n    </tr>\n    <tr>\n      <th>2007-10-31</th>\n      <td>36.79</td>\n      <td>189.95</td>\n      <td>34.97</td>\n      <td>108.01</td>\n      <td>57.30</td>\n      <td>33.84</td>\n      <td>65.69</td>\n      <td>1549.38</td>\n      <td>84.03</td>\n    </tr>\n    <tr>\n      <th>2007-11-01</th>\n      <td>35.22</td>\n      <td>187.44</td>\n      <td>34.27</td>\n      <td>105.72</td>\n      <td>56.85</td>\n      <td>34.07</td>\n      <td>64.51</td>\n      <td>1508.44</td>\n      <td>80.84</td>\n    </tr>\n    <tr>\n      <th>2007-11-02</th>\n      <td>35.83</td>\n      <td>187.87</td>\n      <td>34.27</td>\n      <td>106.59</td>\n      <td>56.95</td>\n      <td>34.07</td>\n      <td>65.03</td>\n      <td>1509.65</td>\n      <td>80.32</td>\n    </tr>\n    <tr>\n      <th>...</th>\n      <td>...</td>\n      <td>...</td>\n      <td>...</td>\n      <td>...</td>\n      <td>...</td>\n      <td>...</td>\n      <td>...</td>\n      <td>...</td>\n      <td>...</td>\n    </tr>\n    <tr>\n      <th>2011-10-10</th>\n      <td>10.09</td>\n      <td>388.81</td>\n      <td>16.14</td>\n      <td>186.62</td>\n      <td>64.43</td>\n      <td>26.94</td>\n      <td>61.87</td>\n      <td>1194.89</td>\n      <td>76.28</td>\n    </tr>\n    <tr>\n      <th>2011-10-11</th>\n      <td>10.30</td>\n      <td>400.29</td>\n      <td>16.14</td>\n      <td>185.00</td>\n      <td>63.96</td>\n      <td>27.00</td>\n      <td>60.95</td>\n      <td>1195.54</td>\n      <td>76.27</td>\n    </tr>\n    <tr>\n      <th>2011-10-12</th>\n      <td>10.05</td>\n      <td>402.19</td>\n      <td>16.40</td>\n      <td>186.12</td>\n      <td>64.33</td>\n      <td>26.96</td>\n      <td>62.70</td>\n      <td>1207.25</td>\n      <td>77.16</td>\n    </tr>\n    <tr>\n      <th>2011-10-13</th>\n      <td>10.10</td>\n      <td>408.43</td>\n      <td>16.22</td>\n      <td>186.82</td>\n      <td>64.23</td>\n      <td>27.18</td>\n      <td>62.36</td>\n      <td>1203.66</td>\n      <td>76.37</td>\n    </tr>\n    <tr>\n      <th>2011-10-14</th>\n      <td>10.26</td>\n      <td>422.00</td>\n      <td>16.60</td>\n      <td>190.53</td>\n      <td>64.72</td>\n      <td>27.27</td>\n      <td>62.24</td>\n      <td>1224.58</td>\n      <td>78.11</td>\n    </tr>\n  </tbody>\n</table>\n<p>1447 rows × 9 columns</p>\n</div>"
          },
          "metadata": {},
          "execution_count": 10
        }
      ]
    },
    {
      "cell_type": "code",
      "metadata": {
        "id": "8AoCzUlXGdbd",
        "colab_type": "code",
        "colab": {}
      },
      "source": [
        "# Days to hours --> Upsampling\n",
        "df.asfreq('8H')"
      ],
      "execution_count": 11,
      "outputs": [
        {
          "output_type": "execute_result",
          "data": {
            "text/plain": [
              "                        AA    AAPL     GE     IBM    JNJ   MSFT    PEP  \\\n",
              "date                                                                     \n",
              "2007-10-29 00:00:00  37.41  185.09  34.46  106.78  57.13  31.78  65.67   \n",
              "2007-10-29 08:00:00    NaN     NaN    NaN     NaN    NaN    NaN    NaN   \n",
              "2007-10-29 16:00:00    NaN     NaN    NaN     NaN    NaN    NaN    NaN   \n",
              "2007-10-30 00:00:00  36.43  187.00  34.39  106.15  56.99  32.70  65.80   \n",
              "2007-10-30 08:00:00    NaN     NaN    NaN     NaN    NaN    NaN    NaN   \n",
              "...                    ...     ...    ...     ...    ...    ...    ...   \n",
              "2011-10-12 16:00:00    NaN     NaN    NaN     NaN    NaN    NaN    NaN   \n",
              "2011-10-13 00:00:00  10.10  408.43  16.22  186.82  64.23  27.18  62.36   \n",
              "2011-10-13 08:00:00    NaN     NaN    NaN     NaN    NaN    NaN    NaN   \n",
              "2011-10-13 16:00:00    NaN     NaN    NaN     NaN    NaN    NaN    NaN   \n",
              "2011-10-14 00:00:00  10.26  422.00  16.60  190.53  64.72  27.27  62.24   \n",
              "\n",
              "                         SPX    XOM  \n",
              "date                                 \n",
              "2007-10-29 00:00:00  1540.98  85.51  \n",
              "2007-10-29 08:00:00      NaN    NaN  \n",
              "2007-10-29 16:00:00      NaN    NaN  \n",
              "2007-10-30 00:00:00  1531.02  83.25  \n",
              "2007-10-30 08:00:00      NaN    NaN  \n",
              "...                      ...    ...  \n",
              "2011-10-12 16:00:00      NaN    NaN  \n",
              "2011-10-13 00:00:00  1203.66  76.37  \n",
              "2011-10-13 08:00:00      NaN    NaN  \n",
              "2011-10-13 16:00:00      NaN    NaN  \n",
              "2011-10-14 00:00:00  1224.58  78.11  \n",
              "\n",
              "[4339 rows x 9 columns]"
            ],
            "text/html": "<div>\n<style scoped>\n    .dataframe tbody tr th:only-of-type {\n        vertical-align: middle;\n    }\n\n    .dataframe tbody tr th {\n        vertical-align: top;\n    }\n\n    .dataframe thead th {\n        text-align: right;\n    }\n</style>\n<table border=\"1\" class=\"dataframe\">\n  <thead>\n    <tr style=\"text-align: right;\">\n      <th></th>\n      <th>AA</th>\n      <th>AAPL</th>\n      <th>GE</th>\n      <th>IBM</th>\n      <th>JNJ</th>\n      <th>MSFT</th>\n      <th>PEP</th>\n      <th>SPX</th>\n      <th>XOM</th>\n    </tr>\n    <tr>\n      <th>date</th>\n      <th></th>\n      <th></th>\n      <th></th>\n      <th></th>\n      <th></th>\n      <th></th>\n      <th></th>\n      <th></th>\n      <th></th>\n    </tr>\n  </thead>\n  <tbody>\n    <tr>\n      <th>2007-10-29 00:00:00</th>\n      <td>37.41</td>\n      <td>185.09</td>\n      <td>34.46</td>\n      <td>106.78</td>\n      <td>57.13</td>\n      <td>31.78</td>\n      <td>65.67</td>\n      <td>1540.98</td>\n      <td>85.51</td>\n    </tr>\n    <tr>\n      <th>2007-10-29 08:00:00</th>\n      <td>NaN</td>\n      <td>NaN</td>\n      <td>NaN</td>\n      <td>NaN</td>\n      <td>NaN</td>\n      <td>NaN</td>\n      <td>NaN</td>\n      <td>NaN</td>\n      <td>NaN</td>\n    </tr>\n    <tr>\n      <th>2007-10-29 16:00:00</th>\n      <td>NaN</td>\n      <td>NaN</td>\n      <td>NaN</td>\n      <td>NaN</td>\n      <td>NaN</td>\n      <td>NaN</td>\n      <td>NaN</td>\n      <td>NaN</td>\n      <td>NaN</td>\n    </tr>\n    <tr>\n      <th>2007-10-30 00:00:00</th>\n      <td>36.43</td>\n      <td>187.00</td>\n      <td>34.39</td>\n      <td>106.15</td>\n      <td>56.99</td>\n      <td>32.70</td>\n      <td>65.80</td>\n      <td>1531.02</td>\n      <td>83.25</td>\n    </tr>\n    <tr>\n      <th>2007-10-30 08:00:00</th>\n      <td>NaN</td>\n      <td>NaN</td>\n      <td>NaN</td>\n      <td>NaN</td>\n      <td>NaN</td>\n      <td>NaN</td>\n      <td>NaN</td>\n      <td>NaN</td>\n      <td>NaN</td>\n    </tr>\n    <tr>\n      <th>...</th>\n      <td>...</td>\n      <td>...</td>\n      <td>...</td>\n      <td>...</td>\n      <td>...</td>\n      <td>...</td>\n      <td>...</td>\n      <td>...</td>\n      <td>...</td>\n    </tr>\n    <tr>\n      <th>2011-10-12 16:00:00</th>\n      <td>NaN</td>\n      <td>NaN</td>\n      <td>NaN</td>\n      <td>NaN</td>\n      <td>NaN</td>\n      <td>NaN</td>\n      <td>NaN</td>\n      <td>NaN</td>\n      <td>NaN</td>\n    </tr>\n    <tr>\n      <th>2011-10-13 00:00:00</th>\n      <td>10.10</td>\n      <td>408.43</td>\n      <td>16.22</td>\n      <td>186.82</td>\n      <td>64.23</td>\n      <td>27.18</td>\n      <td>62.36</td>\n      <td>1203.66</td>\n      <td>76.37</td>\n    </tr>\n    <tr>\n      <th>2011-10-13 08:00:00</th>\n      <td>NaN</td>\n      <td>NaN</td>\n      <td>NaN</td>\n      <td>NaN</td>\n      <td>NaN</td>\n      <td>NaN</td>\n      <td>NaN</td>\n      <td>NaN</td>\n      <td>NaN</td>\n    </tr>\n    <tr>\n      <th>2011-10-13 16:00:00</th>\n      <td>NaN</td>\n      <td>NaN</td>\n      <td>NaN</td>\n      <td>NaN</td>\n      <td>NaN</td>\n      <td>NaN</td>\n      <td>NaN</td>\n      <td>NaN</td>\n      <td>NaN</td>\n    </tr>\n    <tr>\n      <th>2011-10-14 00:00:00</th>\n      <td>10.26</td>\n      <td>422.00</td>\n      <td>16.60</td>\n      <td>190.53</td>\n      <td>64.72</td>\n      <td>27.27</td>\n      <td>62.24</td>\n      <td>1224.58</td>\n      <td>78.11</td>\n    </tr>\n  </tbody>\n</table>\n<p>4339 rows × 9 columns</p>\n</div>"
          },
          "metadata": {},
          "execution_count": 11
        }
      ]
    },
    {
      "cell_type": "code",
      "metadata": {
        "id": "727TYZP8Gdbh",
        "colab_type": "code",
        "colab": {}
      },
      "source": [
        "# ffill propagate last valid observation forward to next valid\n",
        "# Note: this does not fill NaNs that already were present\n",
        "df.asfreq('4H', method='ffill')"
      ],
      "execution_count": 12,
      "outputs": [
        {
          "output_type": "execute_result",
          "data": {
            "text/plain": [
              "                        AA    AAPL     GE     IBM    JNJ   MSFT    PEP  \\\n",
              "date                                                                     \n",
              "2007-10-29 00:00:00  37.41  185.09  34.46  106.78  57.13  31.78  65.67   \n",
              "2007-10-29 04:00:00  37.41  185.09  34.46  106.78  57.13  31.78  65.67   \n",
              "2007-10-29 08:00:00  37.41  185.09  34.46  106.78  57.13  31.78  65.67   \n",
              "2007-10-29 12:00:00    NaN     NaN    NaN     NaN    NaN    NaN    NaN   \n",
              "2007-10-29 16:00:00    NaN     NaN    NaN     NaN    NaN    NaN    NaN   \n",
              "...                    ...     ...    ...     ...    ...    ...    ...   \n",
              "2011-10-13 08:00:00  10.10  408.43  16.22  186.82  64.23  27.18  62.36   \n",
              "2011-10-13 12:00:00    NaN     NaN    NaN     NaN    NaN    NaN    NaN   \n",
              "2011-10-13 16:00:00    NaN     NaN    NaN     NaN    NaN    NaN    NaN   \n",
              "2011-10-13 20:00:00    NaN     NaN    NaN     NaN    NaN    NaN    NaN   \n",
              "2011-10-14 00:00:00  10.26  422.00  16.60  190.53  64.72  27.27  62.24   \n",
              "\n",
              "                         SPX    XOM  \n",
              "date                                 \n",
              "2007-10-29 00:00:00  1540.98  85.51  \n",
              "2007-10-29 04:00:00  1540.98  85.51  \n",
              "2007-10-29 08:00:00  1540.98  85.51  \n",
              "2007-10-29 12:00:00      NaN    NaN  \n",
              "2007-10-29 16:00:00      NaN    NaN  \n",
              "...                      ...    ...  \n",
              "2011-10-13 08:00:00  1203.66  76.37  \n",
              "2011-10-13 12:00:00      NaN    NaN  \n",
              "2011-10-13 16:00:00      NaN    NaN  \n",
              "2011-10-13 20:00:00      NaN    NaN  \n",
              "2011-10-14 00:00:00  1224.58  78.11  \n",
              "\n",
              "[8677 rows x 9 columns]"
            ],
            "text/html": "<div>\n<style scoped>\n    .dataframe tbody tr th:only-of-type {\n        vertical-align: middle;\n    }\n\n    .dataframe tbody tr th {\n        vertical-align: top;\n    }\n\n    .dataframe thead th {\n        text-align: right;\n    }\n</style>\n<table border=\"1\" class=\"dataframe\">\n  <thead>\n    <tr style=\"text-align: right;\">\n      <th></th>\n      <th>AA</th>\n      <th>AAPL</th>\n      <th>GE</th>\n      <th>IBM</th>\n      <th>JNJ</th>\n      <th>MSFT</th>\n      <th>PEP</th>\n      <th>SPX</th>\n      <th>XOM</th>\n    </tr>\n    <tr>\n      <th>date</th>\n      <th></th>\n      <th></th>\n      <th></th>\n      <th></th>\n      <th></th>\n      <th></th>\n      <th></th>\n      <th></th>\n      <th></th>\n    </tr>\n  </thead>\n  <tbody>\n    <tr>\n      <th>2007-10-29 00:00:00</th>\n      <td>37.41</td>\n      <td>185.09</td>\n      <td>34.46</td>\n      <td>106.78</td>\n      <td>57.13</td>\n      <td>31.78</td>\n      <td>65.67</td>\n      <td>1540.98</td>\n      <td>85.51</td>\n    </tr>\n    <tr>\n      <th>2007-10-29 04:00:00</th>\n      <td>37.41</td>\n      <td>185.09</td>\n      <td>34.46</td>\n      <td>106.78</td>\n      <td>57.13</td>\n      <td>31.78</td>\n      <td>65.67</td>\n      <td>1540.98</td>\n      <td>85.51</td>\n    </tr>\n    <tr>\n      <th>2007-10-29 08:00:00</th>\n      <td>37.41</td>\n      <td>185.09</td>\n      <td>34.46</td>\n      <td>106.78</td>\n      <td>57.13</td>\n      <td>31.78</td>\n      <td>65.67</td>\n      <td>1540.98</td>\n      <td>85.51</td>\n    </tr>\n    <tr>\n      <th>2007-10-29 12:00:00</th>\n      <td>NaN</td>\n      <td>NaN</td>\n      <td>NaN</td>\n      <td>NaN</td>\n      <td>NaN</td>\n      <td>NaN</td>\n      <td>NaN</td>\n      <td>NaN</td>\n      <td>NaN</td>\n    </tr>\n    <tr>\n      <th>2007-10-29 16:00:00</th>\n      <td>NaN</td>\n      <td>NaN</td>\n      <td>NaN</td>\n      <td>NaN</td>\n      <td>NaN</td>\n      <td>NaN</td>\n      <td>NaN</td>\n      <td>NaN</td>\n      <td>NaN</td>\n    </tr>\n    <tr>\n      <th>...</th>\n      <td>...</td>\n      <td>...</td>\n      <td>...</td>\n      <td>...</td>\n      <td>...</td>\n      <td>...</td>\n      <td>...</td>\n      <td>...</td>\n      <td>...</td>\n    </tr>\n    <tr>\n      <th>2011-10-13 08:00:00</th>\n      <td>10.10</td>\n      <td>408.43</td>\n      <td>16.22</td>\n      <td>186.82</td>\n      <td>64.23</td>\n      <td>27.18</td>\n      <td>62.36</td>\n      <td>1203.66</td>\n      <td>76.37</td>\n    </tr>\n    <tr>\n      <th>2011-10-13 12:00:00</th>\n      <td>NaN</td>\n      <td>NaN</td>\n      <td>NaN</td>\n      <td>NaN</td>\n      <td>NaN</td>\n      <td>NaN</td>\n      <td>NaN</td>\n      <td>NaN</td>\n      <td>NaN</td>\n    </tr>\n    <tr>\n      <th>2011-10-13 16:00:00</th>\n      <td>NaN</td>\n      <td>NaN</td>\n      <td>NaN</td>\n      <td>NaN</td>\n      <td>NaN</td>\n      <td>NaN</td>\n      <td>NaN</td>\n      <td>NaN</td>\n      <td>NaN</td>\n    </tr>\n    <tr>\n      <th>2011-10-13 20:00:00</th>\n      <td>NaN</td>\n      <td>NaN</td>\n      <td>NaN</td>\n      <td>NaN</td>\n      <td>NaN</td>\n      <td>NaN</td>\n      <td>NaN</td>\n      <td>NaN</td>\n      <td>NaN</td>\n    </tr>\n    <tr>\n      <th>2011-10-14 00:00:00</th>\n      <td>10.26</td>\n      <td>422.00</td>\n      <td>16.60</td>\n      <td>190.53</td>\n      <td>64.72</td>\n      <td>27.27</td>\n      <td>62.24</td>\n      <td>1224.58</td>\n      <td>78.11</td>\n    </tr>\n  </tbody>\n</table>\n<p>8677 rows × 9 columns</p>\n</div>"
          },
          "metadata": {},
          "execution_count": 12
        }
      ]
    },
    {
      "cell_type": "code",
      "metadata": {
        "id": "LPp1_GhsGdbj",
        "colab_type": "code",
        "colab": {}
      },
      "source": [
        "# bfill use NEXT valid observation to fill\n",
        "# Note: this does not fill NaNs that already were present):\n",
        "df.asfreq('2H',method='bfill')"
      ],
      "execution_count": 13,
      "outputs": [
        {
          "output_type": "execute_result",
          "data": {
            "text/plain": [
              "                        AA    AAPL     GE     IBM    JNJ   MSFT    PEP  \\\n",
              "date                                                                     \n",
              "2007-10-29 00:00:00  37.41  185.09  34.46  106.78  57.13  31.78  65.67   \n",
              "2007-10-29 02:00:00    NaN     NaN    NaN     NaN    NaN    NaN    NaN   \n",
              "2007-10-29 04:00:00    NaN     NaN    NaN     NaN    NaN    NaN    NaN   \n",
              "2007-10-29 06:00:00    NaN     NaN    NaN     NaN    NaN    NaN    NaN   \n",
              "2007-10-29 08:00:00    NaN     NaN    NaN     NaN    NaN    NaN    NaN   \n",
              "...                    ...     ...    ...     ...    ...    ...    ...   \n",
              "2011-10-13 16:00:00  10.26  422.00  16.60  190.53  64.72  27.27  62.24   \n",
              "2011-10-13 18:00:00  10.26  422.00  16.60  190.53  64.72  27.27  62.24   \n",
              "2011-10-13 20:00:00  10.26  422.00  16.60  190.53  64.72  27.27  62.24   \n",
              "2011-10-13 22:00:00  10.26  422.00  16.60  190.53  64.72  27.27  62.24   \n",
              "2011-10-14 00:00:00  10.26  422.00  16.60  190.53  64.72  27.27  62.24   \n",
              "\n",
              "                         SPX    XOM  \n",
              "date                                 \n",
              "2007-10-29 00:00:00  1540.98  85.51  \n",
              "2007-10-29 02:00:00      NaN    NaN  \n",
              "2007-10-29 04:00:00      NaN    NaN  \n",
              "2007-10-29 06:00:00      NaN    NaN  \n",
              "2007-10-29 08:00:00      NaN    NaN  \n",
              "...                      ...    ...  \n",
              "2011-10-13 16:00:00  1224.58  78.11  \n",
              "2011-10-13 18:00:00  1224.58  78.11  \n",
              "2011-10-13 20:00:00  1224.58  78.11  \n",
              "2011-10-13 22:00:00  1224.58  78.11  \n",
              "2011-10-14 00:00:00  1224.58  78.11  \n",
              "\n",
              "[17353 rows x 9 columns]"
            ],
            "text/html": "<div>\n<style scoped>\n    .dataframe tbody tr th:only-of-type {\n        vertical-align: middle;\n    }\n\n    .dataframe tbody tr th {\n        vertical-align: top;\n    }\n\n    .dataframe thead th {\n        text-align: right;\n    }\n</style>\n<table border=\"1\" class=\"dataframe\">\n  <thead>\n    <tr style=\"text-align: right;\">\n      <th></th>\n      <th>AA</th>\n      <th>AAPL</th>\n      <th>GE</th>\n      <th>IBM</th>\n      <th>JNJ</th>\n      <th>MSFT</th>\n      <th>PEP</th>\n      <th>SPX</th>\n      <th>XOM</th>\n    </tr>\n    <tr>\n      <th>date</th>\n      <th></th>\n      <th></th>\n      <th></th>\n      <th></th>\n      <th></th>\n      <th></th>\n      <th></th>\n      <th></th>\n      <th></th>\n    </tr>\n  </thead>\n  <tbody>\n    <tr>\n      <th>2007-10-29 00:00:00</th>\n      <td>37.41</td>\n      <td>185.09</td>\n      <td>34.46</td>\n      <td>106.78</td>\n      <td>57.13</td>\n      <td>31.78</td>\n      <td>65.67</td>\n      <td>1540.98</td>\n      <td>85.51</td>\n    </tr>\n    <tr>\n      <th>2007-10-29 02:00:00</th>\n      <td>NaN</td>\n      <td>NaN</td>\n      <td>NaN</td>\n      <td>NaN</td>\n      <td>NaN</td>\n      <td>NaN</td>\n      <td>NaN</td>\n      <td>NaN</td>\n      <td>NaN</td>\n    </tr>\n    <tr>\n      <th>2007-10-29 04:00:00</th>\n      <td>NaN</td>\n      <td>NaN</td>\n      <td>NaN</td>\n      <td>NaN</td>\n      <td>NaN</td>\n      <td>NaN</td>\n      <td>NaN</td>\n      <td>NaN</td>\n      <td>NaN</td>\n    </tr>\n    <tr>\n      <th>2007-10-29 06:00:00</th>\n      <td>NaN</td>\n      <td>NaN</td>\n      <td>NaN</td>\n      <td>NaN</td>\n      <td>NaN</td>\n      <td>NaN</td>\n      <td>NaN</td>\n      <td>NaN</td>\n      <td>NaN</td>\n    </tr>\n    <tr>\n      <th>2007-10-29 08:00:00</th>\n      <td>NaN</td>\n      <td>NaN</td>\n      <td>NaN</td>\n      <td>NaN</td>\n      <td>NaN</td>\n      <td>NaN</td>\n      <td>NaN</td>\n      <td>NaN</td>\n      <td>NaN</td>\n    </tr>\n    <tr>\n      <th>...</th>\n      <td>...</td>\n      <td>...</td>\n      <td>...</td>\n      <td>...</td>\n      <td>...</td>\n      <td>...</td>\n      <td>...</td>\n      <td>...</td>\n      <td>...</td>\n    </tr>\n    <tr>\n      <th>2011-10-13 16:00:00</th>\n      <td>10.26</td>\n      <td>422.00</td>\n      <td>16.60</td>\n      <td>190.53</td>\n      <td>64.72</td>\n      <td>27.27</td>\n      <td>62.24</td>\n      <td>1224.58</td>\n      <td>78.11</td>\n    </tr>\n    <tr>\n      <th>2011-10-13 18:00:00</th>\n      <td>10.26</td>\n      <td>422.00</td>\n      <td>16.60</td>\n      <td>190.53</td>\n      <td>64.72</td>\n      <td>27.27</td>\n      <td>62.24</td>\n      <td>1224.58</td>\n      <td>78.11</td>\n    </tr>\n    <tr>\n      <th>2011-10-13 20:00:00</th>\n      <td>10.26</td>\n      <td>422.00</td>\n      <td>16.60</td>\n      <td>190.53</td>\n      <td>64.72</td>\n      <td>27.27</td>\n      <td>62.24</td>\n      <td>1224.58</td>\n      <td>78.11</td>\n    </tr>\n    <tr>\n      <th>2011-10-13 22:00:00</th>\n      <td>10.26</td>\n      <td>422.00</td>\n      <td>16.60</td>\n      <td>190.53</td>\n      <td>64.72</td>\n      <td>27.27</td>\n      <td>62.24</td>\n      <td>1224.58</td>\n      <td>78.11</td>\n    </tr>\n    <tr>\n      <th>2011-10-14 00:00:00</th>\n      <td>10.26</td>\n      <td>422.00</td>\n      <td>16.60</td>\n      <td>190.53</td>\n      <td>64.72</td>\n      <td>27.27</td>\n      <td>62.24</td>\n      <td>1224.58</td>\n      <td>78.11</td>\n    </tr>\n  </tbody>\n</table>\n<p>17353 rows × 9 columns</p>\n</div>"
          },
          "metadata": {},
          "execution_count": 13
        }
      ]
    },
    {
      "cell_type": "code",
      "metadata": {
        "id": "ayuofNoLGdbm",
        "colab_type": "code",
        "colab": {}
      },
      "source": [
        "# To fill with certain default value\n",
        "# Note: this does not fill NaNs that already were present):\n",
        "df.asfreq('H',fill_value=9.0)"
      ],
      "execution_count": 14,
      "outputs": [
        {
          "output_type": "execute_result",
          "data": {
            "text/plain": [
              "                        AA    AAPL     GE     IBM    JNJ   MSFT    PEP  \\\n",
              "date                                                                     \n",
              "2007-10-29 00:00:00  37.41  185.09  34.46  106.78  57.13  31.78  65.67   \n",
              "2007-10-29 01:00:00   9.00    9.00   9.00    9.00   9.00   9.00   9.00   \n",
              "2007-10-29 02:00:00   9.00    9.00   9.00    9.00   9.00   9.00   9.00   \n",
              "2007-10-29 03:00:00   9.00    9.00   9.00    9.00   9.00   9.00   9.00   \n",
              "2007-10-29 04:00:00   9.00    9.00   9.00    9.00   9.00   9.00   9.00   \n",
              "...                    ...     ...    ...     ...    ...    ...    ...   \n",
              "2011-10-13 20:00:00   9.00    9.00   9.00    9.00   9.00   9.00   9.00   \n",
              "2011-10-13 21:00:00   9.00    9.00   9.00    9.00   9.00   9.00   9.00   \n",
              "2011-10-13 22:00:00   9.00    9.00   9.00    9.00   9.00   9.00   9.00   \n",
              "2011-10-13 23:00:00   9.00    9.00   9.00    9.00   9.00   9.00   9.00   \n",
              "2011-10-14 00:00:00  10.26  422.00  16.60  190.53  64.72  27.27  62.24   \n",
              "\n",
              "                         SPX    XOM  \n",
              "date                                 \n",
              "2007-10-29 00:00:00  1540.98  85.51  \n",
              "2007-10-29 01:00:00     9.00   9.00  \n",
              "2007-10-29 02:00:00     9.00   9.00  \n",
              "2007-10-29 03:00:00     9.00   9.00  \n",
              "2007-10-29 04:00:00     9.00   9.00  \n",
              "...                      ...    ...  \n",
              "2011-10-13 20:00:00     9.00   9.00  \n",
              "2011-10-13 21:00:00     9.00   9.00  \n",
              "2011-10-13 22:00:00     9.00   9.00  \n",
              "2011-10-13 23:00:00     9.00   9.00  \n",
              "2011-10-14 00:00:00  1224.58  78.11  \n",
              "\n",
              "[34705 rows x 9 columns]"
            ],
            "text/html": "<div>\n<style scoped>\n    .dataframe tbody tr th:only-of-type {\n        vertical-align: middle;\n    }\n\n    .dataframe tbody tr th {\n        vertical-align: top;\n    }\n\n    .dataframe thead th {\n        text-align: right;\n    }\n</style>\n<table border=\"1\" class=\"dataframe\">\n  <thead>\n    <tr style=\"text-align: right;\">\n      <th></th>\n      <th>AA</th>\n      <th>AAPL</th>\n      <th>GE</th>\n      <th>IBM</th>\n      <th>JNJ</th>\n      <th>MSFT</th>\n      <th>PEP</th>\n      <th>SPX</th>\n      <th>XOM</th>\n    </tr>\n    <tr>\n      <th>date</th>\n      <th></th>\n      <th></th>\n      <th></th>\n      <th></th>\n      <th></th>\n      <th></th>\n      <th></th>\n      <th></th>\n      <th></th>\n    </tr>\n  </thead>\n  <tbody>\n    <tr>\n      <th>2007-10-29 00:00:00</th>\n      <td>37.41</td>\n      <td>185.09</td>\n      <td>34.46</td>\n      <td>106.78</td>\n      <td>57.13</td>\n      <td>31.78</td>\n      <td>65.67</td>\n      <td>1540.98</td>\n      <td>85.51</td>\n    </tr>\n    <tr>\n      <th>2007-10-29 01:00:00</th>\n      <td>9.00</td>\n      <td>9.00</td>\n      <td>9.00</td>\n      <td>9.00</td>\n      <td>9.00</td>\n      <td>9.00</td>\n      <td>9.00</td>\n      <td>9.00</td>\n      <td>9.00</td>\n    </tr>\n    <tr>\n      <th>2007-10-29 02:00:00</th>\n      <td>9.00</td>\n      <td>9.00</td>\n      <td>9.00</td>\n      <td>9.00</td>\n      <td>9.00</td>\n      <td>9.00</td>\n      <td>9.00</td>\n      <td>9.00</td>\n      <td>9.00</td>\n    </tr>\n    <tr>\n      <th>2007-10-29 03:00:00</th>\n      <td>9.00</td>\n      <td>9.00</td>\n      <td>9.00</td>\n      <td>9.00</td>\n      <td>9.00</td>\n      <td>9.00</td>\n      <td>9.00</td>\n      <td>9.00</td>\n      <td>9.00</td>\n    </tr>\n    <tr>\n      <th>2007-10-29 04:00:00</th>\n      <td>9.00</td>\n      <td>9.00</td>\n      <td>9.00</td>\n      <td>9.00</td>\n      <td>9.00</td>\n      <td>9.00</td>\n      <td>9.00</td>\n      <td>9.00</td>\n      <td>9.00</td>\n    </tr>\n    <tr>\n      <th>...</th>\n      <td>...</td>\n      <td>...</td>\n      <td>...</td>\n      <td>...</td>\n      <td>...</td>\n      <td>...</td>\n      <td>...</td>\n      <td>...</td>\n      <td>...</td>\n    </tr>\n    <tr>\n      <th>2011-10-13 20:00:00</th>\n      <td>9.00</td>\n      <td>9.00</td>\n      <td>9.00</td>\n      <td>9.00</td>\n      <td>9.00</td>\n      <td>9.00</td>\n      <td>9.00</td>\n      <td>9.00</td>\n      <td>9.00</td>\n    </tr>\n    <tr>\n      <th>2011-10-13 21:00:00</th>\n      <td>9.00</td>\n      <td>9.00</td>\n      <td>9.00</td>\n      <td>9.00</td>\n      <td>9.00</td>\n      <td>9.00</td>\n      <td>9.00</td>\n      <td>9.00</td>\n      <td>9.00</td>\n    </tr>\n    <tr>\n      <th>2011-10-13 22:00:00</th>\n      <td>9.00</td>\n      <td>9.00</td>\n      <td>9.00</td>\n      <td>9.00</td>\n      <td>9.00</td>\n      <td>9.00</td>\n      <td>9.00</td>\n      <td>9.00</td>\n      <td>9.00</td>\n    </tr>\n    <tr>\n      <th>2011-10-13 23:00:00</th>\n      <td>9.00</td>\n      <td>9.00</td>\n      <td>9.00</td>\n      <td>9.00</td>\n      <td>9.00</td>\n      <td>9.00</td>\n      <td>9.00</td>\n      <td>9.00</td>\n      <td>9.00</td>\n    </tr>\n    <tr>\n      <th>2011-10-14 00:00:00</th>\n      <td>10.26</td>\n      <td>422.00</td>\n      <td>16.60</td>\n      <td>190.53</td>\n      <td>64.72</td>\n      <td>27.27</td>\n      <td>62.24</td>\n      <td>1224.58</td>\n      <td>78.11</td>\n    </tr>\n  </tbody>\n</table>\n<p>34705 rows × 9 columns</p>\n</div>"
          },
          "metadata": {},
          "execution_count": 14
        }
      ]
    },
    {
      "cell_type": "markdown",
      "metadata": {
        "id": "1pANcBTEGdbo",
        "colab_type": "text"
      },
      "source": [
        "## resample\n",
        "\n",
        "Convenience method for frequency conversion and resampling of time\n",
        "series."
      ]
    },
    {
      "cell_type": "code",
      "metadata": {
        "id": "lKPkDOl5Gdbo",
        "colab_type": "code",
        "colab": {}
      },
      "source": [
        "df.resample?"
      ],
      "execution_count": 15,
      "outputs": [
        {
          "output_type": "stream",
          "text": [
            "\u001b[1;31mSignature:\u001b[0m\n",
            "\u001b[0mdf\u001b[0m\u001b[1;33m.\u001b[0m\u001b[0mresample\u001b[0m\u001b[1;33m(\u001b[0m\u001b[1;33m\n",
            "\u001b[0m    \u001b[0mrule\u001b[0m\u001b[1;33m,\u001b[0m\u001b[1;33m\n",
            "\u001b[0m    \u001b[0maxis\u001b[0m\u001b[1;33m=\u001b[0m\u001b[1;36m0\u001b[0m\u001b[1;33m,\u001b[0m\u001b[1;33m\n",
            "\u001b[0m    \u001b[0mclosed\u001b[0m\u001b[1;33m:\u001b[0m \u001b[0mUnion\u001b[0m\u001b[1;33m[\u001b[0m\u001b[0mstr\u001b[0m\u001b[1;33m,\u001b[0m \u001b[0mNoneType\u001b[0m\u001b[1;33m]\u001b[0m \u001b[1;33m=\u001b[0m \u001b[1;32mNone\u001b[0m\u001b[1;33m,\u001b[0m\u001b[1;33m\n",
            "\u001b[0m    \u001b[0mlabel\u001b[0m\u001b[1;33m:\u001b[0m \u001b[0mUnion\u001b[0m\u001b[1;33m[\u001b[0m\u001b[0mstr\u001b[0m\u001b[1;33m,\u001b[0m \u001b[0mNoneType\u001b[0m\u001b[1;33m]\u001b[0m \u001b[1;33m=\u001b[0m \u001b[1;32mNone\u001b[0m\u001b[1;33m,\u001b[0m\u001b[1;33m\n",
            "\u001b[0m    \u001b[0mconvention\u001b[0m\u001b[1;33m:\u001b[0m \u001b[0mstr\u001b[0m \u001b[1;33m=\u001b[0m \u001b[1;34m'start'\u001b[0m\u001b[1;33m,\u001b[0m\u001b[1;33m\n",
            "\u001b[0m    \u001b[0mkind\u001b[0m\u001b[1;33m:\u001b[0m \u001b[0mUnion\u001b[0m\u001b[1;33m[\u001b[0m\u001b[0mstr\u001b[0m\u001b[1;33m,\u001b[0m \u001b[0mNoneType\u001b[0m\u001b[1;33m]\u001b[0m \u001b[1;33m=\u001b[0m \u001b[1;32mNone\u001b[0m\u001b[1;33m,\u001b[0m\u001b[1;33m\n",
            "\u001b[0m    \u001b[0mloffset\u001b[0m\u001b[1;33m=\u001b[0m\u001b[1;32mNone\u001b[0m\u001b[1;33m,\u001b[0m\u001b[1;33m\n",
            "\u001b[0m    \u001b[0mbase\u001b[0m\u001b[1;33m:\u001b[0m \u001b[0mint\u001b[0m \u001b[1;33m=\u001b[0m \u001b[1;36m0\u001b[0m\u001b[1;33m,\u001b[0m\u001b[1;33m\n",
            "\u001b[0m    \u001b[0mon\u001b[0m\u001b[1;33m=\u001b[0m\u001b[1;32mNone\u001b[0m\u001b[1;33m,\u001b[0m\u001b[1;33m\n",
            "\u001b[0m    \u001b[0mlevel\u001b[0m\u001b[1;33m=\u001b[0m\u001b[1;32mNone\u001b[0m\u001b[1;33m,\u001b[0m\u001b[1;33m\n",
            "\u001b[0m\u001b[1;33m)\u001b[0m\u001b[1;33m\u001b[0m\u001b[1;33m\u001b[0m\u001b[0m\n",
            "\u001b[1;31mDocstring:\u001b[0m\n",
            "Resample time-series data.\n",
            "\n",
            "Convenience method for frequency conversion and resampling of time\n",
            "series. Object must have a datetime-like index (`DatetimeIndex`,\n",
            "`PeriodIndex`, or `TimedeltaIndex`), or pass datetime-like values\n",
            "to the `on` or `level` keyword.\n",
            "\n",
            "Parameters\n",
            "----------\n",
            "rule : DateOffset, Timedelta or str\n",
            "    The offset string or object representing target conversion.\n",
            "axis : {0 or 'index', 1 or 'columns'}, default 0\n",
            "    Which axis to use for up- or down-sampling. For `Series` this\n",
            "    will default to 0, i.e. along the rows. Must be\n",
            "    `DatetimeIndex`, `TimedeltaIndex` or `PeriodIndex`.\n",
            "closed : {'right', 'left'}, default None\n",
            "    Which side of bin interval is closed. The default is 'left'\n",
            "    for all frequency offsets except for 'M', 'A', 'Q', 'BM',\n",
            "    'BA', 'BQ', and 'W' which all have a default of 'right'.\n",
            "label : {'right', 'left'}, default None\n",
            "    Which bin edge label to label bucket with. The default is 'left'\n",
            "    for all frequency offsets except for 'M', 'A', 'Q', 'BM',\n",
            "    'BA', 'BQ', and 'W' which all have a default of 'right'.\n",
            "convention : {'start', 'end', 's', 'e'}, default 'start'\n",
            "    For `PeriodIndex` only, controls whether to use the start or\n",
            "    end of `rule`.\n",
            "kind : {'timestamp', 'period'}, optional, default None\n",
            "    Pass 'timestamp' to convert the resulting index to a\n",
            "    `DateTimeIndex` or 'period' to convert it to a `PeriodIndex`.\n",
            "    By default the input representation is retained.\n",
            "loffset : timedelta, default None\n",
            "    Adjust the resampled time labels.\n",
            "base : int, default 0\n",
            "    For frequencies that evenly subdivide 1 day, the \"origin\" of the\n",
            "    aggregated intervals. For example, for '5min' frequency, base could\n",
            "    range from 0 through 4. Defaults to 0.\n",
            "on : str, optional\n",
            "    For a DataFrame, column to use instead of index for resampling.\n",
            "    Column must be datetime-like.\n",
            "\n",
            "level : str or int, optional\n",
            "    For a MultiIndex, level (name or number) to use for\n",
            "    resampling. `level` must be datetime-like.\n",
            "\n",
            "Returns\n",
            "-------\n",
            "Resampler object\n",
            "\n",
            "See Also\n",
            "--------\n",
            "groupby : Group by mapping, function, label, or list of labels.\n",
            "Series.resample : Resample a Series.\n",
            "DataFrame.resample: Resample a DataFrame.\n",
            "\n",
            "Notes\n",
            "-----\n",
            "See the `user guide\n",
            "<https://pandas.pydata.org/pandas-docs/stable/user_guide/timeseries.html#resampling>`_\n",
            "for more.\n",
            "\n",
            "To learn more about the offset strings, please see `this link\n",
            "<https://pandas.pydata.org/pandas-docs/stable/user_guide/timeseries.html#dateoffset-objects>`__.\n",
            "\n",
            "Examples\n",
            "--------\n",
            "\n",
            "Start by creating a series with 9 one minute timestamps.\n",
            "\n",
            ">>> index = pd.date_range('1/1/2000', periods=9, freq='T')\n",
            ">>> series = pd.Series(range(9), index=index)\n",
            ">>> series\n",
            "2000-01-01 00:00:00    0\n",
            "2000-01-01 00:01:00    1\n",
            "2000-01-01 00:02:00    2\n",
            "2000-01-01 00:03:00    3\n",
            "2000-01-01 00:04:00    4\n",
            "2000-01-01 00:05:00    5\n",
            "2000-01-01 00:06:00    6\n",
            "2000-01-01 00:07:00    7\n",
            "2000-01-01 00:08:00    8\n",
            "Freq: T, dtype: int64\n",
            "\n",
            "Downsample the series into 3 minute bins and sum the values\n",
            "of the timestamps falling into a bin.\n",
            "\n",
            ">>> series.resample('3T').sum()\n",
            "2000-01-01 00:00:00     3\n",
            "2000-01-01 00:03:00    12\n",
            "2000-01-01 00:06:00    21\n",
            "Freq: 3T, dtype: int64\n",
            "\n",
            "Downsample the series into 3 minute bins as above, but label each\n",
            "bin using the right edge instead of the left. Please note that the\n",
            "value in the bucket used as the label is not included in the bucket,\n",
            "which it labels. For example, in the original series the\n",
            "bucket ``2000-01-01 00:03:00`` contains the value 3, but the summed\n",
            "value in the resampled bucket with the label ``2000-01-01 00:03:00``\n",
            "does not include 3 (if it did, the summed value would be 6, not 3).\n",
            "To include this value close the right side of the bin interval as\n",
            "illustrated in the example below this one.\n",
            "\n",
            ">>> series.resample('3T', label='right').sum()\n",
            "2000-01-01 00:03:00     3\n",
            "2000-01-01 00:06:00    12\n",
            "2000-01-01 00:09:00    21\n",
            "Freq: 3T, dtype: int64\n",
            "\n",
            "Downsample the series into 3 minute bins as above, but close the right\n",
            "side of the bin interval.\n",
            "\n",
            ">>> series.resample('3T', label='right', closed='right').sum()\n",
            "2000-01-01 00:00:00     0\n",
            "2000-01-01 00:03:00     6\n",
            "2000-01-01 00:06:00    15\n",
            "2000-01-01 00:09:00    15\n",
            "Freq: 3T, dtype: int64\n",
            "\n",
            "Upsample the series into 30 second bins.\n",
            "\n",
            ">>> series.resample('30S').asfreq()[0:5]   # Select first 5 rows\n",
            "2000-01-01 00:00:00   0.0\n",
            "2000-01-01 00:00:30   NaN\n",
            "2000-01-01 00:01:00   1.0\n",
            "2000-01-01 00:01:30   NaN\n",
            "2000-01-01 00:02:00   2.0\n",
            "Freq: 30S, dtype: float64\n",
            "\n",
            "Upsample the series into 30 second bins and fill the ``NaN``\n",
            "values using the ``pad`` method.\n",
            "\n",
            ">>> series.resample('30S').pad()[0:5]\n",
            "2000-01-01 00:00:00    0\n",
            "2000-01-01 00:00:30    0\n",
            "2000-01-01 00:01:00    1\n",
            "2000-01-01 00:01:30    1\n",
            "2000-01-01 00:02:00    2\n",
            "Freq: 30S, dtype: int64\n",
            "\n",
            "Upsample the series into 30 second bins and fill the\n",
            "``NaN`` values using the ``bfill`` method.\n",
            "\n",
            ">>> series.resample('30S').bfill()[0:5]\n",
            "2000-01-01 00:00:00    0\n",
            "2000-01-01 00:00:30    1\n",
            "2000-01-01 00:01:00    1\n",
            "2000-01-01 00:01:30    2\n",
            "2000-01-01 00:02:00    2\n",
            "Freq: 30S, dtype: int64\n",
            "\n",
            "Pass a custom function via ``apply``\n",
            "\n",
            ">>> def custom_resampler(array_like):\n",
            "...     return np.sum(array_like) + 5\n",
            "...\n",
            ">>> series.resample('3T').apply(custom_resampler)\n",
            "2000-01-01 00:00:00     8\n",
            "2000-01-01 00:03:00    17\n",
            "2000-01-01 00:06:00    26\n",
            "Freq: 3T, dtype: int64\n",
            "\n",
            "For a Series with a PeriodIndex, the keyword `convention` can be\n",
            "used to control whether to use the start or end of `rule`.\n",
            "\n",
            "Resample a year by quarter using 'start' `convention`. Values are\n",
            "assigned to the first quarter of the period.\n",
            "\n",
            ">>> s = pd.Series([1, 2], index=pd.period_range('2012-01-01',\n",
            "...                                             freq='A',\n",
            "...                                             periods=2))\n",
            ">>> s\n",
            "2012    1\n",
            "2013    2\n",
            "Freq: A-DEC, dtype: int64\n",
            ">>> s.resample('Q', convention='start').asfreq()\n",
            "2012Q1    1.0\n",
            "2012Q2    NaN\n",
            "2012Q3    NaN\n",
            "2012Q4    NaN\n",
            "2013Q1    2.0\n",
            "2013Q2    NaN\n",
            "2013Q3    NaN\n",
            "2013Q4    NaN\n",
            "Freq: Q-DEC, dtype: float64\n",
            "\n",
            "Resample quarters by month using 'end' `convention`. Values are\n",
            "assigned to the last month of the period.\n",
            "\n",
            ">>> q = pd.Series([1, 2, 3, 4], index=pd.period_range('2018-01-01',\n",
            "...                                                   freq='Q',\n",
            "...                                                   periods=4))\n",
            ">>> q\n",
            "2018Q1    1\n",
            "2018Q2    2\n",
            "2018Q3    3\n",
            "2018Q4    4\n",
            "Freq: Q-DEC, dtype: int64\n",
            ">>> q.resample('M', convention='end').asfreq()\n",
            "2018-03    1.0\n",
            "2018-04    NaN\n",
            "2018-05    NaN\n",
            "2018-06    2.0\n",
            "2018-07    NaN\n",
            "2018-08    NaN\n",
            "2018-09    3.0\n",
            "2018-10    NaN\n",
            "2018-11    NaN\n",
            "2018-12    4.0\n",
            "Freq: M, dtype: float64\n",
            "\n",
            "For DataFrame objects, the keyword `on` can be used to specify the\n",
            "column instead of the index for resampling.\n",
            "\n",
            ">>> d = dict({'price': [10, 11, 9, 13, 14, 18, 17, 19],\n",
            "...           'volume': [50, 60, 40, 100, 50, 100, 40, 50]})\n",
            ">>> df = pd.DataFrame(d)\n",
            ">>> df['week_starting'] = pd.date_range('01/01/2018',\n",
            "...                                     periods=8,\n",
            "...                                     freq='W')\n",
            ">>> df\n",
            "   price  volume week_starting\n",
            "0     10      50    2018-01-07\n",
            "1     11      60    2018-01-14\n",
            "2      9      40    2018-01-21\n",
            "3     13     100    2018-01-28\n",
            "4     14      50    2018-02-04\n",
            "5     18     100    2018-02-11\n",
            "6     17      40    2018-02-18\n",
            "7     19      50    2018-02-25\n",
            ">>> df.resample('M', on='week_starting').mean()\n",
            "               price  volume\n",
            "week_starting\n",
            "2018-01-31     10.75    62.5\n",
            "2018-02-28     17.00    60.0\n",
            "\n",
            "For a DataFrame with MultiIndex, the keyword `level` can be used to\n",
            "specify on which level the resampling needs to take place.\n",
            "\n",
            ">>> days = pd.date_range('1/1/2000', periods=4, freq='D')\n",
            ">>> d2 = dict({'price': [10, 11, 9, 13, 14, 18, 17, 19],\n",
            "...            'volume': [50, 60, 40, 100, 50, 100, 40, 50]})\n",
            ">>> df2 = pd.DataFrame(d2,\n",
            "...                    index=pd.MultiIndex.from_product([days,\n",
            "...                                                     ['morning',\n",
            "...                                                      'afternoon']]\n",
            "...                                                     ))\n",
            ">>> df2\n",
            "                      price  volume\n",
            "2000-01-01 morning       10      50\n",
            "           afternoon     11      60\n",
            "2000-01-02 morning        9      40\n",
            "           afternoon     13     100\n",
            "2000-01-03 morning       14      50\n",
            "           afternoon     18     100\n",
            "2000-01-04 morning       17      40\n",
            "           afternoon     19      50\n",
            ">>> df2.resample('D', level=0).sum()\n",
            "            price  volume\n",
            "2000-01-01     21     110\n",
            "2000-01-02     22     140\n",
            "2000-01-03     32     150\n",
            "2000-01-04     36      90\n",
            "\u001b[1;31mFile:\u001b[0m      c:\\users\\hp\\appdata\\local\\programs\\python\\python38\\lib\\site-packages\\pandas\\core\\generic.py\n",
            "\u001b[1;31mType:\u001b[0m      method\n"
          ],
          "name": "stdout"
        }
      ]
    },
    {
      "cell_type": "code",
      "metadata": {
        "id": "hH_s-GohGdbq",
        "colab_type": "code",
        "colab": {}
      },
      "source": [
        "df.resample('2H')"
      ],
      "execution_count": 16,
      "outputs": [
        {
          "output_type": "execute_result",
          "data": {
            "text/plain": [
              "<pandas.core.resample.DatetimeIndexResampler object at 0x000001F7D1A95940>"
            ]
          },
          "metadata": {},
          "execution_count": 16
        }
      ]
    },
    {
      "cell_type": "code",
      "metadata": {
        "id": "NfkOW9P2Gdbs",
        "colab_type": "code",
        "colab": {}
      },
      "source": [
        "df.resample('2H').sum()"
      ],
      "execution_count": 17,
      "outputs": [
        {
          "output_type": "execute_result",
          "data": {
            "text/plain": [
              "                        AA    AAPL     GE     IBM    JNJ   MSFT    PEP  \\\n",
              "date                                                                     \n",
              "2007-10-29 00:00:00  37.41  185.09  34.46  106.78  57.13  31.78  65.67   \n",
              "2007-10-29 02:00:00   0.00    0.00   0.00    0.00   0.00   0.00   0.00   \n",
              "2007-10-29 04:00:00   0.00    0.00   0.00    0.00   0.00   0.00   0.00   \n",
              "2007-10-29 06:00:00   0.00    0.00   0.00    0.00   0.00   0.00   0.00   \n",
              "2007-10-29 08:00:00   0.00    0.00   0.00    0.00   0.00   0.00   0.00   \n",
              "...                    ...     ...    ...     ...    ...    ...    ...   \n",
              "2011-10-13 16:00:00   0.00    0.00   0.00    0.00   0.00   0.00   0.00   \n",
              "2011-10-13 18:00:00   0.00    0.00   0.00    0.00   0.00   0.00   0.00   \n",
              "2011-10-13 20:00:00   0.00    0.00   0.00    0.00   0.00   0.00   0.00   \n",
              "2011-10-13 22:00:00   0.00    0.00   0.00    0.00   0.00   0.00   0.00   \n",
              "2011-10-14 00:00:00  10.26  422.00  16.60  190.53  64.72  27.27  62.24   \n",
              "\n",
              "                         SPX    XOM  \n",
              "date                                 \n",
              "2007-10-29 00:00:00  1540.98  85.51  \n",
              "2007-10-29 02:00:00     0.00   0.00  \n",
              "2007-10-29 04:00:00     0.00   0.00  \n",
              "2007-10-29 06:00:00     0.00   0.00  \n",
              "2007-10-29 08:00:00     0.00   0.00  \n",
              "...                      ...    ...  \n",
              "2011-10-13 16:00:00     0.00   0.00  \n",
              "2011-10-13 18:00:00     0.00   0.00  \n",
              "2011-10-13 20:00:00     0.00   0.00  \n",
              "2011-10-13 22:00:00     0.00   0.00  \n",
              "2011-10-14 00:00:00  1224.58  78.11  \n",
              "\n",
              "[17353 rows x 9 columns]"
            ],
            "text/html": "<div>\n<style scoped>\n    .dataframe tbody tr th:only-of-type {\n        vertical-align: middle;\n    }\n\n    .dataframe tbody tr th {\n        vertical-align: top;\n    }\n\n    .dataframe thead th {\n        text-align: right;\n    }\n</style>\n<table border=\"1\" class=\"dataframe\">\n  <thead>\n    <tr style=\"text-align: right;\">\n      <th></th>\n      <th>AA</th>\n      <th>AAPL</th>\n      <th>GE</th>\n      <th>IBM</th>\n      <th>JNJ</th>\n      <th>MSFT</th>\n      <th>PEP</th>\n      <th>SPX</th>\n      <th>XOM</th>\n    </tr>\n    <tr>\n      <th>date</th>\n      <th></th>\n      <th></th>\n      <th></th>\n      <th></th>\n      <th></th>\n      <th></th>\n      <th></th>\n      <th></th>\n      <th></th>\n    </tr>\n  </thead>\n  <tbody>\n    <tr>\n      <th>2007-10-29 00:00:00</th>\n      <td>37.41</td>\n      <td>185.09</td>\n      <td>34.46</td>\n      <td>106.78</td>\n      <td>57.13</td>\n      <td>31.78</td>\n      <td>65.67</td>\n      <td>1540.98</td>\n      <td>85.51</td>\n    </tr>\n    <tr>\n      <th>2007-10-29 02:00:00</th>\n      <td>0.00</td>\n      <td>0.00</td>\n      <td>0.00</td>\n      <td>0.00</td>\n      <td>0.00</td>\n      <td>0.00</td>\n      <td>0.00</td>\n      <td>0.00</td>\n      <td>0.00</td>\n    </tr>\n    <tr>\n      <th>2007-10-29 04:00:00</th>\n      <td>0.00</td>\n      <td>0.00</td>\n      <td>0.00</td>\n      <td>0.00</td>\n      <td>0.00</td>\n      <td>0.00</td>\n      <td>0.00</td>\n      <td>0.00</td>\n      <td>0.00</td>\n    </tr>\n    <tr>\n      <th>2007-10-29 06:00:00</th>\n      <td>0.00</td>\n      <td>0.00</td>\n      <td>0.00</td>\n      <td>0.00</td>\n      <td>0.00</td>\n      <td>0.00</td>\n      <td>0.00</td>\n      <td>0.00</td>\n      <td>0.00</td>\n    </tr>\n    <tr>\n      <th>2007-10-29 08:00:00</th>\n      <td>0.00</td>\n      <td>0.00</td>\n      <td>0.00</td>\n      <td>0.00</td>\n      <td>0.00</td>\n      <td>0.00</td>\n      <td>0.00</td>\n      <td>0.00</td>\n      <td>0.00</td>\n    </tr>\n    <tr>\n      <th>...</th>\n      <td>...</td>\n      <td>...</td>\n      <td>...</td>\n      <td>...</td>\n      <td>...</td>\n      <td>...</td>\n      <td>...</td>\n      <td>...</td>\n      <td>...</td>\n    </tr>\n    <tr>\n      <th>2011-10-13 16:00:00</th>\n      <td>0.00</td>\n      <td>0.00</td>\n      <td>0.00</td>\n      <td>0.00</td>\n      <td>0.00</td>\n      <td>0.00</td>\n      <td>0.00</td>\n      <td>0.00</td>\n      <td>0.00</td>\n    </tr>\n    <tr>\n      <th>2011-10-13 18:00:00</th>\n      <td>0.00</td>\n      <td>0.00</td>\n      <td>0.00</td>\n      <td>0.00</td>\n      <td>0.00</td>\n      <td>0.00</td>\n      <td>0.00</td>\n      <td>0.00</td>\n      <td>0.00</td>\n    </tr>\n    <tr>\n      <th>2011-10-13 20:00:00</th>\n      <td>0.00</td>\n      <td>0.00</td>\n      <td>0.00</td>\n      <td>0.00</td>\n      <td>0.00</td>\n      <td>0.00</td>\n      <td>0.00</td>\n      <td>0.00</td>\n      <td>0.00</td>\n    </tr>\n    <tr>\n      <th>2011-10-13 22:00:00</th>\n      <td>0.00</td>\n      <td>0.00</td>\n      <td>0.00</td>\n      <td>0.00</td>\n      <td>0.00</td>\n      <td>0.00</td>\n      <td>0.00</td>\n      <td>0.00</td>\n      <td>0.00</td>\n    </tr>\n    <tr>\n      <th>2011-10-14 00:00:00</th>\n      <td>10.26</td>\n      <td>422.00</td>\n      <td>16.60</td>\n      <td>190.53</td>\n      <td>64.72</td>\n      <td>27.27</td>\n      <td>62.24</td>\n      <td>1224.58</td>\n      <td>78.11</td>\n    </tr>\n  </tbody>\n</table>\n<p>17353 rows × 9 columns</p>\n</div>"
          },
          "metadata": {},
          "execution_count": 17
        }
      ]
    },
    {
      "cell_type": "code",
      "metadata": {
        "id": "Krgy735lGdbv",
        "colab_type": "code",
        "colab": {}
      },
      "source": [
        "def get_range(x):\n",
        "    return x.max() - x.min()"
      ],
      "execution_count": 18,
      "outputs": []
    },
    {
      "cell_type": "code",
      "metadata": {
        "id": "fNCHOV65Gdbx",
        "colab_type": "code",
        "colab": {}
      },
      "source": [
        "df.resample('M').agg({'mean', 'max', get_range})"
      ],
      "execution_count": 19,
      "outputs": [
        {
          "output_type": "execute_result",
          "data": {
            "text/plain": [
              "                   AA                         AAPL                    \\\n",
              "                 mean get_range    max        mean get_range     max   \n",
              "date                                                                   \n",
              "2007-10-31  36.876667      0.98  37.41  187.346667      4.86  189.95   \n",
              "2007-11-30  33.936190      3.43  35.84  174.658095     38.03  191.79   \n",
              "2007-12-31  33.493000      3.67  35.17  190.505000     20.97  199.83   \n",
              "2008-01-31  29.547619      6.88  33.63  160.378095     64.92  194.93   \n",
              "2008-02-29  33.260000      6.26  36.54  125.153000     14.60  133.75   \n",
              "2008-03-31  34.489500      3.76  36.16  130.823000     25.37  145.06   \n",
              "2008-04-30  33.671364      4.73  36.43  158.187273     27.91  175.05   \n",
              "2008-05-31  37.888571      9.27  41.86  184.759524     12.91  189.96   \n",
              "2008-06-30  36.315714      6.96  40.10  178.485714     21.99  189.43   \n",
              "2008-07-31  31.400909      3.44  32.80  167.748636     25.15  179.55   \n",
              "2008-08-31  29.946190      1.44  30.58  171.069524     26.09  179.32   \n",
              "2008-09-30  25.017619      8.57  28.75  141.243333     61.70  166.96   \n",
              "2008-10-31  12.460435     11.54  20.07   99.003913     22.30  111.04   \n",
              "2008-11-30   9.815263      5.22  11.77   93.940526     30.50  110.99   \n",
              "2008-12-31   9.295455      3.06  10.77   91.543636     15.02  100.06   \n",
              "2009-01-31   9.187000      4.15  11.60   88.775000     16.38   94.58   \n",
              "2009-02-28   6.986842      2.63   8.31   94.074211     15.56  102.51   \n",
              "2009-03-31   6.186818      2.84   7.94   97.505000     26.76  109.87   \n",
              "2009-04-30   8.420476      1.62   9.05  120.020952     17.14  125.83   \n",
              "2009-05-31   9.271000      1.83  10.29  128.149000     16.32  135.81   \n",
              "2009-06-30  10.540455      2.34  11.98  139.528182     10.66  144.67   \n",
              "2009-07-31  10.094545      2.48  11.53  149.318182     27.99  163.39   \n",
              "2009-08-31  12.475714      1.63  13.47  166.280476     10.46  170.05   \n",
              "2009-09-30  12.957143      2.87  14.22  177.786667     20.97  186.15   \n",
              "2009-10-31  13.392273      2.39  14.11  192.831364     24.34  205.20   \n",
              "2009-11-30  12.885000      1.29  13.55  200.320000     18.25  207.00   \n",
              "2009-12-31  14.404091      3.49  16.10  198.954545     22.69  211.64   \n",
              "2010-01-31  14.940000      4.65  17.19  207.715263     22.98  215.04   \n",
              "2010-02-28  13.186316      0.82  13.56  198.795789     12.57  204.62   \n",
              "2010-03-31  13.752609      1.24  14.31  223.410870     27.00  235.85   \n",
              "2010-04-30  13.979048      1.58  14.84  251.148571     34.86  270.83   \n",
              "2010-05-31  11.856000      2.03  12.98  251.461500     30.49  266.35   \n",
              "2010-06-30  10.992273      1.64  11.60  261.145455     30.87  274.07   \n",
              "2010-07-31  10.653333      1.21  11.11  254.950000     18.50  264.08   \n",
              "2010-08-31  10.733636      1.66  11.59  251.323182     23.05  262.98   \n",
              "2010-09-30  11.342381      1.68  12.12  273.850952     41.99  292.32   \n",
              "2010-10-31  12.662857      1.44  13.27  300.934286     39.36  318.00   \n",
              "2010-11-30  13.321905      1.05  13.92  311.588095     18.12  318.62   \n",
              "2010-12-31  14.495455      1.81  15.30  321.485909      9.07  325.47   \n",
              "2011-01-31  16.159000      0.85  16.51  338.380000     21.76  348.48   \n",
              "2011-02-28  17.072105      1.14  17.52  351.182632     24.52  363.13   \n",
              "2011-03-31  16.485217      1.99  17.59  347.490870     29.99  360.00   \n",
              "2011-04-30  17.069000      1.99  18.06  340.415500     25.55  353.01   \n",
              "2011-05-31  16.806190      1.65  17.60  341.784762     17.38  349.57   \n",
              "2011-06-30  15.390000      1.48  16.17  331.081364     30.78  346.10   \n",
              "2011-07-31  15.648000      1.76  16.46  372.238000     60.15  403.41   \n",
              "2011-08-31  12.353478      3.51  14.72  376.762609     43.54  396.75   \n",
              "2011-09-30  11.209524      2.92  12.49  392.493333     39.40  413.45   \n",
              "2011-10-31   9.778000      1.40  10.30  389.424000     52.20  422.00   \n",
              "\n",
              "                   GE                          IBM  ...   MSFT        PEP  \\\n",
              "                 mean get_range    max        mean  ...    max       mean   \n",
              "date                                                ...                     \n",
              "2007-10-31  34.606667      0.58  34.97  106.980000  ...  33.84  65.720000   \n",
              "2007-11-30  32.814286      3.06  34.27   98.991429  ...  34.07  66.222381   \n",
              "2007-12-31  31.562500      1.38  32.18  101.135000  ...  33.77  69.016000   \n",
              "2008-01-31  30.081429      3.07  31.53   95.914286  ...  32.62  65.657619   \n",
              "2008-02-29  29.448000      2.33  30.99  101.213000  ...  28.09  63.143000   \n",
              "2008-03-31  30.203500      5.01  32.42  108.647500  ...  27.24  63.261500   \n",
              "2008-04-30  29.634091      5.78  33.23  112.179091  ...  29.45  63.308636   \n",
              "2008-05-31  27.615238      2.54  28.83  118.218571  ...  28.30  61.259048   \n",
              "2008-06-30  24.995238      3.90  26.86  117.211905  ...  27.02  59.694762   \n",
              "2008-07-31  24.320455      2.46  25.64  117.760455  ...  25.58  59.824545   \n",
              "2008-08-31  25.291429      1.62  26.19  118.390000  ...  26.14  62.607619   \n",
              "2008-09-30  23.132381      4.98  25.43  110.209048  ...  25.77  64.846190   \n",
              "2008-10-31  17.837826      6.00  21.71   86.587826  ...  24.71  53.336522   \n",
              "2008-11-30  14.945263      7.02  18.40   78.022632  ...  21.96  49.866842   \n",
              "2008-12-31  15.061818      3.00  16.73   77.910000  ...  19.74  49.329545   \n",
              "2009-01-31  12.947500      4.56  15.42   83.659500  ...  19.50  47.889500   \n",
              "2009-02-28   9.651053      3.50  11.41   87.231579  ...  18.47  47.017368   \n",
              "2009-03-31   8.522727      3.94  10.13   87.696364  ...  17.81  45.621364   \n",
              "2009-04-30  10.783333      2.31  11.76   96.433810  ...  19.78  47.149048   \n",
              "2009-05-31  12.460500      1.71  13.51   99.502000  ...  19.88  46.788500   \n",
              "2009-06-30  11.872727      2.08  12.88  102.372727  ...  22.91  50.287273   \n",
              "2009-07-31  11.069545      2.52  12.56  105.765455  ...  24.33  52.522727   \n",
              "2009-08-31  13.145238      1.26  13.78  114.458571  ...  23.63  53.413810   \n",
              "2009-09-30  14.675238      3.67  16.04  115.001905  ...  24.83  54.854762   \n",
              "2009-10-31  14.793636      2.44  15.88  118.215000  ...  27.45  57.540000   \n",
              "2009-11-30  14.676000      1.87  15.25  121.863500  ...  28.95  58.321000   \n",
              "2009-12-31  14.826364      0.91  15.27  125.078182  ...  30.18  58.459091   \n",
              "2010-01-31  15.443158      1.31  15.97  124.986316  ...  29.90  57.993684   \n",
              "2010-02-28  15.228947      1.23  15.99  121.737368  ...  27.98  58.095263   \n",
              "2010-03-31  16.569565      2.44  17.62  124.402609  ...  28.99  62.551739   \n",
              "2010-04-30  18.042381      1.12  18.62  126.073333  ...  30.32  62.820000   \n",
              "2010-05-31  16.520500      3.16  18.39  124.223500  ...  29.81  62.013000   \n",
              "2010-06-30  14.885909      1.85  15.71  124.734091  ...  26.06  60.517727   \n",
              "2010-07-31  14.528095      2.21  15.55  124.769524  ...  25.38  61.278095   \n",
              "2010-08-31  14.882727      1.96  15.87  125.742273  ...  25.55  62.759545   \n",
              "2010-09-30  15.513810      1.71  16.13  127.961429  ...  24.81  64.144762   \n",
              "2010-10-31  15.946190      1.22  16.73  137.252857  ...  26.02  63.951905   \n",
              "2010-11-30  15.633333      0.94  16.20  142.458571  ...  26.72  62.803810   \n",
              "2010-12-31  17.055455      2.09  17.87  143.410000  ...  27.78  63.851818   \n",
              "2011-01-31  18.607500      1.95  19.79  151.240000  ...  28.33  64.510500   \n",
              "2011-02-28  20.549474      1.13  21.00  161.738947  ...  27.76  62.402105   \n",
              "2011-03-31  19.596522      1.77  20.39  159.020435  ...  25.87  62.856957   \n",
              "2011-04-30  19.882500      0.75  20.29  164.522000  ...  26.37  65.793500   \n",
              "2011-05-31  19.493810      1.52  20.28  168.752381  ...  25.73  69.359524   \n",
              "2011-06-30  18.295000      0.99  18.79  164.875455  ...  25.84  68.563182   \n",
              "2011-07-31  18.500500      1.38  19.12  178.204500  ...  27.90  67.065500   \n",
              "2011-08-31  15.878261      2.85  17.80  169.194348  ...  27.10  62.885217   \n",
              "2011-09-30  15.557143      1.46  16.33  170.245714  ...  27.21  61.626190   \n",
              "2011-10-31  15.735000      1.91  16.60  182.405000  ...  27.27  61.274000   \n",
              "\n",
              "                                     SPX                           XOM  \\\n",
              "           get_range    max         mean get_range      max       mean   \n",
              "date                                                                     \n",
              "2007-10-31      0.13  65.80  1540.460000     18.36  1549.38  84.263333   \n",
              "2007-11-30      4.32  68.78  1463.385238    113.05  1520.27  79.861429   \n",
              "2007-12-31      2.50  70.47  1479.223500     70.06  1515.96  84.232000   \n",
              "2008-01-31     10.90  71.25  1378.763810    136.66  1447.16  80.636190   \n",
              "2008-02-29      4.68  64.44  1354.872500     68.97  1395.42  78.978500   \n",
              "2008-03-31      3.37  65.00  1316.943000     79.62  1352.99  78.919000   \n",
              "2008-04-30      4.06  64.94  1370.469091     69.52  1397.84  83.929545   \n",
              "2008-05-31      1.80  62.21  1403.217619     50.70  1426.63  83.740952   \n",
              "2008-06-30      3.95  61.57  1341.250952    125.67  1404.05  80.827619   \n",
              "2008-07-31      3.01  61.36  1257.326364     70.00  1284.91  77.319091   \n",
              "2008-08-31      3.23  63.60  1281.472381     56.31  1305.32  73.000952   \n",
              "2008-09-30      4.41  66.76  1217.022857    171.16  1277.58  71.524762   \n",
              "2008-10-31     18.59  65.31   968.800870    312.14  1161.06  66.922174   \n",
              "2008-11-30      7.33  53.18   883.040526    253.31  1005.75  69.781053   \n",
              "2008-12-31      2.62  50.42   877.561818     96.97   913.18  73.011818   \n",
              "2009-01-31      5.27  51.42   865.575500    129.48   934.70  73.170500   \n",
              "2009-02-28      4.95  49.18   805.227368    134.80   869.89  69.744737   \n",
              "2009-03-31      6.82  49.28   757.126818    156.33   832.86  63.268636   \n",
              "2009-04-30      4.61  49.00   848.151905     62.56   873.64  63.659524   \n",
              "2009-05-31      2.75  48.26   902.408500     51.71   929.23  65.380500   \n",
              "2009-06-30      2.45  51.36   926.115000     53.17   946.21  67.673636   \n",
              "2009-07-31      2.43  53.53   935.821364    108.35   987.48  65.275909   \n",
              "2009-08-31      2.69  55.19  1009.724762     51.25  1030.98  65.878571   \n",
              "2009-09-30      3.82  56.39  1044.552381     76.91  1071.66  66.080476   \n",
              "2009-10-31      3.98  59.05  1067.663636     72.70  1097.91  67.925000   \n",
              "2009-11-30      2.95  59.53  1088.069000     67.75  1110.63  70.456000   \n",
              "2009-12-31      4.51  60.94  1110.377727     35.84  1127.78  67.775455   \n",
              "2010-01-31      3.02  59.58  1123.581579     76.36  1150.23  65.132632   \n",
              "2010-02-28      3.51  59.45  1089.160000     52.43  1109.17  62.924211   \n",
              "2010-03-31      3.70  63.88  1152.048696     58.46  1174.17  64.142174   \n",
              "2010-04-30      2.34  63.71  1197.316190     39.18  1217.28  65.895714   \n",
              "2010-05-31      5.46  63.96  1125.062000    134.31  1202.26  61.044000   \n",
              "2010-06-30      3.58  62.09  1083.360909     86.80  1117.51  58.866818   \n",
              "2010-07-31      4.02  63.25  1079.803333     92.43  1115.01  57.171905   \n",
              "2010-08-31      2.82  64.06  1087.282273     80.57  1127.79  58.885909   \n",
              "2010-09-30      1.94  64.89  1122.081905     68.38  1148.67  59.808571   \n",
              "2010-10-31      3.72  66.07  1171.583810     48.61  1185.64  63.524762   \n",
              "2010-11-30      1.85  63.83  1198.888571     47.51  1225.85  68.366667   \n",
              "2010-12-31      1.64  64.81  1241.525455     53.71  1259.78  71.055455   \n",
              "2011-01-31      2.54  65.39  1282.618500     29.79  1299.54  76.010500   \n",
              "2011-02-28      2.07  63.58  1321.117895     38.98  1343.01  83.010000   \n",
              "2011-03-31      2.69  64.06  1304.486522     74.09  1330.97  82.152609   \n",
              "2011-04-30      4.56  68.66  1331.505000     58.47  1363.61  84.299000   \n",
              "2011-05-31      2.90  70.69  1338.310476     44.94  1361.22  81.729048   \n",
              "2011-06-30      2.43  69.87  1287.288636     55.22  1320.64  79.365909   \n",
              "2011-07-31      6.61  69.96  1325.184500     60.94  1353.22  82.196500   \n",
              "2011-08-31      4.59  64.43  1185.305652    167.48  1286.94  73.058696   \n",
              "2011-09-30      4.16  64.15  1173.879048     86.45  1216.01  72.399524   \n",
              "2011-10-31      2.41  62.70  1171.356000    125.35  1224.58  74.957000   \n",
              "\n",
              "                             \n",
              "           get_range    max  \n",
              "date                         \n",
              "2007-10-31      2.26  85.51  \n",
              "2007-11-30      5.43  82.56  \n",
              "2007-12-31      6.31  87.12  \n",
              "2008-01-31     10.43  86.04  \n",
              "2008-02-29      8.11  82.79  \n",
              "2008-03-31      5.54  81.48  \n",
              "2008-04-30      6.79  86.93  \n",
              "2008-05-31      5.68  87.48  \n",
              "2008-06-30      4.07  82.62  \n",
              "2008-07-31      7.42  81.73  \n",
              "2008-08-31      4.62  75.48  \n",
              "2008-09-30      6.90  75.01  \n",
              "2008-10-31     15.09  73.06  \n",
              "2008-11-30     11.57  75.64  \n",
              "2008-12-31      8.26  77.75  \n",
              "2009-01-31      6.12  76.35  \n",
              "2009-02-28     11.69  75.51  \n",
              "2009-03-31      8.47  66.95  \n",
              "2009-04-30      5.34  66.20  \n",
              "2009-05-31      3.38  66.96  \n",
              "2009-06-30      5.29  70.01  \n",
              "2009-07-31      7.21  68.78  \n",
              "2009-08-31      4.64  67.89  \n",
              "2009-09-30      2.35  67.21  \n",
              "2009-10-31      7.93  71.26  \n",
              "2009-11-30      5.35  73.17  \n",
              "2009-12-31      7.51  72.75  \n",
              "2010-01-31      5.61  67.26  \n",
              "2010-02-28      2.15  64.07  \n",
              "2010-03-31      1.92  64.90  \n",
              "2010-04-30      1.88  66.73  \n",
              "2010-05-31      7.82  65.33  \n",
              "2010-06-30      5.88  61.21  \n",
              "2010-07-31      4.21  59.06  \n",
              "2010-08-31      3.70  60.81  \n",
              "2010-09-30      1.47  60.60  \n",
              "2010-10-31      4.24  64.97  \n",
              "2010-11-30      5.20  70.58  \n",
              "2010-12-31      2.19  72.15  \n",
              "2011-01-31      6.02  79.28  \n",
              "2011-02-28      4.46  86.01  \n",
              "2011-03-31      6.43  84.78  \n",
              "2011-04-30      4.82  86.91  \n",
              "2011-05-31      6.20  85.91  \n",
              "2011-06-30      5.21  81.49  \n",
              "2011-07-31      5.39  84.66  \n",
              "2011-08-31     11.05  79.08  \n",
              "2011-09-30      5.31  74.55  \n",
              "2011-10-31      6.96  78.11  \n",
              "\n",
              "[49 rows x 27 columns]"
            ],
            "text/html": "<div>\n<style scoped>\n    .dataframe tbody tr th:only-of-type {\n        vertical-align: middle;\n    }\n\n    .dataframe tbody tr th {\n        vertical-align: top;\n    }\n\n    .dataframe thead tr th {\n        text-align: left;\n    }\n\n    .dataframe thead tr:last-of-type th {\n        text-align: right;\n    }\n</style>\n<table border=\"1\" class=\"dataframe\">\n  <thead>\n    <tr>\n      <th></th>\n      <th colspan=\"3\" halign=\"left\">AA</th>\n      <th colspan=\"3\" halign=\"left\">AAPL</th>\n      <th colspan=\"3\" halign=\"left\">GE</th>\n      <th>IBM</th>\n      <th>...</th>\n      <th>MSFT</th>\n      <th colspan=\"3\" halign=\"left\">PEP</th>\n      <th colspan=\"3\" halign=\"left\">SPX</th>\n      <th colspan=\"3\" halign=\"left\">XOM</th>\n    </tr>\n    <tr>\n      <th></th>\n      <th>mean</th>\n      <th>get_range</th>\n      <th>max</th>\n      <th>mean</th>\n      <th>get_range</th>\n      <th>max</th>\n      <th>mean</th>\n      <th>get_range</th>\n      <th>max</th>\n      <th>mean</th>\n      <th>...</th>\n      <th>max</th>\n      <th>mean</th>\n      <th>get_range</th>\n      <th>max</th>\n      <th>mean</th>\n      <th>get_range</th>\n      <th>max</th>\n      <th>mean</th>\n      <th>get_range</th>\n      <th>max</th>\n    </tr>\n    <tr>\n      <th>date</th>\n      <th></th>\n      <th></th>\n      <th></th>\n      <th></th>\n      <th></th>\n      <th></th>\n      <th></th>\n      <th></th>\n      <th></th>\n      <th></th>\n      <th></th>\n      <th></th>\n      <th></th>\n      <th></th>\n      <th></th>\n      <th></th>\n      <th></th>\n      <th></th>\n      <th></th>\n      <th></th>\n      <th></th>\n    </tr>\n  </thead>\n  <tbody>\n    <tr>\n      <th>2007-10-31</th>\n      <td>36.876667</td>\n      <td>0.98</td>\n      <td>37.41</td>\n      <td>187.346667</td>\n      <td>4.86</td>\n      <td>189.95</td>\n      <td>34.606667</td>\n      <td>0.58</td>\n      <td>34.97</td>\n      <td>106.980000</td>\n      <td>...</td>\n      <td>33.84</td>\n      <td>65.720000</td>\n      <td>0.13</td>\n      <td>65.80</td>\n      <td>1540.460000</td>\n      <td>18.36</td>\n      <td>1549.38</td>\n      <td>84.263333</td>\n      <td>2.26</td>\n      <td>85.51</td>\n    </tr>\n    <tr>\n      <th>2007-11-30</th>\n      <td>33.936190</td>\n      <td>3.43</td>\n      <td>35.84</td>\n      <td>174.658095</td>\n      <td>38.03</td>\n      <td>191.79</td>\n      <td>32.814286</td>\n      <td>3.06</td>\n      <td>34.27</td>\n      <td>98.991429</td>\n      <td>...</td>\n      <td>34.07</td>\n      <td>66.222381</td>\n      <td>4.32</td>\n      <td>68.78</td>\n      <td>1463.385238</td>\n      <td>113.05</td>\n      <td>1520.27</td>\n      <td>79.861429</td>\n      <td>5.43</td>\n      <td>82.56</td>\n    </tr>\n    <tr>\n      <th>2007-12-31</th>\n      <td>33.493000</td>\n      <td>3.67</td>\n      <td>35.17</td>\n      <td>190.505000</td>\n      <td>20.97</td>\n      <td>199.83</td>\n      <td>31.562500</td>\n      <td>1.38</td>\n      <td>32.18</td>\n      <td>101.135000</td>\n      <td>...</td>\n      <td>33.77</td>\n      <td>69.016000</td>\n      <td>2.50</td>\n      <td>70.47</td>\n      <td>1479.223500</td>\n      <td>70.06</td>\n      <td>1515.96</td>\n      <td>84.232000</td>\n      <td>6.31</td>\n      <td>87.12</td>\n    </tr>\n    <tr>\n      <th>2008-01-31</th>\n      <td>29.547619</td>\n      <td>6.88</td>\n      <td>33.63</td>\n      <td>160.378095</td>\n      <td>64.92</td>\n      <td>194.93</td>\n      <td>30.081429</td>\n      <td>3.07</td>\n      <td>31.53</td>\n      <td>95.914286</td>\n      <td>...</td>\n      <td>32.62</td>\n      <td>65.657619</td>\n      <td>10.90</td>\n      <td>71.25</td>\n      <td>1378.763810</td>\n      <td>136.66</td>\n      <td>1447.16</td>\n      <td>80.636190</td>\n      <td>10.43</td>\n      <td>86.04</td>\n    </tr>\n    <tr>\n      <th>2008-02-29</th>\n      <td>33.260000</td>\n      <td>6.26</td>\n      <td>36.54</td>\n      <td>125.153000</td>\n      <td>14.60</td>\n      <td>133.75</td>\n      <td>29.448000</td>\n      <td>2.33</td>\n      <td>30.99</td>\n      <td>101.213000</td>\n      <td>...</td>\n      <td>28.09</td>\n      <td>63.143000</td>\n      <td>4.68</td>\n      <td>64.44</td>\n      <td>1354.872500</td>\n      <td>68.97</td>\n      <td>1395.42</td>\n      <td>78.978500</td>\n      <td>8.11</td>\n      <td>82.79</td>\n    </tr>\n    <tr>\n      <th>2008-03-31</th>\n      <td>34.489500</td>\n      <td>3.76</td>\n      <td>36.16</td>\n      <td>130.823000</td>\n      <td>25.37</td>\n      <td>145.06</td>\n      <td>30.203500</td>\n      <td>5.01</td>\n      <td>32.42</td>\n      <td>108.647500</td>\n      <td>...</td>\n      <td>27.24</td>\n      <td>63.261500</td>\n      <td>3.37</td>\n      <td>65.00</td>\n      <td>1316.943000</td>\n      <td>79.62</td>\n      <td>1352.99</td>\n      <td>78.919000</td>\n      <td>5.54</td>\n      <td>81.48</td>\n    </tr>\n    <tr>\n      <th>2008-04-30</th>\n      <td>33.671364</td>\n      <td>4.73</td>\n      <td>36.43</td>\n      <td>158.187273</td>\n      <td>27.91</td>\n      <td>175.05</td>\n      <td>29.634091</td>\n      <td>5.78</td>\n      <td>33.23</td>\n      <td>112.179091</td>\n      <td>...</td>\n      <td>29.45</td>\n      <td>63.308636</td>\n      <td>4.06</td>\n      <td>64.94</td>\n      <td>1370.469091</td>\n      <td>69.52</td>\n      <td>1397.84</td>\n      <td>83.929545</td>\n      <td>6.79</td>\n      <td>86.93</td>\n    </tr>\n    <tr>\n      <th>2008-05-31</th>\n      <td>37.888571</td>\n      <td>9.27</td>\n      <td>41.86</td>\n      <td>184.759524</td>\n      <td>12.91</td>\n      <td>189.96</td>\n      <td>27.615238</td>\n      <td>2.54</td>\n      <td>28.83</td>\n      <td>118.218571</td>\n      <td>...</td>\n      <td>28.30</td>\n      <td>61.259048</td>\n      <td>1.80</td>\n      <td>62.21</td>\n      <td>1403.217619</td>\n      <td>50.70</td>\n      <td>1426.63</td>\n      <td>83.740952</td>\n      <td>5.68</td>\n      <td>87.48</td>\n    </tr>\n    <tr>\n      <th>2008-06-30</th>\n      <td>36.315714</td>\n      <td>6.96</td>\n      <td>40.10</td>\n      <td>178.485714</td>\n      <td>21.99</td>\n      <td>189.43</td>\n      <td>24.995238</td>\n      <td>3.90</td>\n      <td>26.86</td>\n      <td>117.211905</td>\n      <td>...</td>\n      <td>27.02</td>\n      <td>59.694762</td>\n      <td>3.95</td>\n      <td>61.57</td>\n      <td>1341.250952</td>\n      <td>125.67</td>\n      <td>1404.05</td>\n      <td>80.827619</td>\n      <td>4.07</td>\n      <td>82.62</td>\n    </tr>\n    <tr>\n      <th>2008-07-31</th>\n      <td>31.400909</td>\n      <td>3.44</td>\n      <td>32.80</td>\n      <td>167.748636</td>\n      <td>25.15</td>\n      <td>179.55</td>\n      <td>24.320455</td>\n      <td>2.46</td>\n      <td>25.64</td>\n      <td>117.760455</td>\n      <td>...</td>\n      <td>25.58</td>\n      <td>59.824545</td>\n      <td>3.01</td>\n      <td>61.36</td>\n      <td>1257.326364</td>\n      <td>70.00</td>\n      <td>1284.91</td>\n      <td>77.319091</td>\n      <td>7.42</td>\n      <td>81.73</td>\n    </tr>\n    <tr>\n      <th>2008-08-31</th>\n      <td>29.946190</td>\n      <td>1.44</td>\n      <td>30.58</td>\n      <td>171.069524</td>\n      <td>26.09</td>\n      <td>179.32</td>\n      <td>25.291429</td>\n      <td>1.62</td>\n      <td>26.19</td>\n      <td>118.390000</td>\n      <td>...</td>\n      <td>26.14</td>\n      <td>62.607619</td>\n      <td>3.23</td>\n      <td>63.60</td>\n      <td>1281.472381</td>\n      <td>56.31</td>\n      <td>1305.32</td>\n      <td>73.000952</td>\n      <td>4.62</td>\n      <td>75.48</td>\n    </tr>\n    <tr>\n      <th>2008-09-30</th>\n      <td>25.017619</td>\n      <td>8.57</td>\n      <td>28.75</td>\n      <td>141.243333</td>\n      <td>61.70</td>\n      <td>166.96</td>\n      <td>23.132381</td>\n      <td>4.98</td>\n      <td>25.43</td>\n      <td>110.209048</td>\n      <td>...</td>\n      <td>25.77</td>\n      <td>64.846190</td>\n      <td>4.41</td>\n      <td>66.76</td>\n      <td>1217.022857</td>\n      <td>171.16</td>\n      <td>1277.58</td>\n      <td>71.524762</td>\n      <td>6.90</td>\n      <td>75.01</td>\n    </tr>\n    <tr>\n      <th>2008-10-31</th>\n      <td>12.460435</td>\n      <td>11.54</td>\n      <td>20.07</td>\n      <td>99.003913</td>\n      <td>22.30</td>\n      <td>111.04</td>\n      <td>17.837826</td>\n      <td>6.00</td>\n      <td>21.71</td>\n      <td>86.587826</td>\n      <td>...</td>\n      <td>24.71</td>\n      <td>53.336522</td>\n      <td>18.59</td>\n      <td>65.31</td>\n      <td>968.800870</td>\n      <td>312.14</td>\n      <td>1161.06</td>\n      <td>66.922174</td>\n      <td>15.09</td>\n      <td>73.06</td>\n    </tr>\n    <tr>\n      <th>2008-11-30</th>\n      <td>9.815263</td>\n      <td>5.22</td>\n      <td>11.77</td>\n      <td>93.940526</td>\n      <td>30.50</td>\n      <td>110.99</td>\n      <td>14.945263</td>\n      <td>7.02</td>\n      <td>18.40</td>\n      <td>78.022632</td>\n      <td>...</td>\n      <td>21.96</td>\n      <td>49.866842</td>\n      <td>7.33</td>\n      <td>53.18</td>\n      <td>883.040526</td>\n      <td>253.31</td>\n      <td>1005.75</td>\n      <td>69.781053</td>\n      <td>11.57</td>\n      <td>75.64</td>\n    </tr>\n    <tr>\n      <th>2008-12-31</th>\n      <td>9.295455</td>\n      <td>3.06</td>\n      <td>10.77</td>\n      <td>91.543636</td>\n      <td>15.02</td>\n      <td>100.06</td>\n      <td>15.061818</td>\n      <td>3.00</td>\n      <td>16.73</td>\n      <td>77.910000</td>\n      <td>...</td>\n      <td>19.74</td>\n      <td>49.329545</td>\n      <td>2.62</td>\n      <td>50.42</td>\n      <td>877.561818</td>\n      <td>96.97</td>\n      <td>913.18</td>\n      <td>73.011818</td>\n      <td>8.26</td>\n      <td>77.75</td>\n    </tr>\n    <tr>\n      <th>2009-01-31</th>\n      <td>9.187000</td>\n      <td>4.15</td>\n      <td>11.60</td>\n      <td>88.775000</td>\n      <td>16.38</td>\n      <td>94.58</td>\n      <td>12.947500</td>\n      <td>4.56</td>\n      <td>15.42</td>\n      <td>83.659500</td>\n      <td>...</td>\n      <td>19.50</td>\n      <td>47.889500</td>\n      <td>5.27</td>\n      <td>51.42</td>\n      <td>865.575500</td>\n      <td>129.48</td>\n      <td>934.70</td>\n      <td>73.170500</td>\n      <td>6.12</td>\n      <td>76.35</td>\n    </tr>\n    <tr>\n      <th>2009-02-28</th>\n      <td>6.986842</td>\n      <td>2.63</td>\n      <td>8.31</td>\n      <td>94.074211</td>\n      <td>15.56</td>\n      <td>102.51</td>\n      <td>9.651053</td>\n      <td>3.50</td>\n      <td>11.41</td>\n      <td>87.231579</td>\n      <td>...</td>\n      <td>18.47</td>\n      <td>47.017368</td>\n      <td>4.95</td>\n      <td>49.18</td>\n      <td>805.227368</td>\n      <td>134.80</td>\n      <td>869.89</td>\n      <td>69.744737</td>\n      <td>11.69</td>\n      <td>75.51</td>\n    </tr>\n    <tr>\n      <th>2009-03-31</th>\n      <td>6.186818</td>\n      <td>2.84</td>\n      <td>7.94</td>\n      <td>97.505000</td>\n      <td>26.76</td>\n      <td>109.87</td>\n      <td>8.522727</td>\n      <td>3.94</td>\n      <td>10.13</td>\n      <td>87.696364</td>\n      <td>...</td>\n      <td>17.81</td>\n      <td>45.621364</td>\n      <td>6.82</td>\n      <td>49.28</td>\n      <td>757.126818</td>\n      <td>156.33</td>\n      <td>832.86</td>\n      <td>63.268636</td>\n      <td>8.47</td>\n      <td>66.95</td>\n    </tr>\n    <tr>\n      <th>2009-04-30</th>\n      <td>8.420476</td>\n      <td>1.62</td>\n      <td>9.05</td>\n      <td>120.020952</td>\n      <td>17.14</td>\n      <td>125.83</td>\n      <td>10.783333</td>\n      <td>2.31</td>\n      <td>11.76</td>\n      <td>96.433810</td>\n      <td>...</td>\n      <td>19.78</td>\n      <td>47.149048</td>\n      <td>4.61</td>\n      <td>49.00</td>\n      <td>848.151905</td>\n      <td>62.56</td>\n      <td>873.64</td>\n      <td>63.659524</td>\n      <td>5.34</td>\n      <td>66.20</td>\n    </tr>\n    <tr>\n      <th>2009-05-31</th>\n      <td>9.271000</td>\n      <td>1.83</td>\n      <td>10.29</td>\n      <td>128.149000</td>\n      <td>16.32</td>\n      <td>135.81</td>\n      <td>12.460500</td>\n      <td>1.71</td>\n      <td>13.51</td>\n      <td>99.502000</td>\n      <td>...</td>\n      <td>19.88</td>\n      <td>46.788500</td>\n      <td>2.75</td>\n      <td>48.26</td>\n      <td>902.408500</td>\n      <td>51.71</td>\n      <td>929.23</td>\n      <td>65.380500</td>\n      <td>3.38</td>\n      <td>66.96</td>\n    </tr>\n    <tr>\n      <th>2009-06-30</th>\n      <td>10.540455</td>\n      <td>2.34</td>\n      <td>11.98</td>\n      <td>139.528182</td>\n      <td>10.66</td>\n      <td>144.67</td>\n      <td>11.872727</td>\n      <td>2.08</td>\n      <td>12.88</td>\n      <td>102.372727</td>\n      <td>...</td>\n      <td>22.91</td>\n      <td>50.287273</td>\n      <td>2.45</td>\n      <td>51.36</td>\n      <td>926.115000</td>\n      <td>53.17</td>\n      <td>946.21</td>\n      <td>67.673636</td>\n      <td>5.29</td>\n      <td>70.01</td>\n    </tr>\n    <tr>\n      <th>2009-07-31</th>\n      <td>10.094545</td>\n      <td>2.48</td>\n      <td>11.53</td>\n      <td>149.318182</td>\n      <td>27.99</td>\n      <td>163.39</td>\n      <td>11.069545</td>\n      <td>2.52</td>\n      <td>12.56</td>\n      <td>105.765455</td>\n      <td>...</td>\n      <td>24.33</td>\n      <td>52.522727</td>\n      <td>2.43</td>\n      <td>53.53</td>\n      <td>935.821364</td>\n      <td>108.35</td>\n      <td>987.48</td>\n      <td>65.275909</td>\n      <td>7.21</td>\n      <td>68.78</td>\n    </tr>\n    <tr>\n      <th>2009-08-31</th>\n      <td>12.475714</td>\n      <td>1.63</td>\n      <td>13.47</td>\n      <td>166.280476</td>\n      <td>10.46</td>\n      <td>170.05</td>\n      <td>13.145238</td>\n      <td>1.26</td>\n      <td>13.78</td>\n      <td>114.458571</td>\n      <td>...</td>\n      <td>23.63</td>\n      <td>53.413810</td>\n      <td>2.69</td>\n      <td>55.19</td>\n      <td>1009.724762</td>\n      <td>51.25</td>\n      <td>1030.98</td>\n      <td>65.878571</td>\n      <td>4.64</td>\n      <td>67.89</td>\n    </tr>\n    <tr>\n      <th>2009-09-30</th>\n      <td>12.957143</td>\n      <td>2.87</td>\n      <td>14.22</td>\n      <td>177.786667</td>\n      <td>20.97</td>\n      <td>186.15</td>\n      <td>14.675238</td>\n      <td>3.67</td>\n      <td>16.04</td>\n      <td>115.001905</td>\n      <td>...</td>\n      <td>24.83</td>\n      <td>54.854762</td>\n      <td>3.82</td>\n      <td>56.39</td>\n      <td>1044.552381</td>\n      <td>76.91</td>\n      <td>1071.66</td>\n      <td>66.080476</td>\n      <td>2.35</td>\n      <td>67.21</td>\n    </tr>\n    <tr>\n      <th>2009-10-31</th>\n      <td>13.392273</td>\n      <td>2.39</td>\n      <td>14.11</td>\n      <td>192.831364</td>\n      <td>24.34</td>\n      <td>205.20</td>\n      <td>14.793636</td>\n      <td>2.44</td>\n      <td>15.88</td>\n      <td>118.215000</td>\n      <td>...</td>\n      <td>27.45</td>\n      <td>57.540000</td>\n      <td>3.98</td>\n      <td>59.05</td>\n      <td>1067.663636</td>\n      <td>72.70</td>\n      <td>1097.91</td>\n      <td>67.925000</td>\n      <td>7.93</td>\n      <td>71.26</td>\n    </tr>\n    <tr>\n      <th>2009-11-30</th>\n      <td>12.885000</td>\n      <td>1.29</td>\n      <td>13.55</td>\n      <td>200.320000</td>\n      <td>18.25</td>\n      <td>207.00</td>\n      <td>14.676000</td>\n      <td>1.87</td>\n      <td>15.25</td>\n      <td>121.863500</td>\n      <td>...</td>\n      <td>28.95</td>\n      <td>58.321000</td>\n      <td>2.95</td>\n      <td>59.53</td>\n      <td>1088.069000</td>\n      <td>67.75</td>\n      <td>1110.63</td>\n      <td>70.456000</td>\n      <td>5.35</td>\n      <td>73.17</td>\n    </tr>\n    <tr>\n      <th>2009-12-31</th>\n      <td>14.404091</td>\n      <td>3.49</td>\n      <td>16.10</td>\n      <td>198.954545</td>\n      <td>22.69</td>\n      <td>211.64</td>\n      <td>14.826364</td>\n      <td>0.91</td>\n      <td>15.27</td>\n      <td>125.078182</td>\n      <td>...</td>\n      <td>30.18</td>\n      <td>58.459091</td>\n      <td>4.51</td>\n      <td>60.94</td>\n      <td>1110.377727</td>\n      <td>35.84</td>\n      <td>1127.78</td>\n      <td>67.775455</td>\n      <td>7.51</td>\n      <td>72.75</td>\n    </tr>\n    <tr>\n      <th>2010-01-31</th>\n      <td>14.940000</td>\n      <td>4.65</td>\n      <td>17.19</td>\n      <td>207.715263</td>\n      <td>22.98</td>\n      <td>215.04</td>\n      <td>15.443158</td>\n      <td>1.31</td>\n      <td>15.97</td>\n      <td>124.986316</td>\n      <td>...</td>\n      <td>29.90</td>\n      <td>57.993684</td>\n      <td>3.02</td>\n      <td>59.58</td>\n      <td>1123.581579</td>\n      <td>76.36</td>\n      <td>1150.23</td>\n      <td>65.132632</td>\n      <td>5.61</td>\n      <td>67.26</td>\n    </tr>\n    <tr>\n      <th>2010-02-28</th>\n      <td>13.186316</td>\n      <td>0.82</td>\n      <td>13.56</td>\n      <td>198.795789</td>\n      <td>12.57</td>\n      <td>204.62</td>\n      <td>15.228947</td>\n      <td>1.23</td>\n      <td>15.99</td>\n      <td>121.737368</td>\n      <td>...</td>\n      <td>27.98</td>\n      <td>58.095263</td>\n      <td>3.51</td>\n      <td>59.45</td>\n      <td>1089.160000</td>\n      <td>52.43</td>\n      <td>1109.17</td>\n      <td>62.924211</td>\n      <td>2.15</td>\n      <td>64.07</td>\n    </tr>\n    <tr>\n      <th>2010-03-31</th>\n      <td>13.752609</td>\n      <td>1.24</td>\n      <td>14.31</td>\n      <td>223.410870</td>\n      <td>27.00</td>\n      <td>235.85</td>\n      <td>16.569565</td>\n      <td>2.44</td>\n      <td>17.62</td>\n      <td>124.402609</td>\n      <td>...</td>\n      <td>28.99</td>\n      <td>62.551739</td>\n      <td>3.70</td>\n      <td>63.88</td>\n      <td>1152.048696</td>\n      <td>58.46</td>\n      <td>1174.17</td>\n      <td>64.142174</td>\n      <td>1.92</td>\n      <td>64.90</td>\n    </tr>\n    <tr>\n      <th>2010-04-30</th>\n      <td>13.979048</td>\n      <td>1.58</td>\n      <td>14.84</td>\n      <td>251.148571</td>\n      <td>34.86</td>\n      <td>270.83</td>\n      <td>18.042381</td>\n      <td>1.12</td>\n      <td>18.62</td>\n      <td>126.073333</td>\n      <td>...</td>\n      <td>30.32</td>\n      <td>62.820000</td>\n      <td>2.34</td>\n      <td>63.71</td>\n      <td>1197.316190</td>\n      <td>39.18</td>\n      <td>1217.28</td>\n      <td>65.895714</td>\n      <td>1.88</td>\n      <td>66.73</td>\n    </tr>\n    <tr>\n      <th>2010-05-31</th>\n      <td>11.856000</td>\n      <td>2.03</td>\n      <td>12.98</td>\n      <td>251.461500</td>\n      <td>30.49</td>\n      <td>266.35</td>\n      <td>16.520500</td>\n      <td>3.16</td>\n      <td>18.39</td>\n      <td>124.223500</td>\n      <td>...</td>\n      <td>29.81</td>\n      <td>62.013000</td>\n      <td>5.46</td>\n      <td>63.96</td>\n      <td>1125.062000</td>\n      <td>134.31</td>\n      <td>1202.26</td>\n      <td>61.044000</td>\n      <td>7.82</td>\n      <td>65.33</td>\n    </tr>\n    <tr>\n      <th>2010-06-30</th>\n      <td>10.992273</td>\n      <td>1.64</td>\n      <td>11.60</td>\n      <td>261.145455</td>\n      <td>30.87</td>\n      <td>274.07</td>\n      <td>14.885909</td>\n      <td>1.85</td>\n      <td>15.71</td>\n      <td>124.734091</td>\n      <td>...</td>\n      <td>26.06</td>\n      <td>60.517727</td>\n      <td>3.58</td>\n      <td>62.09</td>\n      <td>1083.360909</td>\n      <td>86.80</td>\n      <td>1117.51</td>\n      <td>58.866818</td>\n      <td>5.88</td>\n      <td>61.21</td>\n    </tr>\n    <tr>\n      <th>2010-07-31</th>\n      <td>10.653333</td>\n      <td>1.21</td>\n      <td>11.11</td>\n      <td>254.950000</td>\n      <td>18.50</td>\n      <td>264.08</td>\n      <td>14.528095</td>\n      <td>2.21</td>\n      <td>15.55</td>\n      <td>124.769524</td>\n      <td>...</td>\n      <td>25.38</td>\n      <td>61.278095</td>\n      <td>4.02</td>\n      <td>63.25</td>\n      <td>1079.803333</td>\n      <td>92.43</td>\n      <td>1115.01</td>\n      <td>57.171905</td>\n      <td>4.21</td>\n      <td>59.06</td>\n    </tr>\n    <tr>\n      <th>2010-08-31</th>\n      <td>10.733636</td>\n      <td>1.66</td>\n      <td>11.59</td>\n      <td>251.323182</td>\n      <td>23.05</td>\n      <td>262.98</td>\n      <td>14.882727</td>\n      <td>1.96</td>\n      <td>15.87</td>\n      <td>125.742273</td>\n      <td>...</td>\n      <td>25.55</td>\n      <td>62.759545</td>\n      <td>2.82</td>\n      <td>64.06</td>\n      <td>1087.282273</td>\n      <td>80.57</td>\n      <td>1127.79</td>\n      <td>58.885909</td>\n      <td>3.70</td>\n      <td>60.81</td>\n    </tr>\n    <tr>\n      <th>2010-09-30</th>\n      <td>11.342381</td>\n      <td>1.68</td>\n      <td>12.12</td>\n      <td>273.850952</td>\n      <td>41.99</td>\n      <td>292.32</td>\n      <td>15.513810</td>\n      <td>1.71</td>\n      <td>16.13</td>\n      <td>127.961429</td>\n      <td>...</td>\n      <td>24.81</td>\n      <td>64.144762</td>\n      <td>1.94</td>\n      <td>64.89</td>\n      <td>1122.081905</td>\n      <td>68.38</td>\n      <td>1148.67</td>\n      <td>59.808571</td>\n      <td>1.47</td>\n      <td>60.60</td>\n    </tr>\n    <tr>\n      <th>2010-10-31</th>\n      <td>12.662857</td>\n      <td>1.44</td>\n      <td>13.27</td>\n      <td>300.934286</td>\n      <td>39.36</td>\n      <td>318.00</td>\n      <td>15.946190</td>\n      <td>1.22</td>\n      <td>16.73</td>\n      <td>137.252857</td>\n      <td>...</td>\n      <td>26.02</td>\n      <td>63.951905</td>\n      <td>3.72</td>\n      <td>66.07</td>\n      <td>1171.583810</td>\n      <td>48.61</td>\n      <td>1185.64</td>\n      <td>63.524762</td>\n      <td>4.24</td>\n      <td>64.97</td>\n    </tr>\n    <tr>\n      <th>2010-11-30</th>\n      <td>13.321905</td>\n      <td>1.05</td>\n      <td>13.92</td>\n      <td>311.588095</td>\n      <td>18.12</td>\n      <td>318.62</td>\n      <td>15.633333</td>\n      <td>0.94</td>\n      <td>16.20</td>\n      <td>142.458571</td>\n      <td>...</td>\n      <td>26.72</td>\n      <td>62.803810</td>\n      <td>1.85</td>\n      <td>63.83</td>\n      <td>1198.888571</td>\n      <td>47.51</td>\n      <td>1225.85</td>\n      <td>68.366667</td>\n      <td>5.20</td>\n      <td>70.58</td>\n    </tr>\n    <tr>\n      <th>2010-12-31</th>\n      <td>14.495455</td>\n      <td>1.81</td>\n      <td>15.30</td>\n      <td>321.485909</td>\n      <td>9.07</td>\n      <td>325.47</td>\n      <td>17.055455</td>\n      <td>2.09</td>\n      <td>17.87</td>\n      <td>143.410000</td>\n      <td>...</td>\n      <td>27.78</td>\n      <td>63.851818</td>\n      <td>1.64</td>\n      <td>64.81</td>\n      <td>1241.525455</td>\n      <td>53.71</td>\n      <td>1259.78</td>\n      <td>71.055455</td>\n      <td>2.19</td>\n      <td>72.15</td>\n    </tr>\n    <tr>\n      <th>2011-01-31</th>\n      <td>16.159000</td>\n      <td>0.85</td>\n      <td>16.51</td>\n      <td>338.380000</td>\n      <td>21.76</td>\n      <td>348.48</td>\n      <td>18.607500</td>\n      <td>1.95</td>\n      <td>19.79</td>\n      <td>151.240000</td>\n      <td>...</td>\n      <td>28.33</td>\n      <td>64.510500</td>\n      <td>2.54</td>\n      <td>65.39</td>\n      <td>1282.618500</td>\n      <td>29.79</td>\n      <td>1299.54</td>\n      <td>76.010500</td>\n      <td>6.02</td>\n      <td>79.28</td>\n    </tr>\n    <tr>\n      <th>2011-02-28</th>\n      <td>17.072105</td>\n      <td>1.14</td>\n      <td>17.52</td>\n      <td>351.182632</td>\n      <td>24.52</td>\n      <td>363.13</td>\n      <td>20.549474</td>\n      <td>1.13</td>\n      <td>21.00</td>\n      <td>161.738947</td>\n      <td>...</td>\n      <td>27.76</td>\n      <td>62.402105</td>\n      <td>2.07</td>\n      <td>63.58</td>\n      <td>1321.117895</td>\n      <td>38.98</td>\n      <td>1343.01</td>\n      <td>83.010000</td>\n      <td>4.46</td>\n      <td>86.01</td>\n    </tr>\n    <tr>\n      <th>2011-03-31</th>\n      <td>16.485217</td>\n      <td>1.99</td>\n      <td>17.59</td>\n      <td>347.490870</td>\n      <td>29.99</td>\n      <td>360.00</td>\n      <td>19.596522</td>\n      <td>1.77</td>\n      <td>20.39</td>\n      <td>159.020435</td>\n      <td>...</td>\n      <td>25.87</td>\n      <td>62.856957</td>\n      <td>2.69</td>\n      <td>64.06</td>\n      <td>1304.486522</td>\n      <td>74.09</td>\n      <td>1330.97</td>\n      <td>82.152609</td>\n      <td>6.43</td>\n      <td>84.78</td>\n    </tr>\n    <tr>\n      <th>2011-04-30</th>\n      <td>17.069000</td>\n      <td>1.99</td>\n      <td>18.06</td>\n      <td>340.415500</td>\n      <td>25.55</td>\n      <td>353.01</td>\n      <td>19.882500</td>\n      <td>0.75</td>\n      <td>20.29</td>\n      <td>164.522000</td>\n      <td>...</td>\n      <td>26.37</td>\n      <td>65.793500</td>\n      <td>4.56</td>\n      <td>68.66</td>\n      <td>1331.505000</td>\n      <td>58.47</td>\n      <td>1363.61</td>\n      <td>84.299000</td>\n      <td>4.82</td>\n      <td>86.91</td>\n    </tr>\n    <tr>\n      <th>2011-05-31</th>\n      <td>16.806190</td>\n      <td>1.65</td>\n      <td>17.60</td>\n      <td>341.784762</td>\n      <td>17.38</td>\n      <td>349.57</td>\n      <td>19.493810</td>\n      <td>1.52</td>\n      <td>20.28</td>\n      <td>168.752381</td>\n      <td>...</td>\n      <td>25.73</td>\n      <td>69.359524</td>\n      <td>2.90</td>\n      <td>70.69</td>\n      <td>1338.310476</td>\n      <td>44.94</td>\n      <td>1361.22</td>\n      <td>81.729048</td>\n      <td>6.20</td>\n      <td>85.91</td>\n    </tr>\n    <tr>\n      <th>2011-06-30</th>\n      <td>15.390000</td>\n      <td>1.48</td>\n      <td>16.17</td>\n      <td>331.081364</td>\n      <td>30.78</td>\n      <td>346.10</td>\n      <td>18.295000</td>\n      <td>0.99</td>\n      <td>18.79</td>\n      <td>164.875455</td>\n      <td>...</td>\n      <td>25.84</td>\n      <td>68.563182</td>\n      <td>2.43</td>\n      <td>69.87</td>\n      <td>1287.288636</td>\n      <td>55.22</td>\n      <td>1320.64</td>\n      <td>79.365909</td>\n      <td>5.21</td>\n      <td>81.49</td>\n    </tr>\n    <tr>\n      <th>2011-07-31</th>\n      <td>15.648000</td>\n      <td>1.76</td>\n      <td>16.46</td>\n      <td>372.238000</td>\n      <td>60.15</td>\n      <td>403.41</td>\n      <td>18.500500</td>\n      <td>1.38</td>\n      <td>19.12</td>\n      <td>178.204500</td>\n      <td>...</td>\n      <td>27.90</td>\n      <td>67.065500</td>\n      <td>6.61</td>\n      <td>69.96</td>\n      <td>1325.184500</td>\n      <td>60.94</td>\n      <td>1353.22</td>\n      <td>82.196500</td>\n      <td>5.39</td>\n      <td>84.66</td>\n    </tr>\n    <tr>\n      <th>2011-08-31</th>\n      <td>12.353478</td>\n      <td>3.51</td>\n      <td>14.72</td>\n      <td>376.762609</td>\n      <td>43.54</td>\n      <td>396.75</td>\n      <td>15.878261</td>\n      <td>2.85</td>\n      <td>17.80</td>\n      <td>169.194348</td>\n      <td>...</td>\n      <td>27.10</td>\n      <td>62.885217</td>\n      <td>4.59</td>\n      <td>64.43</td>\n      <td>1185.305652</td>\n      <td>167.48</td>\n      <td>1286.94</td>\n      <td>73.058696</td>\n      <td>11.05</td>\n      <td>79.08</td>\n    </tr>\n    <tr>\n      <th>2011-09-30</th>\n      <td>11.209524</td>\n      <td>2.92</td>\n      <td>12.49</td>\n      <td>392.493333</td>\n      <td>39.40</td>\n      <td>413.45</td>\n      <td>15.557143</td>\n      <td>1.46</td>\n      <td>16.33</td>\n      <td>170.245714</td>\n      <td>...</td>\n      <td>27.21</td>\n      <td>61.626190</td>\n      <td>4.16</td>\n      <td>64.15</td>\n      <td>1173.879048</td>\n      <td>86.45</td>\n      <td>1216.01</td>\n      <td>72.399524</td>\n      <td>5.31</td>\n      <td>74.55</td>\n    </tr>\n    <tr>\n      <th>2011-10-31</th>\n      <td>9.778000</td>\n      <td>1.40</td>\n      <td>10.30</td>\n      <td>389.424000</td>\n      <td>52.20</td>\n      <td>422.00</td>\n      <td>15.735000</td>\n      <td>1.91</td>\n      <td>16.60</td>\n      <td>182.405000</td>\n      <td>...</td>\n      <td>27.27</td>\n      <td>61.274000</td>\n      <td>2.41</td>\n      <td>62.70</td>\n      <td>1171.356000</td>\n      <td>125.35</td>\n      <td>1224.58</td>\n      <td>74.957000</td>\n      <td>6.96</td>\n      <td>78.11</td>\n    </tr>\n  </tbody>\n</table>\n<p>49 rows × 27 columns</p>\n</div>"
          },
          "metadata": {},
          "execution_count": 19
        }
      ]
    },
    {
      "cell_type": "markdown",
      "metadata": {
        "id": "md1T2hWQGdb1",
        "colab_type": "text"
      },
      "source": [
        "## fillna\n",
        "\n",
        "Fill NA/NaN values using the specified method"
      ]
    },
    {
      "cell_type": "code",
      "metadata": {
        "id": "g4Ybxew4Gdb3",
        "colab_type": "code",
        "colab": {}
      },
      "source": [
        "df1 = df.asfreq('6M')"
      ],
      "execution_count": 20,
      "outputs": []
    },
    {
      "cell_type": "code",
      "metadata": {
        "id": "EqYnq0IvGdb6",
        "colab_type": "code",
        "colab": {}
      },
      "source": [
        "df1"
      ],
      "execution_count": 21,
      "outputs": [
        {
          "output_type": "execute_result",
          "data": {
            "text/plain": [
              "               AA    AAPL     GE     IBM    JNJ   MSFT    PEP      SPX    XOM\n",
              "date                                                                         \n",
              "2007-10-31  36.79  189.95  34.97  108.01  57.30  33.84  65.69  1549.38  84.03\n",
              "2008-04-30  32.65  173.95  28.28  113.10  59.74  26.41  61.70  1385.59  85.71\n",
              "2008-10-31  10.85  107.59  17.29   87.81  55.37  20.84  51.97   968.75  68.92\n",
              "2009-04-30   8.87  125.83  11.76   98.56  48.05  19.16  46.12   872.81  62.66\n",
              "2009-10-31    NaN     NaN    NaN     NaN    NaN    NaN    NaN      NaN    NaN\n",
              "2010-04-30  13.26  261.09  18.01  125.53  60.95  29.50  62.32  1186.69  65.26\n",
              "2010-10-31    NaN     NaN    NaN     NaN    NaN    NaN    NaN      NaN    NaN\n",
              "2011-04-30    NaN     NaN    NaN     NaN    NaN    NaN    NaN      NaN    NaN"
            ],
            "text/html": "<div>\n<style scoped>\n    .dataframe tbody tr th:only-of-type {\n        vertical-align: middle;\n    }\n\n    .dataframe tbody tr th {\n        vertical-align: top;\n    }\n\n    .dataframe thead th {\n        text-align: right;\n    }\n</style>\n<table border=\"1\" class=\"dataframe\">\n  <thead>\n    <tr style=\"text-align: right;\">\n      <th></th>\n      <th>AA</th>\n      <th>AAPL</th>\n      <th>GE</th>\n      <th>IBM</th>\n      <th>JNJ</th>\n      <th>MSFT</th>\n      <th>PEP</th>\n      <th>SPX</th>\n      <th>XOM</th>\n    </tr>\n    <tr>\n      <th>date</th>\n      <th></th>\n      <th></th>\n      <th></th>\n      <th></th>\n      <th></th>\n      <th></th>\n      <th></th>\n      <th></th>\n      <th></th>\n    </tr>\n  </thead>\n  <tbody>\n    <tr>\n      <th>2007-10-31</th>\n      <td>36.79</td>\n      <td>189.95</td>\n      <td>34.97</td>\n      <td>108.01</td>\n      <td>57.30</td>\n      <td>33.84</td>\n      <td>65.69</td>\n      <td>1549.38</td>\n      <td>84.03</td>\n    </tr>\n    <tr>\n      <th>2008-04-30</th>\n      <td>32.65</td>\n      <td>173.95</td>\n      <td>28.28</td>\n      <td>113.10</td>\n      <td>59.74</td>\n      <td>26.41</td>\n      <td>61.70</td>\n      <td>1385.59</td>\n      <td>85.71</td>\n    </tr>\n    <tr>\n      <th>2008-10-31</th>\n      <td>10.85</td>\n      <td>107.59</td>\n      <td>17.29</td>\n      <td>87.81</td>\n      <td>55.37</td>\n      <td>20.84</td>\n      <td>51.97</td>\n      <td>968.75</td>\n      <td>68.92</td>\n    </tr>\n    <tr>\n      <th>2009-04-30</th>\n      <td>8.87</td>\n      <td>125.83</td>\n      <td>11.76</td>\n      <td>98.56</td>\n      <td>48.05</td>\n      <td>19.16</td>\n      <td>46.12</td>\n      <td>872.81</td>\n      <td>62.66</td>\n    </tr>\n    <tr>\n      <th>2009-10-31</th>\n      <td>NaN</td>\n      <td>NaN</td>\n      <td>NaN</td>\n      <td>NaN</td>\n      <td>NaN</td>\n      <td>NaN</td>\n      <td>NaN</td>\n      <td>NaN</td>\n      <td>NaN</td>\n    </tr>\n    <tr>\n      <th>2010-04-30</th>\n      <td>13.26</td>\n      <td>261.09</td>\n      <td>18.01</td>\n      <td>125.53</td>\n      <td>60.95</td>\n      <td>29.50</td>\n      <td>62.32</td>\n      <td>1186.69</td>\n      <td>65.26</td>\n    </tr>\n    <tr>\n      <th>2010-10-31</th>\n      <td>NaN</td>\n      <td>NaN</td>\n      <td>NaN</td>\n      <td>NaN</td>\n      <td>NaN</td>\n      <td>NaN</td>\n      <td>NaN</td>\n      <td>NaN</td>\n      <td>NaN</td>\n    </tr>\n    <tr>\n      <th>2011-04-30</th>\n      <td>NaN</td>\n      <td>NaN</td>\n      <td>NaN</td>\n      <td>NaN</td>\n      <td>NaN</td>\n      <td>NaN</td>\n      <td>NaN</td>\n      <td>NaN</td>\n      <td>NaN</td>\n    </tr>\n  </tbody>\n</table>\n</div>"
          },
          "metadata": {},
          "execution_count": 21
        }
      ]
    },
    {
      "cell_type": "code",
      "metadata": {
        "id": "hsbbZd_SGdb9",
        "colab_type": "code",
        "colab": {}
      },
      "source": [
        "df1.fillna?"
      ],
      "execution_count": 22,
      "outputs": [
        {
          "output_type": "stream",
          "text": [
            "\u001b[1;31mSignature:\u001b[0m\n",
            "\u001b[0mdf1\u001b[0m\u001b[1;33m.\u001b[0m\u001b[0mfillna\u001b[0m\u001b[1;33m(\u001b[0m\u001b[1;33m\n",
            "\u001b[0m    \u001b[0mvalue\u001b[0m\u001b[1;33m=\u001b[0m\u001b[1;32mNone\u001b[0m\u001b[1;33m,\u001b[0m\u001b[1;33m\n",
            "\u001b[0m    \u001b[0mmethod\u001b[0m\u001b[1;33m=\u001b[0m\u001b[1;32mNone\u001b[0m\u001b[1;33m,\u001b[0m\u001b[1;33m\n",
            "\u001b[0m    \u001b[0maxis\u001b[0m\u001b[1;33m=\u001b[0m\u001b[1;32mNone\u001b[0m\u001b[1;33m,\u001b[0m\u001b[1;33m\n",
            "\u001b[0m    \u001b[0minplace\u001b[0m\u001b[1;33m=\u001b[0m\u001b[1;32mFalse\u001b[0m\u001b[1;33m,\u001b[0m\u001b[1;33m\n",
            "\u001b[0m    \u001b[0mlimit\u001b[0m\u001b[1;33m=\u001b[0m\u001b[1;32mNone\u001b[0m\u001b[1;33m,\u001b[0m\u001b[1;33m\n",
            "\u001b[0m    \u001b[0mdowncast\u001b[0m\u001b[1;33m=\u001b[0m\u001b[1;32mNone\u001b[0m\u001b[1;33m,\u001b[0m\u001b[1;33m\n",
            "\u001b[0m\u001b[1;33m)\u001b[0m \u001b[1;33m->\u001b[0m \u001b[0mUnion\u001b[0m\u001b[1;33m[\u001b[0m\u001b[0mForwardRef\u001b[0m\u001b[1;33m(\u001b[0m\u001b[1;34m'DataFrame'\u001b[0m\u001b[1;33m)\u001b[0m\u001b[1;33m,\u001b[0m \u001b[0mNoneType\u001b[0m\u001b[1;33m]\u001b[0m\u001b[1;33m\u001b[0m\u001b[1;33m\u001b[0m\u001b[0m\n",
            "\u001b[1;31mDocstring:\u001b[0m\n",
            "Fill NA/NaN values using the specified method.\n",
            "\n",
            "Parameters\n",
            "----------\n",
            "value : scalar, dict, Series, or DataFrame\n",
            "    Value to use to fill holes (e.g. 0), alternately a\n",
            "    dict/Series/DataFrame of values specifying which value to use for\n",
            "    each index (for a Series) or column (for a DataFrame).  Values not\n",
            "    in the dict/Series/DataFrame will not be filled. This value cannot\n",
            "    be a list.\n",
            "method : {'backfill', 'bfill', 'pad', 'ffill', None}, default None\n",
            "    Method to use for filling holes in reindexed Series\n",
            "    pad / ffill: propagate last valid observation forward to next valid\n",
            "    backfill / bfill: use next valid observation to fill gap.\n",
            "axis : {0 or 'index', 1 or 'columns'}\n",
            "    Axis along which to fill missing values.\n",
            "inplace : bool, default False\n",
            "    If True, fill in-place. Note: this will modify any\n",
            "    other views on this object (e.g., a no-copy slice for a column in a\n",
            "    DataFrame).\n",
            "limit : int, default None\n",
            "    If method is specified, this is the maximum number of consecutive\n",
            "    NaN values to forward/backward fill. In other words, if there is\n",
            "    a gap with more than this number of consecutive NaNs, it will only\n",
            "    be partially filled. If method is not specified, this is the\n",
            "    maximum number of entries along the entire axis where NaNs will be\n",
            "    filled. Must be greater than 0 if not None.\n",
            "downcast : dict, default is None\n",
            "    A dict of item->dtype of what to downcast if possible,\n",
            "    or the string 'infer' which will try to downcast to an appropriate\n",
            "    equal type (e.g. float64 to int64 if possible).\n",
            "\n",
            "Returns\n",
            "-------\n",
            "DataFrame or None\n",
            "    Object with missing values filled or None if ``inplace=True``.\n",
            "\n",
            "See Also\n",
            "--------\n",
            "interpolate : Fill NaN values using interpolation.\n",
            "reindex : Conform object to new index.\n",
            "asfreq : Convert TimeSeries to specified frequency.\n",
            "\n",
            "Examples\n",
            "--------\n",
            ">>> df = pd.DataFrame([[np.nan, 2, np.nan, 0],\n",
            "...                    [3, 4, np.nan, 1],\n",
            "...                    [np.nan, np.nan, np.nan, 5],\n",
            "...                    [np.nan, 3, np.nan, 4]],\n",
            "...                   columns=list('ABCD'))\n",
            ">>> df\n",
            "     A    B   C  D\n",
            "0  NaN  2.0 NaN  0\n",
            "1  3.0  4.0 NaN  1\n",
            "2  NaN  NaN NaN  5\n",
            "3  NaN  3.0 NaN  4\n",
            "\n",
            "Replace all NaN elements with 0s.\n",
            "\n",
            ">>> df.fillna(0)\n",
            "    A   B   C   D\n",
            "0   0.0 2.0 0.0 0\n",
            "1   3.0 4.0 0.0 1\n",
            "2   0.0 0.0 0.0 5\n",
            "3   0.0 3.0 0.0 4\n",
            "\n",
            "We can also propagate non-null values forward or backward.\n",
            "\n",
            ">>> df.fillna(method='ffill')\n",
            "    A   B   C   D\n",
            "0   NaN 2.0 NaN 0\n",
            "1   3.0 4.0 NaN 1\n",
            "2   3.0 4.0 NaN 5\n",
            "3   3.0 3.0 NaN 4\n",
            "\n",
            "Replace all NaN elements in column 'A', 'B', 'C', and 'D', with 0, 1,\n",
            "2, and 3 respectively.\n",
            "\n",
            ">>> values = {'A': 0, 'B': 1, 'C': 2, 'D': 3}\n",
            ">>> df.fillna(value=values)\n",
            "    A   B   C   D\n",
            "0   0.0 2.0 2.0 0\n",
            "1   3.0 4.0 2.0 1\n",
            "2   0.0 1.0 2.0 5\n",
            "3   0.0 3.0 2.0 4\n",
            "\n",
            "Only replace the first NaN element.\n",
            "\n",
            ">>> df.fillna(value=values, limit=1)\n",
            "    A   B   C   D\n",
            "0   0.0 2.0 2.0 0\n",
            "1   3.0 4.0 NaN 1\n",
            "2   NaN 1.0 NaN 5\n",
            "3   NaN 3.0 NaN 4\n",
            "\u001b[1;31mFile:\u001b[0m      c:\\users\\hp\\appdata\\local\\programs\\python\\python38\\lib\\site-packages\\pandas\\core\\frame.py\n",
            "\u001b[1;31mType:\u001b[0m      method\n"
          ],
          "name": "stdout"
        }
      ]
    },
    {
      "cell_type": "code",
      "metadata": {
        "id": "ulGkbCJRGdcA",
        "colab_type": "code",
        "colab": {}
      },
      "source": [
        "df1.fillna(method='ffill', inplace=True)"
      ],
      "execution_count": 23,
      "outputs": []
    },
    {
      "cell_type": "code",
      "metadata": {
        "id": "aVh8UNQqGdcE",
        "colab_type": "code",
        "colab": {}
      },
      "source": [
        "df1"
      ],
      "execution_count": 24,
      "outputs": [
        {
          "output_type": "execute_result",
          "data": {
            "text/plain": [
              "               AA    AAPL     GE     IBM    JNJ   MSFT    PEP      SPX    XOM\n",
              "date                                                                         \n",
              "2007-10-31  36.79  189.95  34.97  108.01  57.30  33.84  65.69  1549.38  84.03\n",
              "2008-04-30  32.65  173.95  28.28  113.10  59.74  26.41  61.70  1385.59  85.71\n",
              "2008-10-31  10.85  107.59  17.29   87.81  55.37  20.84  51.97   968.75  68.92\n",
              "2009-04-30   8.87  125.83  11.76   98.56  48.05  19.16  46.12   872.81  62.66\n",
              "2009-10-31   8.87  125.83  11.76   98.56  48.05  19.16  46.12   872.81  62.66\n",
              "2010-04-30  13.26  261.09  18.01  125.53  60.95  29.50  62.32  1186.69  65.26\n",
              "2010-10-31  13.26  261.09  18.01  125.53  60.95  29.50  62.32  1186.69  65.26\n",
              "2011-04-30  13.26  261.09  18.01  125.53  60.95  29.50  62.32  1186.69  65.26"
            ],
            "text/html": "<div>\n<style scoped>\n    .dataframe tbody tr th:only-of-type {\n        vertical-align: middle;\n    }\n\n    .dataframe tbody tr th {\n        vertical-align: top;\n    }\n\n    .dataframe thead th {\n        text-align: right;\n    }\n</style>\n<table border=\"1\" class=\"dataframe\">\n  <thead>\n    <tr style=\"text-align: right;\">\n      <th></th>\n      <th>AA</th>\n      <th>AAPL</th>\n      <th>GE</th>\n      <th>IBM</th>\n      <th>JNJ</th>\n      <th>MSFT</th>\n      <th>PEP</th>\n      <th>SPX</th>\n      <th>XOM</th>\n    </tr>\n    <tr>\n      <th>date</th>\n      <th></th>\n      <th></th>\n      <th></th>\n      <th></th>\n      <th></th>\n      <th></th>\n      <th></th>\n      <th></th>\n      <th></th>\n    </tr>\n  </thead>\n  <tbody>\n    <tr>\n      <th>2007-10-31</th>\n      <td>36.79</td>\n      <td>189.95</td>\n      <td>34.97</td>\n      <td>108.01</td>\n      <td>57.30</td>\n      <td>33.84</td>\n      <td>65.69</td>\n      <td>1549.38</td>\n      <td>84.03</td>\n    </tr>\n    <tr>\n      <th>2008-04-30</th>\n      <td>32.65</td>\n      <td>173.95</td>\n      <td>28.28</td>\n      <td>113.10</td>\n      <td>59.74</td>\n      <td>26.41</td>\n      <td>61.70</td>\n      <td>1385.59</td>\n      <td>85.71</td>\n    </tr>\n    <tr>\n      <th>2008-10-31</th>\n      <td>10.85</td>\n      <td>107.59</td>\n      <td>17.29</td>\n      <td>87.81</td>\n      <td>55.37</td>\n      <td>20.84</td>\n      <td>51.97</td>\n      <td>968.75</td>\n      <td>68.92</td>\n    </tr>\n    <tr>\n      <th>2009-04-30</th>\n      <td>8.87</td>\n      <td>125.83</td>\n      <td>11.76</td>\n      <td>98.56</td>\n      <td>48.05</td>\n      <td>19.16</td>\n      <td>46.12</td>\n      <td>872.81</td>\n      <td>62.66</td>\n    </tr>\n    <tr>\n      <th>2009-10-31</th>\n      <td>8.87</td>\n      <td>125.83</td>\n      <td>11.76</td>\n      <td>98.56</td>\n      <td>48.05</td>\n      <td>19.16</td>\n      <td>46.12</td>\n      <td>872.81</td>\n      <td>62.66</td>\n    </tr>\n    <tr>\n      <th>2010-04-30</th>\n      <td>13.26</td>\n      <td>261.09</td>\n      <td>18.01</td>\n      <td>125.53</td>\n      <td>60.95</td>\n      <td>29.50</td>\n      <td>62.32</td>\n      <td>1186.69</td>\n      <td>65.26</td>\n    </tr>\n    <tr>\n      <th>2010-10-31</th>\n      <td>13.26</td>\n      <td>261.09</td>\n      <td>18.01</td>\n      <td>125.53</td>\n      <td>60.95</td>\n      <td>29.50</td>\n      <td>62.32</td>\n      <td>1186.69</td>\n      <td>65.26</td>\n    </tr>\n    <tr>\n      <th>2011-04-30</th>\n      <td>13.26</td>\n      <td>261.09</td>\n      <td>18.01</td>\n      <td>125.53</td>\n      <td>60.95</td>\n      <td>29.50</td>\n      <td>62.32</td>\n      <td>1186.69</td>\n      <td>65.26</td>\n    </tr>\n  </tbody>\n</table>\n</div>"
          },
          "metadata": {},
          "execution_count": 24
        }
      ]
    },
    {
      "cell_type": "markdown",
      "metadata": {
        "id": "UH2gCQXbGdcG",
        "colab_type": "text"
      },
      "source": [
        "## reindex\n",
        "\n",
        " Change Series to new index with optional filling logic"
      ]
    },
    {
      "cell_type": "code",
      "metadata": {
        "id": "noGRluXxGdcH",
        "colab_type": "code",
        "colab": {}
      },
      "source": [
        "df2 = df.resample('Y').mean()"
      ],
      "execution_count": 25,
      "outputs": []
    },
    {
      "cell_type": "code",
      "metadata": {
        "id": "j1rBA2ziGdcN",
        "colab_type": "code",
        "colab": {}
      },
      "source": [
        "date_index = pd.date_range('20071201', end='20111231', freq='7D')"
      ],
      "execution_count": 26,
      "outputs": []
    },
    {
      "cell_type": "code",
      "metadata": {
        "id": "VRf9hIl0GdcQ",
        "colab_type": "code",
        "colab": {}
      },
      "source": [
        "date_index"
      ],
      "execution_count": 27,
      "outputs": [
        {
          "output_type": "execute_result",
          "data": {
            "text/plain": [
              "DatetimeIndex(['2007-12-01', '2007-12-08', '2007-12-15', '2007-12-22',\n",
              "               '2007-12-29', '2008-01-05', '2008-01-12', '2008-01-19',\n",
              "               '2008-01-26', '2008-02-02',\n",
              "               ...\n",
              "               '2011-10-29', '2011-11-05', '2011-11-12', '2011-11-19',\n",
              "               '2011-11-26', '2011-12-03', '2011-12-10', '2011-12-17',\n",
              "               '2011-12-24', '2011-12-31'],\n",
              "              dtype='datetime64[ns]', length=214, freq='7D')"
            ]
          },
          "metadata": {},
          "execution_count": 27
        }
      ]
    },
    {
      "cell_type": "code",
      "metadata": {
        "id": "iT2LwyldGdcS",
        "colab_type": "code",
        "colab": {}
      },
      "source": [
        "df2 = df2.reindex(date_index,method='ffill')"
      ],
      "execution_count": 28,
      "outputs": []
    },
    {
      "cell_type": "code",
      "metadata": {
        "id": "Vrwe5z4EGdcX",
        "colab_type": "code",
        "colab": {}
      },
      "source": [
        "df2"
      ],
      "execution_count": 29,
      "outputs": [
        {
          "output_type": "execute_result",
          "data": {
            "text/plain": [
              "                   AA        AAPL        GE         IBM        JNJ       MSFT  \\\n",
              "2007-12-01        NaN         NaN       NaN         NaN        NaN        NaN   \n",
              "2007-12-08        NaN         NaN       NaN         NaN        NaN        NaN   \n",
              "2007-12-15        NaN         NaN       NaN         NaN        NaN        NaN   \n",
              "2007-12-22        NaN         NaN       NaN         NaN        NaN        NaN   \n",
              "2007-12-29        NaN         NaN       NaN         NaN        NaN        NaN   \n",
              "...               ...         ...       ...         ...        ...        ...   \n",
              "2011-12-03  12.642262  259.842460  15.86250  129.078611  59.424802  26.262619   \n",
              "2011-12-10  12.642262  259.842460  15.86250  129.078611  59.424802  26.262619   \n",
              "2011-12-17  12.642262  259.842460  15.86250  129.078611  59.424802  26.262619   \n",
              "2011-12-24  12.642262  259.842460  15.86250  129.078611  59.424802  26.262619   \n",
              "2011-12-31  15.024472  356.526834  18.30191  166.188844  62.585779  25.825930   \n",
              "\n",
              "                  PEP          SPX        XOM  \n",
              "2007-12-01        NaN          NaN        NaN  \n",
              "2007-12-08        NaN          NaN        NaN  \n",
              "2007-12-15        NaN          NaN        NaN  \n",
              "2007-12-22        NaN          NaN        NaN  \n",
              "2007-12-29        NaN          NaN        NaN  \n",
              "...               ...          ...        ...  \n",
              "2011-12-03  61.970040  1139.965516  63.067976  \n",
              "2011-12-10  61.970040  1139.965516  63.067976  \n",
              "2011-12-17  61.970040  1139.965516  63.067976  \n",
              "2011-12-24  61.970040  1139.965516  63.067976  \n",
              "2011-12-31  64.808693  1276.093015  79.042663  \n",
              "\n",
              "[214 rows x 9 columns]"
            ],
            "text/html": "<div>\n<style scoped>\n    .dataframe tbody tr th:only-of-type {\n        vertical-align: middle;\n    }\n\n    .dataframe tbody tr th {\n        vertical-align: top;\n    }\n\n    .dataframe thead th {\n        text-align: right;\n    }\n</style>\n<table border=\"1\" class=\"dataframe\">\n  <thead>\n    <tr style=\"text-align: right;\">\n      <th></th>\n      <th>AA</th>\n      <th>AAPL</th>\n      <th>GE</th>\n      <th>IBM</th>\n      <th>JNJ</th>\n      <th>MSFT</th>\n      <th>PEP</th>\n      <th>SPX</th>\n      <th>XOM</th>\n    </tr>\n  </thead>\n  <tbody>\n    <tr>\n      <th>2007-12-01</th>\n      <td>NaN</td>\n      <td>NaN</td>\n      <td>NaN</td>\n      <td>NaN</td>\n      <td>NaN</td>\n      <td>NaN</td>\n      <td>NaN</td>\n      <td>NaN</td>\n      <td>NaN</td>\n    </tr>\n    <tr>\n      <th>2007-12-08</th>\n      <td>NaN</td>\n      <td>NaN</td>\n      <td>NaN</td>\n      <td>NaN</td>\n      <td>NaN</td>\n      <td>NaN</td>\n      <td>NaN</td>\n      <td>NaN</td>\n      <td>NaN</td>\n    </tr>\n    <tr>\n      <th>2007-12-15</th>\n      <td>NaN</td>\n      <td>NaN</td>\n      <td>NaN</td>\n      <td>NaN</td>\n      <td>NaN</td>\n      <td>NaN</td>\n      <td>NaN</td>\n      <td>NaN</td>\n      <td>NaN</td>\n    </tr>\n    <tr>\n      <th>2007-12-22</th>\n      <td>NaN</td>\n      <td>NaN</td>\n      <td>NaN</td>\n      <td>NaN</td>\n      <td>NaN</td>\n      <td>NaN</td>\n      <td>NaN</td>\n      <td>NaN</td>\n      <td>NaN</td>\n    </tr>\n    <tr>\n      <th>2007-12-29</th>\n      <td>NaN</td>\n      <td>NaN</td>\n      <td>NaN</td>\n      <td>NaN</td>\n      <td>NaN</td>\n      <td>NaN</td>\n      <td>NaN</td>\n      <td>NaN</td>\n      <td>NaN</td>\n    </tr>\n    <tr>\n      <th>...</th>\n      <td>...</td>\n      <td>...</td>\n      <td>...</td>\n      <td>...</td>\n      <td>...</td>\n      <td>...</td>\n      <td>...</td>\n      <td>...</td>\n      <td>...</td>\n    </tr>\n    <tr>\n      <th>2011-12-03</th>\n      <td>12.642262</td>\n      <td>259.842460</td>\n      <td>15.86250</td>\n      <td>129.078611</td>\n      <td>59.424802</td>\n      <td>26.262619</td>\n      <td>61.970040</td>\n      <td>1139.965516</td>\n      <td>63.067976</td>\n    </tr>\n    <tr>\n      <th>2011-12-10</th>\n      <td>12.642262</td>\n      <td>259.842460</td>\n      <td>15.86250</td>\n      <td>129.078611</td>\n      <td>59.424802</td>\n      <td>26.262619</td>\n      <td>61.970040</td>\n      <td>1139.965516</td>\n      <td>63.067976</td>\n    </tr>\n    <tr>\n      <th>2011-12-17</th>\n      <td>12.642262</td>\n      <td>259.842460</td>\n      <td>15.86250</td>\n      <td>129.078611</td>\n      <td>59.424802</td>\n      <td>26.262619</td>\n      <td>61.970040</td>\n      <td>1139.965516</td>\n      <td>63.067976</td>\n    </tr>\n    <tr>\n      <th>2011-12-24</th>\n      <td>12.642262</td>\n      <td>259.842460</td>\n      <td>15.86250</td>\n      <td>129.078611</td>\n      <td>59.424802</td>\n      <td>26.262619</td>\n      <td>61.970040</td>\n      <td>1139.965516</td>\n      <td>63.067976</td>\n    </tr>\n    <tr>\n      <th>2011-12-31</th>\n      <td>15.024472</td>\n      <td>356.526834</td>\n      <td>18.30191</td>\n      <td>166.188844</td>\n      <td>62.585779</td>\n      <td>25.825930</td>\n      <td>64.808693</td>\n      <td>1276.093015</td>\n      <td>79.042663</td>\n    </tr>\n  </tbody>\n</table>\n<p>214 rows × 9 columns</p>\n</div>"
          },
          "metadata": {},
          "execution_count": 29
        }
      ]
    },
    {
      "cell_type": "code",
      "metadata": {
        "id": "Kl69m-2QGdcZ",
        "colab_type": "code",
        "colab": {}
      },
      "source": [
        "df2.fillna(method='ffill', inplace=True)"
      ],
      "execution_count": 30,
      "outputs": []
    },
    {
      "cell_type": "code",
      "metadata": {
        "id": "TQ2T9TpOGdcb",
        "colab_type": "code",
        "colab": {}
      },
      "source": [
        "df2"
      ],
      "execution_count": 31,
      "outputs": [
        {
          "output_type": "execute_result",
          "data": {
            "text/plain": [
              "                   AA        AAPL        GE         IBM        JNJ       MSFT  \\\n",
              "2007-12-01        NaN         NaN       NaN         NaN        NaN        NaN   \n",
              "2007-12-08        NaN         NaN       NaN         NaN        NaN        NaN   \n",
              "2007-12-15        NaN         NaN       NaN         NaN        NaN        NaN   \n",
              "2007-12-22        NaN         NaN       NaN         NaN        NaN        NaN   \n",
              "2007-12-29        NaN         NaN       NaN         NaN        NaN        NaN   \n",
              "...               ...         ...       ...         ...        ...        ...   \n",
              "2011-12-03  12.642262  259.842460  15.86250  129.078611  59.424802  26.262619   \n",
              "2011-12-10  12.642262  259.842460  15.86250  129.078611  59.424802  26.262619   \n",
              "2011-12-17  12.642262  259.842460  15.86250  129.078611  59.424802  26.262619   \n",
              "2011-12-24  12.642262  259.842460  15.86250  129.078611  59.424802  26.262619   \n",
              "2011-12-31  15.024472  356.526834  18.30191  166.188844  62.585779  25.825930   \n",
              "\n",
              "                  PEP          SPX        XOM  \n",
              "2007-12-01        NaN          NaN        NaN  \n",
              "2007-12-08        NaN          NaN        NaN  \n",
              "2007-12-15        NaN          NaN        NaN  \n",
              "2007-12-22        NaN          NaN        NaN  \n",
              "2007-12-29        NaN          NaN        NaN  \n",
              "...               ...          ...        ...  \n",
              "2011-12-03  61.970040  1139.965516  63.067976  \n",
              "2011-12-10  61.970040  1139.965516  63.067976  \n",
              "2011-12-17  61.970040  1139.965516  63.067976  \n",
              "2011-12-24  61.970040  1139.965516  63.067976  \n",
              "2011-12-31  64.808693  1276.093015  79.042663  \n",
              "\n",
              "[214 rows x 9 columns]"
            ],
            "text/html": "<div>\n<style scoped>\n    .dataframe tbody tr th:only-of-type {\n        vertical-align: middle;\n    }\n\n    .dataframe tbody tr th {\n        vertical-align: top;\n    }\n\n    .dataframe thead th {\n        text-align: right;\n    }\n</style>\n<table border=\"1\" class=\"dataframe\">\n  <thead>\n    <tr style=\"text-align: right;\">\n      <th></th>\n      <th>AA</th>\n      <th>AAPL</th>\n      <th>GE</th>\n      <th>IBM</th>\n      <th>JNJ</th>\n      <th>MSFT</th>\n      <th>PEP</th>\n      <th>SPX</th>\n      <th>XOM</th>\n    </tr>\n  </thead>\n  <tbody>\n    <tr>\n      <th>2007-12-01</th>\n      <td>NaN</td>\n      <td>NaN</td>\n      <td>NaN</td>\n      <td>NaN</td>\n      <td>NaN</td>\n      <td>NaN</td>\n      <td>NaN</td>\n      <td>NaN</td>\n      <td>NaN</td>\n    </tr>\n    <tr>\n      <th>2007-12-08</th>\n      <td>NaN</td>\n      <td>NaN</td>\n      <td>NaN</td>\n      <td>NaN</td>\n      <td>NaN</td>\n      <td>NaN</td>\n      <td>NaN</td>\n      <td>NaN</td>\n      <td>NaN</td>\n    </tr>\n    <tr>\n      <th>2007-12-15</th>\n      <td>NaN</td>\n      <td>NaN</td>\n      <td>NaN</td>\n      <td>NaN</td>\n      <td>NaN</td>\n      <td>NaN</td>\n      <td>NaN</td>\n      <td>NaN</td>\n      <td>NaN</td>\n    </tr>\n    <tr>\n      <th>2007-12-22</th>\n      <td>NaN</td>\n      <td>NaN</td>\n      <td>NaN</td>\n      <td>NaN</td>\n      <td>NaN</td>\n      <td>NaN</td>\n      <td>NaN</td>\n      <td>NaN</td>\n      <td>NaN</td>\n    </tr>\n    <tr>\n      <th>2007-12-29</th>\n      <td>NaN</td>\n      <td>NaN</td>\n      <td>NaN</td>\n      <td>NaN</td>\n      <td>NaN</td>\n      <td>NaN</td>\n      <td>NaN</td>\n      <td>NaN</td>\n      <td>NaN</td>\n    </tr>\n    <tr>\n      <th>...</th>\n      <td>...</td>\n      <td>...</td>\n      <td>...</td>\n      <td>...</td>\n      <td>...</td>\n      <td>...</td>\n      <td>...</td>\n      <td>...</td>\n      <td>...</td>\n    </tr>\n    <tr>\n      <th>2011-12-03</th>\n      <td>12.642262</td>\n      <td>259.842460</td>\n      <td>15.86250</td>\n      <td>129.078611</td>\n      <td>59.424802</td>\n      <td>26.262619</td>\n      <td>61.970040</td>\n      <td>1139.965516</td>\n      <td>63.067976</td>\n    </tr>\n    <tr>\n      <th>2011-12-10</th>\n      <td>12.642262</td>\n      <td>259.842460</td>\n      <td>15.86250</td>\n      <td>129.078611</td>\n      <td>59.424802</td>\n      <td>26.262619</td>\n      <td>61.970040</td>\n      <td>1139.965516</td>\n      <td>63.067976</td>\n    </tr>\n    <tr>\n      <th>2011-12-17</th>\n      <td>12.642262</td>\n      <td>259.842460</td>\n      <td>15.86250</td>\n      <td>129.078611</td>\n      <td>59.424802</td>\n      <td>26.262619</td>\n      <td>61.970040</td>\n      <td>1139.965516</td>\n      <td>63.067976</td>\n    </tr>\n    <tr>\n      <th>2011-12-24</th>\n      <td>12.642262</td>\n      <td>259.842460</td>\n      <td>15.86250</td>\n      <td>129.078611</td>\n      <td>59.424802</td>\n      <td>26.262619</td>\n      <td>61.970040</td>\n      <td>1139.965516</td>\n      <td>63.067976</td>\n    </tr>\n    <tr>\n      <th>2011-12-31</th>\n      <td>15.024472</td>\n      <td>356.526834</td>\n      <td>18.30191</td>\n      <td>166.188844</td>\n      <td>62.585779</td>\n      <td>25.825930</td>\n      <td>64.808693</td>\n      <td>1276.093015</td>\n      <td>79.042663</td>\n    </tr>\n  </tbody>\n</table>\n<p>214 rows × 9 columns</p>\n</div>"
          },
          "metadata": {},
          "execution_count": 31
        }
      ]
    },
    {
      "cell_type": "code",
      "metadata": {
        "id": "fRiw0lqdGdcd",
        "colab_type": "code",
        "colab": {}
      },
      "source": [
        "df2.fillna(value='0')"
      ],
      "execution_count": 32,
      "outputs": [
        {
          "output_type": "execute_result",
          "data": {
            "text/plain": [
              "                 AA     AAPL       GE      IBM      JNJ     MSFT      PEP  \\\n",
              "2007-12-01        0        0        0        0        0        0        0   \n",
              "2007-12-08        0        0        0        0        0        0        0   \n",
              "2007-12-15        0        0        0        0        0        0        0   \n",
              "2007-12-22        0        0        0        0        0        0        0   \n",
              "2007-12-29        0        0        0        0        0        0        0   \n",
              "...             ...      ...      ...      ...      ...      ...      ...   \n",
              "2011-12-03  12.6423  259.842  15.8625  129.079  59.4248  26.2626    61.97   \n",
              "2011-12-10  12.6423  259.842  15.8625  129.079  59.4248  26.2626    61.97   \n",
              "2011-12-17  12.6423  259.842  15.8625  129.079  59.4248  26.2626    61.97   \n",
              "2011-12-24  12.6423  259.842  15.8625  129.079  59.4248  26.2626    61.97   \n",
              "2011-12-31  15.0245  356.527  18.3019  166.189  62.5858  25.8259  64.8087   \n",
              "\n",
              "                SPX      XOM  \n",
              "2007-12-01        0        0  \n",
              "2007-12-08        0        0  \n",
              "2007-12-15        0        0  \n",
              "2007-12-22        0        0  \n",
              "2007-12-29        0        0  \n",
              "...             ...      ...  \n",
              "2011-12-03  1139.97   63.068  \n",
              "2011-12-10  1139.97   63.068  \n",
              "2011-12-17  1139.97   63.068  \n",
              "2011-12-24  1139.97   63.068  \n",
              "2011-12-31  1276.09  79.0427  \n",
              "\n",
              "[214 rows x 9 columns]"
            ],
            "text/html": "<div>\n<style scoped>\n    .dataframe tbody tr th:only-of-type {\n        vertical-align: middle;\n    }\n\n    .dataframe tbody tr th {\n        vertical-align: top;\n    }\n\n    .dataframe thead th {\n        text-align: right;\n    }\n</style>\n<table border=\"1\" class=\"dataframe\">\n  <thead>\n    <tr style=\"text-align: right;\">\n      <th></th>\n      <th>AA</th>\n      <th>AAPL</th>\n      <th>GE</th>\n      <th>IBM</th>\n      <th>JNJ</th>\n      <th>MSFT</th>\n      <th>PEP</th>\n      <th>SPX</th>\n      <th>XOM</th>\n    </tr>\n  </thead>\n  <tbody>\n    <tr>\n      <th>2007-12-01</th>\n      <td>0</td>\n      <td>0</td>\n      <td>0</td>\n      <td>0</td>\n      <td>0</td>\n      <td>0</td>\n      <td>0</td>\n      <td>0</td>\n      <td>0</td>\n    </tr>\n    <tr>\n      <th>2007-12-08</th>\n      <td>0</td>\n      <td>0</td>\n      <td>0</td>\n      <td>0</td>\n      <td>0</td>\n      <td>0</td>\n      <td>0</td>\n      <td>0</td>\n      <td>0</td>\n    </tr>\n    <tr>\n      <th>2007-12-15</th>\n      <td>0</td>\n      <td>0</td>\n      <td>0</td>\n      <td>0</td>\n      <td>0</td>\n      <td>0</td>\n      <td>0</td>\n      <td>0</td>\n      <td>0</td>\n    </tr>\n    <tr>\n      <th>2007-12-22</th>\n      <td>0</td>\n      <td>0</td>\n      <td>0</td>\n      <td>0</td>\n      <td>0</td>\n      <td>0</td>\n      <td>0</td>\n      <td>0</td>\n      <td>0</td>\n    </tr>\n    <tr>\n      <th>2007-12-29</th>\n      <td>0</td>\n      <td>0</td>\n      <td>0</td>\n      <td>0</td>\n      <td>0</td>\n      <td>0</td>\n      <td>0</td>\n      <td>0</td>\n      <td>0</td>\n    </tr>\n    <tr>\n      <th>...</th>\n      <td>...</td>\n      <td>...</td>\n      <td>...</td>\n      <td>...</td>\n      <td>...</td>\n      <td>...</td>\n      <td>...</td>\n      <td>...</td>\n      <td>...</td>\n    </tr>\n    <tr>\n      <th>2011-12-03</th>\n      <td>12.6423</td>\n      <td>259.842</td>\n      <td>15.8625</td>\n      <td>129.079</td>\n      <td>59.4248</td>\n      <td>26.2626</td>\n      <td>61.97</td>\n      <td>1139.97</td>\n      <td>63.068</td>\n    </tr>\n    <tr>\n      <th>2011-12-10</th>\n      <td>12.6423</td>\n      <td>259.842</td>\n      <td>15.8625</td>\n      <td>129.079</td>\n      <td>59.4248</td>\n      <td>26.2626</td>\n      <td>61.97</td>\n      <td>1139.97</td>\n      <td>63.068</td>\n    </tr>\n    <tr>\n      <th>2011-12-17</th>\n      <td>12.6423</td>\n      <td>259.842</td>\n      <td>15.8625</td>\n      <td>129.079</td>\n      <td>59.4248</td>\n      <td>26.2626</td>\n      <td>61.97</td>\n      <td>1139.97</td>\n      <td>63.068</td>\n    </tr>\n    <tr>\n      <th>2011-12-24</th>\n      <td>12.6423</td>\n      <td>259.842</td>\n      <td>15.8625</td>\n      <td>129.079</td>\n      <td>59.4248</td>\n      <td>26.2626</td>\n      <td>61.97</td>\n      <td>1139.97</td>\n      <td>63.068</td>\n    </tr>\n    <tr>\n      <th>2011-12-31</th>\n      <td>15.0245</td>\n      <td>356.527</td>\n      <td>18.3019</td>\n      <td>166.189</td>\n      <td>62.5858</td>\n      <td>25.8259</td>\n      <td>64.8087</td>\n      <td>1276.09</td>\n      <td>79.0427</td>\n    </tr>\n  </tbody>\n</table>\n<p>214 rows × 9 columns</p>\n</div>"
          },
          "metadata": {},
          "execution_count": 32
        }
      ]
    }
  ]
}