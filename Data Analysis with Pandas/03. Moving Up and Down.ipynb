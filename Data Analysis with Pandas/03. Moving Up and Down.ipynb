{
  "nbformat": 4,
  "nbformat_minor": 0,
  "metadata": {
    "kernelspec": {
      "display_name": "Python 3",
      "language": "python",
      "name": "python3"
    },
    "language_info": {
      "codemirror_mode": {
        "name": "ipython",
        "version": 3
      },
      "file_extension": ".py",
      "mimetype": "text/x-python",
      "name": "python",
      "nbconvert_exporter": "python",
      "pygments_lexer": "ipython3",
      "version": "3.6.1"
    },
    "colab": {
      "name": "03. Moving Up and Down.ipynb",
      "version": "0.3.2",
      "provenance": []
    }
  },
  "cells": [
    {
      "cell_type": "code",
      "metadata": {
        "id": "2lkctECUGda5",
        "colab_type": "code",
        "colab": {}
      },
      "source": [
        "import pandas as pd"
      ],
      "execution_count": 0,
      "outputs": []
    },
    {
      "cell_type": "markdown",
      "metadata": {
        "id": "cCWBO4KTGda-",
        "colab_type": "text"
      },
      "source": [
        "# Moving Up and Down\n",
        "\n",
        "\n",
        "## asfreq\n",
        "\n",
        "   Convert TimeSeries to specified frequency.Optionally provide filling method to pad/backfill missing values.\n",
        "\n",
        "Frequency strings can be found here:\n",
        "* https://pandas.pydata.org/pandas-docs/stable/user_guide/timeseries.html#offset-aliases\n"
      ]
    },
    {
      "cell_type": "code",
      "metadata": {
        "id": "cH5pugSnGda_",
        "colab_type": "code",
        "colab": {}
      },
      "source": [
        "colab_path = \"https://raw.githubusercontent.com/poornagurram/TimeSeriesAnalysis_ODSC_2019/master/\"\n",
        "df = pd.read_csv(colab_path+'data/stock_data.csv', parse_dates=[0], index_col=0)"
      ],
      "execution_count": 0,
      "outputs": []
    },
    {
      "cell_type": "code",
      "metadata": {
        "id": "FC2-C0EFGdbB",
        "colab_type": "code",
        "colab": {}
      },
      "source": [
        "#df"
      ],
      "execution_count": 0,
      "outputs": []
    },
    {
      "cell_type": "code",
      "metadata": {
        "id": "Of_K8p5PGdbD",
        "colab_type": "code",
        "colab": {}
      },
      "source": [
        "df.index"
      ],
      "execution_count": 0,
      "outputs": []
    },
    {
      "cell_type": "code",
      "metadata": {
        "id": "-PyQcksuGdbG",
        "colab_type": "code",
        "colab": {}
      },
      "source": [
        "#daily frequency\n",
        "df.asfreq('12H').index"
      ],
      "execution_count": 0,
      "outputs": []
    },
    {
      "cell_type": "code",
      "metadata": {
        "id": "yvS6NMkcGdbJ",
        "colab_type": "code",
        "colab": {}
      },
      "source": [
        "df.asfreq?"
      ],
      "execution_count": 0,
      "outputs": []
    },
    {
      "cell_type": "code",
      "metadata": {
        "id": "aSfeVALsGdbL",
        "colab_type": "code",
        "colab": {}
      },
      "source": [
        "df = df.asfreq('12H')"
      ],
      "execution_count": 0,
      "outputs": []
    },
    {
      "cell_type": "code",
      "metadata": {
        "id": "AgACx7iqGdbO",
        "colab_type": "code",
        "colab": {}
      },
      "source": [
        "df"
      ],
      "execution_count": 0,
      "outputs": []
    },
    {
      "cell_type": "code",
      "metadata": {
        "id": "GmNPGuxNGdbR",
        "colab_type": "code",
        "colab": {}
      },
      "source": [
        "df.loc['2011-10-13 00:00']"
      ],
      "execution_count": 0,
      "outputs": []
    },
    {
      "cell_type": "code",
      "metadata": {
        "id": "YE4Y-AOYGdbU",
        "colab_type": "code",
        "colab": {}
      },
      "source": [
        "# Hours to Days --> Downsampling\n",
        "df.asfreq('D')"
      ],
      "execution_count": 0,
      "outputs": []
    },
    {
      "cell_type": "code",
      "metadata": {
        "id": "8AoCzUlXGdbd",
        "colab_type": "code",
        "colab": {}
      },
      "source": [
        "# Days to hours --> Upsampling\n",
        "df.asfreq('8H')"
      ],
      "execution_count": 0,
      "outputs": []
    },
    {
      "cell_type": "code",
      "metadata": {
        "id": "727TYZP8Gdbh",
        "colab_type": "code",
        "colab": {}
      },
      "source": [
        "# ffill propagate last valid observation forward to next valid\n",
        "# Note: this does not fill NaNs that already were present\n",
        "df.asfreq('4H', method='ffill')"
      ],
      "execution_count": 0,
      "outputs": []
    },
    {
      "cell_type": "code",
      "metadata": {
        "id": "LPp1_GhsGdbj",
        "colab_type": "code",
        "colab": {}
      },
      "source": [
        "# bfill use NEXT valid observation to fill\n",
        "# Note: this does not fill NaNs that already were present):\n",
        "df.asfreq('2H',method='bfill')"
      ],
      "execution_count": 0,
      "outputs": []
    },
    {
      "cell_type": "code",
      "metadata": {
        "id": "ayuofNoLGdbm",
        "colab_type": "code",
        "colab": {}
      },
      "source": [
        "# To fill with certain default value\n",
        "# Note: this does not fill NaNs that already were present):\n",
        "df.asfreq('H',fill_value=9.0)"
      ],
      "execution_count": 0,
      "outputs": []
    },
    {
      "cell_type": "markdown",
      "metadata": {
        "id": "1pANcBTEGdbo",
        "colab_type": "text"
      },
      "source": [
        "## resample\n",
        "\n",
        "Convenience method for frequency conversion and resampling of time\n",
        "series."
      ]
    },
    {
      "cell_type": "code",
      "metadata": {
        "id": "lKPkDOl5Gdbo",
        "colab_type": "code",
        "colab": {}
      },
      "source": [
        "df.resample?"
      ],
      "execution_count": 0,
      "outputs": []
    },
    {
      "cell_type": "code",
      "metadata": {
        "id": "hH_s-GohGdbq",
        "colab_type": "code",
        "colab": {}
      },
      "source": [
        "df.resample('2H')"
      ],
      "execution_count": 0,
      "outputs": []
    },
    {
      "cell_type": "code",
      "metadata": {
        "id": "NfkOW9P2Gdbs",
        "colab_type": "code",
        "colab": {}
      },
      "source": [
        "df.resample('2H').sum()"
      ],
      "execution_count": 0,
      "outputs": []
    },
    {
      "cell_type": "code",
      "metadata": {
        "id": "Krgy735lGdbv",
        "colab_type": "code",
        "colab": {}
      },
      "source": [
        "def get_range(x):\n",
        "    return x.max() - x.min()"
      ],
      "execution_count": 0,
      "outputs": []
    },
    {
      "cell_type": "code",
      "metadata": {
        "id": "fNCHOV65Gdbx",
        "colab_type": "code",
        "colab": {}
      },
      "source": [
        "df.resample('M').agg({'mean', 'max', get_range})"
      ],
      "execution_count": 0,
      "outputs": []
    },
    {
      "cell_type": "markdown",
      "metadata": {
        "id": "md1T2hWQGdb1",
        "colab_type": "text"
      },
      "source": [
        "## fillna\n",
        "\n",
        "Fill NA/NaN values using the specified method"
      ]
    },
    {
      "cell_type": "code",
      "metadata": {
        "id": "g4Ybxew4Gdb3",
        "colab_type": "code",
        "colab": {}
      },
      "source": [
        "df1 = df.asfreq('6M')"
      ],
      "execution_count": 0,
      "outputs": []
    },
    {
      "cell_type": "code",
      "metadata": {
        "id": "EqYnq0IvGdb6",
        "colab_type": "code",
        "colab": {}
      },
      "source": [
        "df1"
      ],
      "execution_count": 0,
      "outputs": []
    },
    {
      "cell_type": "code",
      "metadata": {
        "id": "hsbbZd_SGdb9",
        "colab_type": "code",
        "colab": {}
      },
      "source": [
        "df1.fillna?"
      ],
      "execution_count": 0,
      "outputs": []
    },
    {
      "cell_type": "code",
      "metadata": {
        "id": "ulGkbCJRGdcA",
        "colab_type": "code",
        "colab": {}
      },
      "source": [
        "df1.fillna(method='ffill', inplace=True)"
      ],
      "execution_count": 0,
      "outputs": []
    },
    {
      "cell_type": "code",
      "metadata": {
        "id": "aVh8UNQqGdcE",
        "colab_type": "code",
        "colab": {}
      },
      "source": [
        "df1"
      ],
      "execution_count": 0,
      "outputs": []
    },
    {
      "cell_type": "markdown",
      "metadata": {
        "id": "UH2gCQXbGdcG",
        "colab_type": "text"
      },
      "source": [
        "## reindex\n",
        "\n",
        " Change Series to new index with optional filling logic"
      ]
    },
    {
      "cell_type": "code",
      "metadata": {
        "id": "noGRluXxGdcH",
        "colab_type": "code",
        "colab": {}
      },
      "source": [
        "df2 = df.resample('Y').mean()"
      ],
      "execution_count": 0,
      "outputs": []
    },
    {
      "cell_type": "code",
      "metadata": {
        "id": "RrKqFBcOGdcL",
        "colab_type": "code",
        "colab": {}
      },
      "source": [
        "df2"
      ],
      "execution_count": 0,
      "outputs": []
    },
    {
      "cell_type": "code",
      "metadata": {
        "id": "j1rBA2ziGdcN",
        "colab_type": "code",
        "colab": {}
      },
      "source": [
        "date_index = pd.date_range('20071201', end='20111231', freq='7D')"
      ],
      "execution_count": 0,
      "outputs": []
    },
    {
      "cell_type": "code",
      "metadata": {
        "id": "VRf9hIl0GdcQ",
        "colab_type": "code",
        "colab": {}
      },
      "source": [
        "date_index"
      ],
      "execution_count": 0,
      "outputs": []
    },
    {
      "cell_type": "code",
      "metadata": {
        "id": "iT2LwyldGdcS",
        "colab_type": "code",
        "colab": {}
      },
      "source": [
        "df2 = df2.reindex(date_index,method='ffill')"
      ],
      "execution_count": 0,
      "outputs": []
    },
    {
      "cell_type": "code",
      "metadata": {
        "id": "Vrwe5z4EGdcX",
        "colab_type": "code",
        "colab": {}
      },
      "source": [
        "df2"
      ],
      "execution_count": 0,
      "outputs": []
    },
    {
      "cell_type": "code",
      "metadata": {
        "id": "Kl69m-2QGdcZ",
        "colab_type": "code",
        "colab": {}
      },
      "source": [
        "df2.fillna(method='ffill', inplace=True)"
      ],
      "execution_count": 0,
      "outputs": []
    },
    {
      "cell_type": "code",
      "metadata": {
        "id": "TQ2T9TpOGdcb",
        "colab_type": "code",
        "colab": {}
      },
      "source": [
        "df2"
      ],
      "execution_count": 0,
      "outputs": []
    },
    {
      "cell_type": "code",
      "metadata": {
        "id": "fRiw0lqdGdcd",
        "colab_type": "code",
        "colab": {}
      },
      "source": [
        "df2.fillna(value='0')"
      ],
      "execution_count": 0,
      "outputs": []
    },
    {
      "cell_type": "markdown",
      "metadata": {
        "id": "jniNyCQKGdcf",
        "colab_type": "text"
      },
      "source": [
        "# Exercise"
      ]
    },
    {
      "cell_type": "code",
      "metadata": {
        "id": "Sn_nwmOgGdcg",
        "colab_type": "code",
        "colab": {}
      },
      "source": [
        "# Q3: \n",
        "# read \"../data/exercise3.csv\"\n",
        "# change 'Date' column to datetime\n",
        "# set 'Date' as index\n",
        "# fillna using 'bfill'\n",
        "# resample to one month"
      ],
      "execution_count": 0,
      "outputs": []
    },
    {
      "cell_type": "code",
      "metadata": {
        "id": "zWjDMXsbGdci",
        "colab_type": "code",
        "colab": {}
      },
      "source": [
        ""
      ],
      "execution_count": 0,
      "outputs": []
    }
  ]
}