{
  "nbformat": 4,
  "nbformat_minor": 0,
  "metadata": {
    "kernelspec": {
      "display_name": "Python 3",
      "language": "python",
      "name": "python3"
    },
    "language_info": {
      "codemirror_mode": {
        "name": "ipython",
        "version": 3
      },
      "file_extension": ".py",
      "mimetype": "text/x-python",
      "name": "python",
      "nbconvert_exporter": "python",
      "pygments_lexer": "ipython3",
      "version": "3.6.1"
    },
    "colab": {
      "name": "02.Input_Output.ipynb",
      "version": "0.3.2",
      "provenance": []
    }
  },
  "cells": [
    {
      "cell_type": "code",
      "metadata": {
        "id": "LguJbQ55Gcwe",
        "colab_type": "code",
        "colab": {}
      },
      "source": [
        "# All imports\n",
        "import pandas as pd\n",
        "import numpy as np"
      ],
      "execution_count": 0,
      "outputs": []
    },
    {
      "cell_type": "markdown",
      "metadata": {
        "id": "dfT4xBKQGcwk",
        "colab_type": "text"
      },
      "source": [
        "**Data Structures in \"pandas\"**\n",
        "\n",
        "* Series is a one-dimensional labeled array capable of holding any data type\n",
        "\n",
        "* DataFrame is a 2-dimensional labeled data structure with columns of potentially different types.\n",
        "\n"
      ]
    },
    {
      "cell_type": "markdown",
      "metadata": {
        "collapsed": true,
        "id": "oU55fsdUGcwl",
        "colab_type": "text"
      },
      "source": [
        "# Input/Output"
      ]
    },
    {
      "cell_type": "code",
      "metadata": {
        "id": "4jzFyTSPGcwm",
        "colab_type": "code",
        "colab": {}
      },
      "source": [
        "# Pandas support a lot of formats as input like json, csv, text, html, etc. \n",
        "# Here we will be taking the input as csv [comma seperated values].\n",
        "# we can also use various parameters in read_csv like parse_dates [parses string date values]\n",
        "\n",
        "colab_path = \"https://raw.githubusercontent.com/poornagurram/TimeSeriesAnalysis_ODSC_2019/master/\"\n",
        "ts_data = pd.read_csv(colab_path+\"data/stock_data.csv\")"
      ],
      "execution_count": 0,
      "outputs": []
    },
    {
      "cell_type": "code",
      "metadata": {
        "id": "zVVhbeLHGcwo",
        "colab_type": "code",
        "colab": {}
      },
      "source": [
        "# A look at the head of the dataframe\n",
        "ts_data.head()"
      ],
      "execution_count": 0,
      "outputs": []
    },
    {
      "cell_type": "code",
      "metadata": {
        "id": "nibPOAGZGcwr",
        "colab_type": "code",
        "colab": {}
      },
      "source": [
        "#lets check the datatypes of columns in dataframe\n",
        "\n",
        "ts_data.info()"
      ],
      "execution_count": 0,
      "outputs": []
    },
    {
      "cell_type": "markdown",
      "metadata": {
        "id": "DCXWym0XGcws",
        "colab_type": "text"
      },
      "source": [
        "### A Quick look at pandas data types\n",
        "\n",
        "![dtypes](https://github.com/poornagurram/TimeSeriesAnalysis_ODSC_2019/blob/master/images/pandas_dtypes.png?raw=1)"
      ]
    },
    {
      "cell_type": "code",
      "metadata": {
        "id": "hmWRCLqTGcwt",
        "colab_type": "code",
        "colab": {}
      },
      "source": [
        "ts_data.describe()"
      ],
      "execution_count": 0,
      "outputs": []
    },
    {
      "cell_type": "code",
      "metadata": {
        "id": "EgN1T3AuGcwx",
        "colab_type": "code",
        "colab": {}
      },
      "source": [
        "#converts string type to datetime format\n",
        "ts_data['Date']= pd.to_datetime(ts_data['date']) \n",
        "ts_data.info()"
      ],
      "execution_count": 0,
      "outputs": []
    },
    {
      "cell_type": "code",
      "metadata": {
        "id": "SSEKayyIGcwz",
        "colab_type": "code",
        "colab": {}
      },
      "source": [
        "# read csv by parsing dates\n",
        "df = pd.read_csv(colab_path+'data/stock_data.csv', parse_dates=['date'], index_col=0)"
      ],
      "execution_count": 0,
      "outputs": []
    },
    {
      "cell_type": "code",
      "metadata": {
        "id": "swgQJVyqGcw1",
        "colab_type": "code",
        "colab": {}
      },
      "source": [
        "df"
      ],
      "execution_count": 0,
      "outputs": []
    },
    {
      "cell_type": "code",
      "metadata": {
        "id": "Jg7eTv-cGcw4",
        "colab_type": "code",
        "colab": {}
      },
      "source": [
        "# getting data using date index\n",
        "# [from 2008 october to 2009 january]\n",
        "df['2008 10':'2009 01']"
      ],
      "execution_count": 0,
      "outputs": []
    },
    {
      "cell_type": "code",
      "metadata": {
        "id": "2mRSUKISGcw9",
        "colab_type": "code",
        "colab": {}
      },
      "source": [
        "# Truncates a sorted DataFrame/Series before and/or after some\n",
        "# particular index value. If the axis contains only datetime values,\n",
        "# before/after parameters are converted to datetime values.\n",
        "df.truncate?"
      ],
      "execution_count": 0,
      "outputs": []
    },
    {
      "cell_type": "code",
      "metadata": {
        "scrolled": true,
        "id": "MdzEbNp_Gcw_",
        "colab_type": "code",
        "colab": {}
      },
      "source": [
        "df.truncate(before='2008 10', after='2009')"
      ],
      "execution_count": 0,
      "outputs": []
    },
    {
      "cell_type": "code",
      "metadata": {
        "id": "gPvmIF11GcxB",
        "colab_type": "code",
        "colab": {}
      },
      "source": [
        "# parsing date from multiple columns\n",
        "pd.read_csv(colab_path+'data/sample_2.csv').head()"
      ],
      "execution_count": 0,
      "outputs": []
    },
    {
      "cell_type": "code",
      "metadata": {
        "id": "KCr2ccc0GcxE",
        "colab_type": "code",
        "colab": {}
      },
      "source": [
        "# combining all date columns to get date\n",
        "pd.read_csv(colab_path+'data/sample_2.csv', parse_dates={'date':[0,1,2]}, index_col='date').head()"
      ],
      "execution_count": 0,
      "outputs": []
    },
    {
      "cell_type": "markdown",
      "metadata": {
        "id": "MhF7kXxsGcxG",
        "colab_type": "text"
      },
      "source": [
        "## dateparser"
      ]
    },
    {
      "cell_type": "code",
      "metadata": {
        "id": "TLfgdeYlGcxH",
        "colab_type": "code",
        "colab": {}
      },
      "source": [
        "pd.read_csv(colab_path+'data/sample.csv')"
      ],
      "execution_count": 0,
      "outputs": []
    },
    {
      "cell_type": "code",
      "metadata": {
        "id": "YrvYoxNrGcxJ",
        "colab_type": "code",
        "colab": {}
      },
      "source": [
        "pd.read_csv(colab_path+'data/sample.csv', parse_dates= ['x']).info()"
      ],
      "execution_count": 0,
      "outputs": []
    },
    {
      "cell_type": "code",
      "metadata": {
        "id": "fiojLQJJGcxL",
        "colab_type": "code",
        "colab": {}
      },
      "source": [
        "from datetime import datetime"
      ],
      "execution_count": 0,
      "outputs": []
    },
    {
      "cell_type": "code",
      "metadata": {
        "id": "3LeVhBPNGcxN",
        "colab_type": "code",
        "colab": {}
      },
      "source": [
        "datetime.strptime('2018-11-01T12-12-00', '%Y-%m-%dT%H-%M-%S')"
      ],
      "execution_count": 0,
      "outputs": []
    },
    {
      "cell_type": "code",
      "metadata": {
        "id": "B4xFq0GjGcxP",
        "colab_type": "code",
        "colab": {}
      },
      "source": [
        "# Specifying the format to parse the datetime\n",
        "# Find out various format specifiers here (https://docs.python.org/3/library/datetime.html#strftime-and-strptime-behavior)\n",
        "def dateparse(x):\n",
        "    return datetime.strptime(x, '%Y-%m-%dT%H-%M-%S')"
      ],
      "execution_count": 0,
      "outputs": []
    },
    {
      "cell_type": "code",
      "metadata": {
        "id": "HWDve0otGcxR",
        "colab_type": "code",
        "colab": {}
      },
      "source": [
        "#pd.Timestamp('2018-11-01T0-10-1')"
      ],
      "execution_count": 0,
      "outputs": []
    },
    {
      "cell_type": "code",
      "metadata": {
        "id": "9T64KRa1GcxU",
        "colab_type": "code",
        "colab": {}
      },
      "source": [
        "dateparse('2018-11-01T0-10-1')"
      ],
      "execution_count": 0,
      "outputs": []
    },
    {
      "cell_type": "code",
      "metadata": {
        "id": "DZFv_QjLGcxX",
        "colab_type": "code",
        "colab": {}
      },
      "source": [
        "pd.read_csv(colab_path+'/data/sample.csv', parse_dates=['x'], date_parser=dateparse)"
      ],
      "execution_count": 0,
      "outputs": []
    },
    {
      "cell_type": "markdown",
      "metadata": {
        "id": "it3UaMhqGcxa",
        "colab_type": "text"
      },
      "source": [
        "## Write data"
      ]
    },
    {
      "cell_type": "code",
      "metadata": {
        "id": "M7VPMaLCGcxa",
        "colab_type": "code",
        "colab": {}
      },
      "source": [
        "# Creating date index with start and end having frequency of second\n",
        "date_index = pd.date_range(start='20181217', freq='S', end='20181221')"
      ],
      "execution_count": 0,
      "outputs": []
    },
    {
      "cell_type": "code",
      "metadata": {
        "id": "Dc6LrVgnGcxc",
        "colab_type": "code",
        "colab": {}
      },
      "source": [
        "len(date_index)"
      ],
      "execution_count": 0,
      "outputs": []
    },
    {
      "cell_type": "code",
      "metadata": {
        "id": "aQw18bwYGcxe",
        "colab_type": "code",
        "colab": {}
      },
      "source": [
        "# Generated Index\n",
        "date_index"
      ],
      "execution_count": 0,
      "outputs": []
    },
    {
      "cell_type": "code",
      "metadata": {
        "id": "AoCFA6ExGcxi",
        "colab_type": "code",
        "colab": {}
      },
      "source": [
        "# Creating the dataframe with the above generated index\n",
        "df = pd.DataFrame(data=np.random.randint(0,100, len(date_index)), index=date_index)"
      ],
      "execution_count": 0,
      "outputs": []
    },
    {
      "cell_type": "code",
      "metadata": {
        "id": "ZyFUG2u8Gcxj",
        "colab_type": "code",
        "colab": {}
      },
      "source": [
        "#changing name of the coloumn \n",
        "df.columns = ['Value']"
      ],
      "execution_count": 0,
      "outputs": []
    },
    {
      "cell_type": "code",
      "metadata": {
        "id": "SBhrabp3Gcxl",
        "colab_type": "code",
        "colab": {}
      },
      "source": [
        "#df.head()"
      ],
      "execution_count": 0,
      "outputs": []
    },
    {
      "cell_type": "code",
      "metadata": {
        "id": "hVqzhAo_Gcxn",
        "colab_type": "code",
        "colab": {}
      },
      "source": [
        "# Exporting data to csv\n",
        "df.to_csv('test_data.csv')"
      ],
      "execution_count": 0,
      "outputs": []
    },
    {
      "cell_type": "code",
      "metadata": {
        "id": "maOX4A1RGcxo",
        "colab_type": "code",
        "colab": {}
      },
      "source": [
        ""
      ],
      "execution_count": 0,
      "outputs": []
    },
    {
      "cell_type": "markdown",
      "metadata": {
        "id": "IKO6sQNyGcxq",
        "colab_type": "text"
      },
      "source": [
        "# Exercise"
      ]
    },
    {
      "cell_type": "code",
      "metadata": {
        "id": "P2xZrO7fGcxr",
        "colab_type": "code",
        "colab": {}
      },
      "source": [
        "# Q1:\n",
        "# 1. read \"../data/exercise_sample.csv\"\n",
        "# 2. change first column datatype to datetime\n",
        "# 4. Make the first column index\n",
        "# 5. Reverse the index order\n",
        "# 6. export it to cleaned_sample.csv"
      ],
      "execution_count": 0,
      "outputs": []
    },
    {
      "cell_type": "code",
      "metadata": {
        "id": "Jbb6vflJGcxt",
        "colab_type": "code",
        "colab": {}
      },
      "source": [
        ""
      ],
      "execution_count": 0,
      "outputs": []
    }
  ]
}