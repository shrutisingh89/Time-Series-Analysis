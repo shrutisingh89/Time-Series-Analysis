{
  "nbformat": 4,
  "nbformat_minor": 0,
  "metadata": {
    "kernelspec": {
      "display_name": "Python 3",
      "language": "python",
      "name": "python3"
    },
    "language_info": {
      "codemirror_mode": {
        "name": "ipython",
        "version": 3
      },
      "file_extension": ".py",
      "mimetype": "text/x-python",
      "name": "python",
      "nbconvert_exporter": "python",
      "pygments_lexer": "ipython3",
      "version": "3.8.2-final"
    },
    "colab": {
      "name": "02.Input_Output.ipynb",
      "version": "0.3.2",
      "provenance": []
    }
  },
  "cells": [
    {
      "cell_type": "code",
      "metadata": {
        "id": "LguJbQ55Gcwe",
        "colab_type": "code",
        "colab": {}
      },
      "source": [
        "# All imports\n",
        "import pandas as pd\n",
        "import numpy as np"
      ],
      "execution_count": 1,
      "outputs": []
    },
    {
      "cell_type": "markdown",
      "metadata": {
        "collapsed": true,
        "id": "oU55fsdUGcwl",
        "colab_type": "text"
      },
      "source": [
        "# Input/Output"
      ]
    },
    {
      "cell_type": "code",
      "metadata": {
        "id": "4jzFyTSPGcwm",
        "colab_type": "code",
        "colab": {}
      },
      "source": [
        "ts_data = pd.read_csv(\"../data/stock_data.csv\")"
      ],
      "execution_count": 7,
      "outputs": []
    },
    {
      "cell_type": "code",
      "metadata": {
        "id": "zVVhbeLHGcwo",
        "colab_type": "code",
        "colab": {}
      },
      "source": [
        "# A look at the head of the dataframe\n",
        "ts_data.head()"
      ],
      "execution_count": 8,
      "outputs": [
        {
          "output_type": "execute_result",
          "data": {
            "text/plain": [
              "       date     AA    AAPL     GE     IBM    JNJ   MSFT    PEP      SPX    XOM\n",
              "0  10/29/07  37.41  185.09  34.46  106.78  57.13  31.78  65.67  1540.98  85.51\n",
              "1  10/30/07  36.43  187.00  34.39  106.15  56.99  32.70  65.80  1531.02  83.25\n",
              "2  10/31/07  36.79  189.95  34.97  108.01  57.30  33.84  65.69  1549.38  84.03\n",
              "3  11/01/07  35.22  187.44  34.27  105.72  56.85  34.07  64.51  1508.44  80.84\n",
              "4  11/02/07  35.83  187.87  34.27  106.59  56.95  34.07  65.03  1509.65  80.32"
            ],
            "text/html": "<div>\n<style scoped>\n    .dataframe tbody tr th:only-of-type {\n        vertical-align: middle;\n    }\n\n    .dataframe tbody tr th {\n        vertical-align: top;\n    }\n\n    .dataframe thead th {\n        text-align: right;\n    }\n</style>\n<table border=\"1\" class=\"dataframe\">\n  <thead>\n    <tr style=\"text-align: right;\">\n      <th></th>\n      <th>date</th>\n      <th>AA</th>\n      <th>AAPL</th>\n      <th>GE</th>\n      <th>IBM</th>\n      <th>JNJ</th>\n      <th>MSFT</th>\n      <th>PEP</th>\n      <th>SPX</th>\n      <th>XOM</th>\n    </tr>\n  </thead>\n  <tbody>\n    <tr>\n      <th>0</th>\n      <td>10/29/07</td>\n      <td>37.41</td>\n      <td>185.09</td>\n      <td>34.46</td>\n      <td>106.78</td>\n      <td>57.13</td>\n      <td>31.78</td>\n      <td>65.67</td>\n      <td>1540.98</td>\n      <td>85.51</td>\n    </tr>\n    <tr>\n      <th>1</th>\n      <td>10/30/07</td>\n      <td>36.43</td>\n      <td>187.00</td>\n      <td>34.39</td>\n      <td>106.15</td>\n      <td>56.99</td>\n      <td>32.70</td>\n      <td>65.80</td>\n      <td>1531.02</td>\n      <td>83.25</td>\n    </tr>\n    <tr>\n      <th>2</th>\n      <td>10/31/07</td>\n      <td>36.79</td>\n      <td>189.95</td>\n      <td>34.97</td>\n      <td>108.01</td>\n      <td>57.30</td>\n      <td>33.84</td>\n      <td>65.69</td>\n      <td>1549.38</td>\n      <td>84.03</td>\n    </tr>\n    <tr>\n      <th>3</th>\n      <td>11/01/07</td>\n      <td>35.22</td>\n      <td>187.44</td>\n      <td>34.27</td>\n      <td>105.72</td>\n      <td>56.85</td>\n      <td>34.07</td>\n      <td>64.51</td>\n      <td>1508.44</td>\n      <td>80.84</td>\n    </tr>\n    <tr>\n      <th>4</th>\n      <td>11/02/07</td>\n      <td>35.83</td>\n      <td>187.87</td>\n      <td>34.27</td>\n      <td>106.59</td>\n      <td>56.95</td>\n      <td>34.07</td>\n      <td>65.03</td>\n      <td>1509.65</td>\n      <td>80.32</td>\n    </tr>\n  </tbody>\n</table>\n</div>"
          },
          "metadata": {},
          "execution_count": 8
        }
      ]
    },
    {
      "cell_type": "code",
      "metadata": {
        "id": "nibPOAGZGcwr",
        "colab_type": "code",
        "colab": {}
      },
      "source": [
        "#lets check the datatypes of columns in dataframe\n",
        "\n",
        "ts_data.info()"
      ],
      "execution_count": 9,
      "outputs": [
        {
          "output_type": "stream",
          "name": "stdout",
          "text": [
            "<class 'pandas.core.frame.DataFrame'>\nRangeIndex: 1000 entries, 0 to 999\nData columns (total 10 columns):\n #   Column  Non-Null Count  Dtype  \n---  ------  --------------  -----  \n 0   date    1000 non-null   object \n 1   AA      1000 non-null   float64\n 2   AAPL    1000 non-null   float64\n 3   GE      1000 non-null   float64\n 4   IBM     1000 non-null   float64\n 5   JNJ     1000 non-null   float64\n 6   MSFT    1000 non-null   float64\n 7   PEP     1000 non-null   float64\n 8   SPX     1000 non-null   float64\n 9   XOM     1000 non-null   float64\ndtypes: float64(9), object(1)\nmemory usage: 78.2+ KB\n"
          ]
        }
      ]
    },
    {
      "cell_type": "markdown",
      "metadata": {
        "id": "DCXWym0XGcws",
        "colab_type": "text"
      },
      "source": [
        "### A Quick look at pandas data types\n",
        "\n",
        "![dtypes](https://github.com/poornagurram/TimeSeriesAnalysis_ODSC_2019/blob/master/images/pandas_dtypes.png?raw=1)"
      ]
    },
    {
      "cell_type": "code",
      "metadata": {
        "id": "hmWRCLqTGcwt",
        "colab_type": "code",
        "colab": {}
      },
      "source": [
        "ts_data.describe()"
      ],
      "execution_count": 10,
      "outputs": [
        {
          "output_type": "execute_result",
          "data": {
            "text/plain": [
              "                AA         AAPL           GE          IBM          JNJ  \\\n",
              "count  1000.000000  1000.000000  1000.000000  1000.000000  1000.000000   \n",
              "mean     17.138190   217.386950    18.362250   122.687010    58.228900   \n",
              "std       9.108915    90.627523     6.168905    26.797665     4.515169   \n",
              "min       5.100000    78.200000     6.190000    68.140000    42.760000   \n",
              "25%      11.027500   142.965000    14.690000   102.200000    55.867500   \n",
              "50%      13.470000   193.970000    16.085000   120.340000    58.960000   \n",
              "75%      17.427500   302.777500    20.282500   137.597500    61.110000   \n",
              "max      41.860000   422.000000    34.970000   190.530000    67.320000   \n",
              "\n",
              "              MSFT          PEP          SPX          XOM  \n",
              "count  1000.000000  1000.000000  1000.000000  1000.000000  \n",
              "mean     24.947840    59.607930  1153.729090    71.513700  \n",
              "std       3.746426     6.531849   183.562134     8.131698  \n",
              "min      14.330000    42.460000   676.530000    54.850000  \n",
              "25%      23.570000    56.535000  1048.495000    65.065000  \n",
              "50%      25.375000    61.720000  1165.770000    70.905000  \n",
              "75%      27.250000    63.785000  1306.157500    79.222500  \n",
              "max      34.070000    71.250000  1549.380000    87.480000  "
            ],
            "text/html": "<div>\n<style scoped>\n    .dataframe tbody tr th:only-of-type {\n        vertical-align: middle;\n    }\n\n    .dataframe tbody tr th {\n        vertical-align: top;\n    }\n\n    .dataframe thead th {\n        text-align: right;\n    }\n</style>\n<table border=\"1\" class=\"dataframe\">\n  <thead>\n    <tr style=\"text-align: right;\">\n      <th></th>\n      <th>AA</th>\n      <th>AAPL</th>\n      <th>GE</th>\n      <th>IBM</th>\n      <th>JNJ</th>\n      <th>MSFT</th>\n      <th>PEP</th>\n      <th>SPX</th>\n      <th>XOM</th>\n    </tr>\n  </thead>\n  <tbody>\n    <tr>\n      <th>count</th>\n      <td>1000.000000</td>\n      <td>1000.000000</td>\n      <td>1000.000000</td>\n      <td>1000.000000</td>\n      <td>1000.000000</td>\n      <td>1000.000000</td>\n      <td>1000.000000</td>\n      <td>1000.000000</td>\n      <td>1000.000000</td>\n    </tr>\n    <tr>\n      <th>mean</th>\n      <td>17.138190</td>\n      <td>217.386950</td>\n      <td>18.362250</td>\n      <td>122.687010</td>\n      <td>58.228900</td>\n      <td>24.947840</td>\n      <td>59.607930</td>\n      <td>1153.729090</td>\n      <td>71.513700</td>\n    </tr>\n    <tr>\n      <th>std</th>\n      <td>9.108915</td>\n      <td>90.627523</td>\n      <td>6.168905</td>\n      <td>26.797665</td>\n      <td>4.515169</td>\n      <td>3.746426</td>\n      <td>6.531849</td>\n      <td>183.562134</td>\n      <td>8.131698</td>\n    </tr>\n    <tr>\n      <th>min</th>\n      <td>5.100000</td>\n      <td>78.200000</td>\n      <td>6.190000</td>\n      <td>68.140000</td>\n      <td>42.760000</td>\n      <td>14.330000</td>\n      <td>42.460000</td>\n      <td>676.530000</td>\n      <td>54.850000</td>\n    </tr>\n    <tr>\n      <th>25%</th>\n      <td>11.027500</td>\n      <td>142.965000</td>\n      <td>14.690000</td>\n      <td>102.200000</td>\n      <td>55.867500</td>\n      <td>23.570000</td>\n      <td>56.535000</td>\n      <td>1048.495000</td>\n      <td>65.065000</td>\n    </tr>\n    <tr>\n      <th>50%</th>\n      <td>13.470000</td>\n      <td>193.970000</td>\n      <td>16.085000</td>\n      <td>120.340000</td>\n      <td>58.960000</td>\n      <td>25.375000</td>\n      <td>61.720000</td>\n      <td>1165.770000</td>\n      <td>70.905000</td>\n    </tr>\n    <tr>\n      <th>75%</th>\n      <td>17.427500</td>\n      <td>302.777500</td>\n      <td>20.282500</td>\n      <td>137.597500</td>\n      <td>61.110000</td>\n      <td>27.250000</td>\n      <td>63.785000</td>\n      <td>1306.157500</td>\n      <td>79.222500</td>\n    </tr>\n    <tr>\n      <th>max</th>\n      <td>41.860000</td>\n      <td>422.000000</td>\n      <td>34.970000</td>\n      <td>190.530000</td>\n      <td>67.320000</td>\n      <td>34.070000</td>\n      <td>71.250000</td>\n      <td>1549.380000</td>\n      <td>87.480000</td>\n    </tr>\n  </tbody>\n</table>\n</div>"
          },
          "metadata": {},
          "execution_count": 10
        }
      ]
    },
    {
      "cell_type": "code",
      "metadata": {
        "id": "EgN1T3AuGcwx",
        "colab_type": "code",
        "colab": {}
      },
      "source": [
        "#converts string type to datetime format\n",
        "ts_data['Date']= pd.to_datetime(ts_data['date']) \n",
        "ts_data.info()"
      ],
      "execution_count": 11,
      "outputs": [
        {
          "output_type": "stream",
          "name": "stdout",
          "text": [
            "<class 'pandas.core.frame.DataFrame'>\nRangeIndex: 1000 entries, 0 to 999\nData columns (total 11 columns):\n #   Column  Non-Null Count  Dtype         \n---  ------  --------------  -----         \n 0   date    1000 non-null   object        \n 1   AA      1000 non-null   float64       \n 2   AAPL    1000 non-null   float64       \n 3   GE      1000 non-null   float64       \n 4   IBM     1000 non-null   float64       \n 5   JNJ     1000 non-null   float64       \n 6   MSFT    1000 non-null   float64       \n 7   PEP     1000 non-null   float64       \n 8   SPX     1000 non-null   float64       \n 9   XOM     1000 non-null   float64       \n 10  Date    1000 non-null   datetime64[ns]\ndtypes: datetime64[ns](1), float64(9), object(1)\nmemory usage: 86.1+ KB\n"
          ]
        }
      ]
    },
    {
      "cell_type": "code",
      "metadata": {
        "id": "SSEKayyIGcwz",
        "colab_type": "code",
        "colab": {}
      },
      "source": [
        "# read csv by parsing dates\n",
        "df = pd.read_csv('../data/stock_data.csv', parse_dates=['date'], index_col=0)"
      ],
      "execution_count": 14,
      "outputs": []
    },
    {
      "cell_type": "code",
      "metadata": {
        "id": "swgQJVyqGcw1",
        "colab_type": "code",
        "colab": {}
      },
      "source": [
        "df"
      ],
      "execution_count": 15,
      "outputs": [
        {
          "output_type": "execute_result",
          "data": {
            "text/plain": [
              "               AA    AAPL     GE     IBM    JNJ   MSFT    PEP      SPX    XOM\n",
              "date                                                                         \n",
              "2007-10-29  37.41  185.09  34.46  106.78  57.13  31.78  65.67  1540.98  85.51\n",
              "2007-10-30  36.43  187.00  34.39  106.15  56.99  32.70  65.80  1531.02  83.25\n",
              "2007-10-31  36.79  189.95  34.97  108.01  57.30  33.84  65.69  1549.38  84.03\n",
              "2007-11-01  35.22  187.44  34.27  105.72  56.85  34.07  64.51  1508.44  80.84\n",
              "2007-11-02  35.83  187.87  34.27  106.59  56.95  34.07  65.03  1509.65  80.32\n",
              "...           ...     ...    ...     ...    ...    ...    ...      ...    ...\n",
              "2011-10-10  10.09  388.81  16.14  186.62  64.43  26.94  61.87  1194.89  76.28\n",
              "2011-10-11  10.30  400.29  16.14  185.00  63.96  27.00  60.95  1195.54  76.27\n",
              "2011-10-12  10.05  402.19  16.40  186.12  64.33  26.96  62.70  1207.25  77.16\n",
              "2011-10-13  10.10  408.43  16.22  186.82  64.23  27.18  62.36  1203.66  76.37\n",
              "2011-10-14  10.26  422.00  16.60  190.53  64.72  27.27  62.24  1224.58  78.11\n",
              "\n",
              "[1000 rows x 9 columns]"
            ],
            "text/html": "<div>\n<style scoped>\n    .dataframe tbody tr th:only-of-type {\n        vertical-align: middle;\n    }\n\n    .dataframe tbody tr th {\n        vertical-align: top;\n    }\n\n    .dataframe thead th {\n        text-align: right;\n    }\n</style>\n<table border=\"1\" class=\"dataframe\">\n  <thead>\n    <tr style=\"text-align: right;\">\n      <th></th>\n      <th>AA</th>\n      <th>AAPL</th>\n      <th>GE</th>\n      <th>IBM</th>\n      <th>JNJ</th>\n      <th>MSFT</th>\n      <th>PEP</th>\n      <th>SPX</th>\n      <th>XOM</th>\n    </tr>\n    <tr>\n      <th>date</th>\n      <th></th>\n      <th></th>\n      <th></th>\n      <th></th>\n      <th></th>\n      <th></th>\n      <th></th>\n      <th></th>\n      <th></th>\n    </tr>\n  </thead>\n  <tbody>\n    <tr>\n      <th>2007-10-29</th>\n      <td>37.41</td>\n      <td>185.09</td>\n      <td>34.46</td>\n      <td>106.78</td>\n      <td>57.13</td>\n      <td>31.78</td>\n      <td>65.67</td>\n      <td>1540.98</td>\n      <td>85.51</td>\n    </tr>\n    <tr>\n      <th>2007-10-30</th>\n      <td>36.43</td>\n      <td>187.00</td>\n      <td>34.39</td>\n      <td>106.15</td>\n      <td>56.99</td>\n      <td>32.70</td>\n      <td>65.80</td>\n      <td>1531.02</td>\n      <td>83.25</td>\n    </tr>\n    <tr>\n      <th>2007-10-31</th>\n      <td>36.79</td>\n      <td>189.95</td>\n      <td>34.97</td>\n      <td>108.01</td>\n      <td>57.30</td>\n      <td>33.84</td>\n      <td>65.69</td>\n      <td>1549.38</td>\n      <td>84.03</td>\n    </tr>\n    <tr>\n      <th>2007-11-01</th>\n      <td>35.22</td>\n      <td>187.44</td>\n      <td>34.27</td>\n      <td>105.72</td>\n      <td>56.85</td>\n      <td>34.07</td>\n      <td>64.51</td>\n      <td>1508.44</td>\n      <td>80.84</td>\n    </tr>\n    <tr>\n      <th>2007-11-02</th>\n      <td>35.83</td>\n      <td>187.87</td>\n      <td>34.27</td>\n      <td>106.59</td>\n      <td>56.95</td>\n      <td>34.07</td>\n      <td>65.03</td>\n      <td>1509.65</td>\n      <td>80.32</td>\n    </tr>\n    <tr>\n      <th>...</th>\n      <td>...</td>\n      <td>...</td>\n      <td>...</td>\n      <td>...</td>\n      <td>...</td>\n      <td>...</td>\n      <td>...</td>\n      <td>...</td>\n      <td>...</td>\n    </tr>\n    <tr>\n      <th>2011-10-10</th>\n      <td>10.09</td>\n      <td>388.81</td>\n      <td>16.14</td>\n      <td>186.62</td>\n      <td>64.43</td>\n      <td>26.94</td>\n      <td>61.87</td>\n      <td>1194.89</td>\n      <td>76.28</td>\n    </tr>\n    <tr>\n      <th>2011-10-11</th>\n      <td>10.30</td>\n      <td>400.29</td>\n      <td>16.14</td>\n      <td>185.00</td>\n      <td>63.96</td>\n      <td>27.00</td>\n      <td>60.95</td>\n      <td>1195.54</td>\n      <td>76.27</td>\n    </tr>\n    <tr>\n      <th>2011-10-12</th>\n      <td>10.05</td>\n      <td>402.19</td>\n      <td>16.40</td>\n      <td>186.12</td>\n      <td>64.33</td>\n      <td>26.96</td>\n      <td>62.70</td>\n      <td>1207.25</td>\n      <td>77.16</td>\n    </tr>\n    <tr>\n      <th>2011-10-13</th>\n      <td>10.10</td>\n      <td>408.43</td>\n      <td>16.22</td>\n      <td>186.82</td>\n      <td>64.23</td>\n      <td>27.18</td>\n      <td>62.36</td>\n      <td>1203.66</td>\n      <td>76.37</td>\n    </tr>\n    <tr>\n      <th>2011-10-14</th>\n      <td>10.26</td>\n      <td>422.00</td>\n      <td>16.60</td>\n      <td>190.53</td>\n      <td>64.72</td>\n      <td>27.27</td>\n      <td>62.24</td>\n      <td>1224.58</td>\n      <td>78.11</td>\n    </tr>\n  </tbody>\n</table>\n<p>1000 rows × 9 columns</p>\n</div>"
          },
          "metadata": {},
          "execution_count": 15
        }
      ]
    },
    {
      "cell_type": "code",
      "metadata": {
        "id": "Jg7eTv-cGcw4",
        "colab_type": "code",
        "colab": {}
      },
      "source": [
        "# getting data using date index\n",
        "# [from 2008 october to 2009 january]\n",
        "df['2008 10':'2009 01']"
      ],
      "execution_count": 16,
      "outputs": [
        {
          "output_type": "execute_result",
          "data": {
            "text/plain": [
              "               AA    AAPL     GE     IBM    JNJ   MSFT    PEP      SPX    XOM\n",
              "date                                                                         \n",
              "2008-10-01  20.07  109.12  21.71  104.02  61.19  24.71  65.31  1161.06  73.06\n",
              "2008-10-02  18.29  100.10  19.63   98.93  61.19  24.49  64.64  1114.28  72.06\n",
              "2008-10-03  18.16   97.07  19.11   97.70  59.72  24.56  62.90  1099.23  72.47\n",
              "2008-10-06  17.09   98.14  18.94   95.04  58.22  23.24  60.75  1056.89  71.89\n",
              "2008-10-07  15.77   89.16  17.99   90.35  56.40  21.68  59.36   996.23  70.73\n",
              "...           ...     ...    ...     ...    ...    ...    ...      ...    ...\n",
              "2009-01-26   7.99   89.64  11.22   87.00  51.47  16.56  47.24   836.57  73.50\n",
              "2009-01-27   8.24   90.73  11.79   87.06  52.37  16.59  47.45   845.71  73.80\n",
              "2009-01-28   8.37   94.20  12.19   90.06  53.30  16.95  47.81   874.09  74.11\n",
              "2009-01-29   8.08   93.00  11.49   87.87  53.04  16.52  47.48   845.14  72.01\n",
              "2009-01-30   7.45   90.13  10.95   87.05  52.50  16.06  46.15   825.88  71.52\n",
              "\n",
              "[84 rows x 9 columns]"
            ],
            "text/html": "<div>\n<style scoped>\n    .dataframe tbody tr th:only-of-type {\n        vertical-align: middle;\n    }\n\n    .dataframe tbody tr th {\n        vertical-align: top;\n    }\n\n    .dataframe thead th {\n        text-align: right;\n    }\n</style>\n<table border=\"1\" class=\"dataframe\">\n  <thead>\n    <tr style=\"text-align: right;\">\n      <th></th>\n      <th>AA</th>\n      <th>AAPL</th>\n      <th>GE</th>\n      <th>IBM</th>\n      <th>JNJ</th>\n      <th>MSFT</th>\n      <th>PEP</th>\n      <th>SPX</th>\n      <th>XOM</th>\n    </tr>\n    <tr>\n      <th>date</th>\n      <th></th>\n      <th></th>\n      <th></th>\n      <th></th>\n      <th></th>\n      <th></th>\n      <th></th>\n      <th></th>\n      <th></th>\n    </tr>\n  </thead>\n  <tbody>\n    <tr>\n      <th>2008-10-01</th>\n      <td>20.07</td>\n      <td>109.12</td>\n      <td>21.71</td>\n      <td>104.02</td>\n      <td>61.19</td>\n      <td>24.71</td>\n      <td>65.31</td>\n      <td>1161.06</td>\n      <td>73.06</td>\n    </tr>\n    <tr>\n      <th>2008-10-02</th>\n      <td>18.29</td>\n      <td>100.10</td>\n      <td>19.63</td>\n      <td>98.93</td>\n      <td>61.19</td>\n      <td>24.49</td>\n      <td>64.64</td>\n      <td>1114.28</td>\n      <td>72.06</td>\n    </tr>\n    <tr>\n      <th>2008-10-03</th>\n      <td>18.16</td>\n      <td>97.07</td>\n      <td>19.11</td>\n      <td>97.70</td>\n      <td>59.72</td>\n      <td>24.56</td>\n      <td>62.90</td>\n      <td>1099.23</td>\n      <td>72.47</td>\n    </tr>\n    <tr>\n      <th>2008-10-06</th>\n      <td>17.09</td>\n      <td>98.14</td>\n      <td>18.94</td>\n      <td>95.04</td>\n      <td>58.22</td>\n      <td>23.24</td>\n      <td>60.75</td>\n      <td>1056.89</td>\n      <td>71.89</td>\n    </tr>\n    <tr>\n      <th>2008-10-07</th>\n      <td>15.77</td>\n      <td>89.16</td>\n      <td>17.99</td>\n      <td>90.35</td>\n      <td>56.40</td>\n      <td>21.68</td>\n      <td>59.36</td>\n      <td>996.23</td>\n      <td>70.73</td>\n    </tr>\n    <tr>\n      <th>...</th>\n      <td>...</td>\n      <td>...</td>\n      <td>...</td>\n      <td>...</td>\n      <td>...</td>\n      <td>...</td>\n      <td>...</td>\n      <td>...</td>\n      <td>...</td>\n    </tr>\n    <tr>\n      <th>2009-01-26</th>\n      <td>7.99</td>\n      <td>89.64</td>\n      <td>11.22</td>\n      <td>87.00</td>\n      <td>51.47</td>\n      <td>16.56</td>\n      <td>47.24</td>\n      <td>836.57</td>\n      <td>73.50</td>\n    </tr>\n    <tr>\n      <th>2009-01-27</th>\n      <td>8.24</td>\n      <td>90.73</td>\n      <td>11.79</td>\n      <td>87.06</td>\n      <td>52.37</td>\n      <td>16.59</td>\n      <td>47.45</td>\n      <td>845.71</td>\n      <td>73.80</td>\n    </tr>\n    <tr>\n      <th>2009-01-28</th>\n      <td>8.37</td>\n      <td>94.20</td>\n      <td>12.19</td>\n      <td>90.06</td>\n      <td>53.30</td>\n      <td>16.95</td>\n      <td>47.81</td>\n      <td>874.09</td>\n      <td>74.11</td>\n    </tr>\n    <tr>\n      <th>2009-01-29</th>\n      <td>8.08</td>\n      <td>93.00</td>\n      <td>11.49</td>\n      <td>87.87</td>\n      <td>53.04</td>\n      <td>16.52</td>\n      <td>47.48</td>\n      <td>845.14</td>\n      <td>72.01</td>\n    </tr>\n    <tr>\n      <th>2009-01-30</th>\n      <td>7.45</td>\n      <td>90.13</td>\n      <td>10.95</td>\n      <td>87.05</td>\n      <td>52.50</td>\n      <td>16.06</td>\n      <td>46.15</td>\n      <td>825.88</td>\n      <td>71.52</td>\n    </tr>\n  </tbody>\n</table>\n<p>84 rows × 9 columns</p>\n</div>"
          },
          "metadata": {},
          "execution_count": 16
        }
      ]
    },
    {
      "cell_type": "code",
      "metadata": {
        "scrolled": true,
        "id": "MdzEbNp_Gcw_",
        "colab_type": "code",
        "colab": {}
      },
      "source": [
        "df.truncate(before='2008 10', after='2009')"
      ],
      "execution_count": 18,
      "outputs": [
        {
          "output_type": "execute_result",
          "data": {
            "text/plain": [
              "               AA    AAPL     GE     IBM    JNJ   MSFT    PEP      SPX    XOM\n",
              "date                                                                         \n",
              "2008-10-01  20.07  109.12  21.71  104.02  61.19  24.71  65.31  1161.06  73.06\n",
              "2008-10-02  18.29  100.10  19.63   98.93  61.19  24.49  64.64  1114.28  72.06\n",
              "2008-10-03  18.16   97.07  19.11   97.70  59.72  24.56  62.90  1099.23  72.47\n",
              "2008-10-06  17.09   98.14  18.94   95.04  58.22  23.24  60.75  1056.89  71.89\n",
              "2008-10-07  15.77   89.16  17.99   90.35  56.40  21.68  59.36   996.23  70.73\n",
              "...           ...     ...    ...     ...    ...    ...    ...      ...    ...\n",
              "2008-12-24   8.98   85.04  14.55   76.48  53.30  18.01  50.11   868.15  70.87\n",
              "2008-12-26   9.36   85.81  14.42   77.25  53.30  17.97  50.13   872.80  72.18\n",
              "2008-12-29   9.31   86.61  14.14   77.17  52.92  17.81  49.68   869.42  72.96\n",
              "2008-12-30  10.23   86.29  14.29   79.36  53.85  18.17  50.42   890.64  73.49\n",
              "2008-12-31  10.77   85.35  14.63   79.94  54.45  18.26  50.32   903.25  74.65\n",
              "\n",
              "[64 rows x 9 columns]"
            ],
            "text/html": "<div>\n<style scoped>\n    .dataframe tbody tr th:only-of-type {\n        vertical-align: middle;\n    }\n\n    .dataframe tbody tr th {\n        vertical-align: top;\n    }\n\n    .dataframe thead th {\n        text-align: right;\n    }\n</style>\n<table border=\"1\" class=\"dataframe\">\n  <thead>\n    <tr style=\"text-align: right;\">\n      <th></th>\n      <th>AA</th>\n      <th>AAPL</th>\n      <th>GE</th>\n      <th>IBM</th>\n      <th>JNJ</th>\n      <th>MSFT</th>\n      <th>PEP</th>\n      <th>SPX</th>\n      <th>XOM</th>\n    </tr>\n    <tr>\n      <th>date</th>\n      <th></th>\n      <th></th>\n      <th></th>\n      <th></th>\n      <th></th>\n      <th></th>\n      <th></th>\n      <th></th>\n      <th></th>\n    </tr>\n  </thead>\n  <tbody>\n    <tr>\n      <th>2008-10-01</th>\n      <td>20.07</td>\n      <td>109.12</td>\n      <td>21.71</td>\n      <td>104.02</td>\n      <td>61.19</td>\n      <td>24.71</td>\n      <td>65.31</td>\n      <td>1161.06</td>\n      <td>73.06</td>\n    </tr>\n    <tr>\n      <th>2008-10-02</th>\n      <td>18.29</td>\n      <td>100.10</td>\n      <td>19.63</td>\n      <td>98.93</td>\n      <td>61.19</td>\n      <td>24.49</td>\n      <td>64.64</td>\n      <td>1114.28</td>\n      <td>72.06</td>\n    </tr>\n    <tr>\n      <th>2008-10-03</th>\n      <td>18.16</td>\n      <td>97.07</td>\n      <td>19.11</td>\n      <td>97.70</td>\n      <td>59.72</td>\n      <td>24.56</td>\n      <td>62.90</td>\n      <td>1099.23</td>\n      <td>72.47</td>\n    </tr>\n    <tr>\n      <th>2008-10-06</th>\n      <td>17.09</td>\n      <td>98.14</td>\n      <td>18.94</td>\n      <td>95.04</td>\n      <td>58.22</td>\n      <td>23.24</td>\n      <td>60.75</td>\n      <td>1056.89</td>\n      <td>71.89</td>\n    </tr>\n    <tr>\n      <th>2008-10-07</th>\n      <td>15.77</td>\n      <td>89.16</td>\n      <td>17.99</td>\n      <td>90.35</td>\n      <td>56.40</td>\n      <td>21.68</td>\n      <td>59.36</td>\n      <td>996.23</td>\n      <td>70.73</td>\n    </tr>\n    <tr>\n      <th>...</th>\n      <td>...</td>\n      <td>...</td>\n      <td>...</td>\n      <td>...</td>\n      <td>...</td>\n      <td>...</td>\n      <td>...</td>\n      <td>...</td>\n      <td>...</td>\n    </tr>\n    <tr>\n      <th>2008-12-24</th>\n      <td>8.98</td>\n      <td>85.04</td>\n      <td>14.55</td>\n      <td>76.48</td>\n      <td>53.30</td>\n      <td>18.01</td>\n      <td>50.11</td>\n      <td>868.15</td>\n      <td>70.87</td>\n    </tr>\n    <tr>\n      <th>2008-12-26</th>\n      <td>9.36</td>\n      <td>85.81</td>\n      <td>14.42</td>\n      <td>77.25</td>\n      <td>53.30</td>\n      <td>17.97</td>\n      <td>50.13</td>\n      <td>872.80</td>\n      <td>72.18</td>\n    </tr>\n    <tr>\n      <th>2008-12-29</th>\n      <td>9.31</td>\n      <td>86.61</td>\n      <td>14.14</td>\n      <td>77.17</td>\n      <td>52.92</td>\n      <td>17.81</td>\n      <td>49.68</td>\n      <td>869.42</td>\n      <td>72.96</td>\n    </tr>\n    <tr>\n      <th>2008-12-30</th>\n      <td>10.23</td>\n      <td>86.29</td>\n      <td>14.29</td>\n      <td>79.36</td>\n      <td>53.85</td>\n      <td>18.17</td>\n      <td>50.42</td>\n      <td>890.64</td>\n      <td>73.49</td>\n    </tr>\n    <tr>\n      <th>2008-12-31</th>\n      <td>10.77</td>\n      <td>85.35</td>\n      <td>14.63</td>\n      <td>79.94</td>\n      <td>54.45</td>\n      <td>18.26</td>\n      <td>50.32</td>\n      <td>903.25</td>\n      <td>74.65</td>\n    </tr>\n  </tbody>\n</table>\n<p>64 rows × 9 columns</p>\n</div>"
          },
          "metadata": {},
          "execution_count": 18
        }
      ]
    },
    {
      "cell_type": "code",
      "metadata": {
        "id": "gPvmIF11GcxB",
        "colab_type": "code",
        "colab": {}
      },
      "source": [
        "# parsing date from multiple columns\n",
        "pd.read_csv('../data/sample_2.csv').head()"
      ],
      "execution_count": 45,
      "outputs": [
        {
          "output_type": "execute_result",
          "data": {
            "text/plain": [
              "   year  month  day    random\n",
              "0  2018     11    1 -0.803908\n",
              "1  2018     11    2  1.586827\n",
              "2  2018     11    3  0.224112\n",
              "3  2018     11    4 -0.715937\n",
              "4  2018     11    5  0.010597"
            ],
            "text/html": "<div>\n<style scoped>\n    .dataframe tbody tr th:only-of-type {\n        vertical-align: middle;\n    }\n\n    .dataframe tbody tr th {\n        vertical-align: top;\n    }\n\n    .dataframe thead th {\n        text-align: right;\n    }\n</style>\n<table border=\"1\" class=\"dataframe\">\n  <thead>\n    <tr style=\"text-align: right;\">\n      <th></th>\n      <th>year</th>\n      <th>month</th>\n      <th>day</th>\n      <th>random</th>\n    </tr>\n  </thead>\n  <tbody>\n    <tr>\n      <th>0</th>\n      <td>2018</td>\n      <td>11</td>\n      <td>1</td>\n      <td>-0.803908</td>\n    </tr>\n    <tr>\n      <th>1</th>\n      <td>2018</td>\n      <td>11</td>\n      <td>2</td>\n      <td>1.586827</td>\n    </tr>\n    <tr>\n      <th>2</th>\n      <td>2018</td>\n      <td>11</td>\n      <td>3</td>\n      <td>0.224112</td>\n    </tr>\n    <tr>\n      <th>3</th>\n      <td>2018</td>\n      <td>11</td>\n      <td>4</td>\n      <td>-0.715937</td>\n    </tr>\n    <tr>\n      <th>4</th>\n      <td>2018</td>\n      <td>11</td>\n      <td>5</td>\n      <td>0.010597</td>\n    </tr>\n  </tbody>\n</table>\n</div>"
          },
          "metadata": {},
          "execution_count": 45
        }
      ]
    },
    {
      "cell_type": "code",
      "metadata": {
        "id": "KCr2ccc0GcxE",
        "colab_type": "code",
        "colab": {}
      },
      "source": [
        "# combining all date columns to get date\n",
        "pd.read_csv('../data/sample_2.csv', parse_dates={'date':[0,1,2]}, index_col='date').head()"
      ],
      "execution_count": 23,
      "outputs": [
        {
          "output_type": "execute_result",
          "data": {
            "text/plain": [
              "              random\n",
              "date                \n",
              "2018-11-01 -0.803908\n",
              "2018-11-02  1.586827\n",
              "2018-11-03  0.224112\n",
              "2018-11-04 -0.715937\n",
              "2018-11-05  0.010597"
            ],
            "text/html": "<div>\n<style scoped>\n    .dataframe tbody tr th:only-of-type {\n        vertical-align: middle;\n    }\n\n    .dataframe tbody tr th {\n        vertical-align: top;\n    }\n\n    .dataframe thead th {\n        text-align: right;\n    }\n</style>\n<table border=\"1\" class=\"dataframe\">\n  <thead>\n    <tr style=\"text-align: right;\">\n      <th></th>\n      <th>random</th>\n    </tr>\n    <tr>\n      <th>date</th>\n      <th></th>\n    </tr>\n  </thead>\n  <tbody>\n    <tr>\n      <th>2018-11-01</th>\n      <td>-0.803908</td>\n    </tr>\n    <tr>\n      <th>2018-11-02</th>\n      <td>1.586827</td>\n    </tr>\n    <tr>\n      <th>2018-11-03</th>\n      <td>0.224112</td>\n    </tr>\n    <tr>\n      <th>2018-11-04</th>\n      <td>-0.715937</td>\n    </tr>\n    <tr>\n      <th>2018-11-05</th>\n      <td>0.010597</td>\n    </tr>\n  </tbody>\n</table>\n</div>"
          },
          "metadata": {},
          "execution_count": 23
        }
      ]
    },
    {
      "cell_type": "markdown",
      "metadata": {
        "id": "MhF7kXxsGcxG",
        "colab_type": "text"
      },
      "source": [
        "## dateparser"
      ]
    },
    {
      "cell_type": "code",
      "metadata": {
        "id": "TLfgdeYlGcxH",
        "colab_type": "code",
        "colab": {}
      },
      "source": [
        "pd.read_csv('../data/sample.csv')"
      ],
      "execution_count": 24,
      "outputs": [
        {
          "output_type": "execute_result",
          "data": {
            "text/plain": [
              "                    x    random\n",
              "0   2018-11-01T0-10-1 -0.803908\n",
              "1   2018-11-02T3-45-3  1.586827\n",
              "2  2018-11-03T0-34-10  0.224112\n",
              "3   2018-11-04T11-3-4 -0.715937"
            ],
            "text/html": "<div>\n<style scoped>\n    .dataframe tbody tr th:only-of-type {\n        vertical-align: middle;\n    }\n\n    .dataframe tbody tr th {\n        vertical-align: top;\n    }\n\n    .dataframe thead th {\n        text-align: right;\n    }\n</style>\n<table border=\"1\" class=\"dataframe\">\n  <thead>\n    <tr style=\"text-align: right;\">\n      <th></th>\n      <th>x</th>\n      <th>random</th>\n    </tr>\n  </thead>\n  <tbody>\n    <tr>\n      <th>0</th>\n      <td>2018-11-01T0-10-1</td>\n      <td>-0.803908</td>\n    </tr>\n    <tr>\n      <th>1</th>\n      <td>2018-11-02T3-45-3</td>\n      <td>1.586827</td>\n    </tr>\n    <tr>\n      <th>2</th>\n      <td>2018-11-03T0-34-10</td>\n      <td>0.224112</td>\n    </tr>\n    <tr>\n      <th>3</th>\n      <td>2018-11-04T11-3-4</td>\n      <td>-0.715937</td>\n    </tr>\n  </tbody>\n</table>\n</div>"
          },
          "metadata": {},
          "execution_count": 24
        }
      ]
    },
    {
      "cell_type": "code",
      "metadata": {
        "id": "YrvYoxNrGcxJ",
        "colab_type": "code",
        "colab": {}
      },
      "source": [
        "pd.read_csv('../data/sample.csv', parse_dates= ['x']).info()"
      ],
      "execution_count": 26,
      "outputs": [
        {
          "output_type": "stream",
          "name": "stdout",
          "text": [
            "<class 'pandas.core.frame.DataFrame'>\nRangeIndex: 4 entries, 0 to 3\nData columns (total 2 columns):\n #   Column  Non-Null Count  Dtype  \n---  ------  --------------  -----  \n 0   x       4 non-null      object \n 1   random  4 non-null      float64\ndtypes: float64(1), object(1)\nmemory usage: 192.0+ bytes\n"
          ]
        }
      ]
    },
    {
      "cell_type": "code",
      "metadata": {
        "id": "fiojLQJJGcxL",
        "colab_type": "code",
        "colab": {}
      },
      "source": [
        "from datetime import datetime"
      ],
      "execution_count": 27,
      "outputs": []
    },
    {
      "cell_type": "code",
      "metadata": {
        "id": "3LeVhBPNGcxN",
        "colab_type": "code",
        "colab": {}
      },
      "source": [
        "datetime.strptime('2018-11-01T12-12-00', '%Y-%m-%dT%H-%M-%S')"
      ],
      "execution_count": 28,
      "outputs": [
        {
          "output_type": "execute_result",
          "data": {
            "text/plain": [
              "datetime.datetime(2018, 11, 1, 12, 12)"
            ]
          },
          "metadata": {},
          "execution_count": 28
        }
      ]
    },
    {
      "cell_type": "code",
      "metadata": {
        "id": "B4xFq0GjGcxP",
        "colab_type": "code",
        "colab": {}
      },
      "source": [
        "# Specifying the format to parse the datetime\n",
        "# Find out various format specifiers here (https://docs.python.org/3/library/datetime.html#strftime-and-strptime-behavior)\n",
        "def dateparse(x):\n",
        "    return datetime.strptime(x, '%Y-%m-%dT%H-%M-%S')"
      ],
      "execution_count": 29,
      "outputs": []
    },
    {
      "cell_type": "code",
      "metadata": {
        "id": "HWDve0otGcxR",
        "colab_type": "code",
        "colab": {}
      },
      "source": [
        "#pd.Timestamp('2018-11-01T0-10-1')"
      ],
      "execution_count": 30,
      "outputs": []
    },
    {
      "cell_type": "code",
      "metadata": {
        "id": "9T64KRa1GcxU",
        "colab_type": "code",
        "colab": {}
      },
      "source": [
        "dateparse('2018-11-01T0-10-1')"
      ],
      "execution_count": 31,
      "outputs": [
        {
          "output_type": "execute_result",
          "data": {
            "text/plain": [
              "datetime.datetime(2018, 11, 1, 0, 10, 1)"
            ]
          },
          "metadata": {},
          "execution_count": 31
        }
      ]
    },
    {
      "cell_type": "code",
      "metadata": {
        "id": "DZFv_QjLGcxX",
        "colab_type": "code",
        "colab": {}
      },
      "source": [
        "pd.read_csv('../data/sample.csv', parse_dates=['x'], date_parser=dateparse)"
      ],
      "execution_count": 37,
      "outputs": [
        {
          "output_type": "execute_result",
          "data": {
            "text/plain": [
              "                    x    random\n",
              "0 2018-11-01 00:10:01 -0.803908\n",
              "1 2018-11-02 03:45:03  1.586827\n",
              "2 2018-11-03 00:34:10  0.224112\n",
              "3 2018-11-04 11:03:04 -0.715937"
            ],
            "text/html": "<div>\n<style scoped>\n    .dataframe tbody tr th:only-of-type {\n        vertical-align: middle;\n    }\n\n    .dataframe tbody tr th {\n        vertical-align: top;\n    }\n\n    .dataframe thead th {\n        text-align: right;\n    }\n</style>\n<table border=\"1\" class=\"dataframe\">\n  <thead>\n    <tr style=\"text-align: right;\">\n      <th></th>\n      <th>x</th>\n      <th>random</th>\n    </tr>\n  </thead>\n  <tbody>\n    <tr>\n      <th>0</th>\n      <td>2018-11-01 00:10:01</td>\n      <td>-0.803908</td>\n    </tr>\n    <tr>\n      <th>1</th>\n      <td>2018-11-02 03:45:03</td>\n      <td>1.586827</td>\n    </tr>\n    <tr>\n      <th>2</th>\n      <td>2018-11-03 00:34:10</td>\n      <td>0.224112</td>\n    </tr>\n    <tr>\n      <th>3</th>\n      <td>2018-11-04 11:03:04</td>\n      <td>-0.715937</td>\n    </tr>\n  </tbody>\n</table>\n</div>"
          },
          "metadata": {},
          "execution_count": 37
        }
      ]
    },
    {
      "cell_type": "markdown",
      "metadata": {
        "id": "it3UaMhqGcxa",
        "colab_type": "text"
      },
      "source": [
        "## Write data"
      ]
    },
    {
      "cell_type": "code",
      "metadata": {
        "id": "M7VPMaLCGcxa",
        "colab_type": "code",
        "colab": {}
      },
      "source": [
        "# Creating date index with start and end having frequency of second\n",
        "date_index = pd.date_range(start='20181217', freq='S', end='20181221')"
      ],
      "execution_count": 38,
      "outputs": []
    },
    {
      "cell_type": "code",
      "metadata": {
        "id": "Dc6LrVgnGcxc",
        "colab_type": "code",
        "colab": {}
      },
      "source": [
        "len(date_index)"
      ],
      "execution_count": 39,
      "outputs": [
        {
          "output_type": "execute_result",
          "data": {
            "text/plain": [
              "345601"
            ]
          },
          "metadata": {},
          "execution_count": 39
        }
      ]
    },
    {
      "cell_type": "code",
      "metadata": {
        "id": "aQw18bwYGcxe",
        "colab_type": "code",
        "colab": {}
      },
      "source": [
        "# Generated Index\n",
        "date_index"
      ],
      "execution_count": 40,
      "outputs": [
        {
          "output_type": "execute_result",
          "data": {
            "text/plain": [
              "DatetimeIndex(['2018-12-17 00:00:00', '2018-12-17 00:00:01',\n",
              "               '2018-12-17 00:00:02', '2018-12-17 00:00:03',\n",
              "               '2018-12-17 00:00:04', '2018-12-17 00:00:05',\n",
              "               '2018-12-17 00:00:06', '2018-12-17 00:00:07',\n",
              "               '2018-12-17 00:00:08', '2018-12-17 00:00:09',\n",
              "               ...\n",
              "               '2018-12-20 23:59:51', '2018-12-20 23:59:52',\n",
              "               '2018-12-20 23:59:53', '2018-12-20 23:59:54',\n",
              "               '2018-12-20 23:59:55', '2018-12-20 23:59:56',\n",
              "               '2018-12-20 23:59:57', '2018-12-20 23:59:58',\n",
              "               '2018-12-20 23:59:59', '2018-12-21 00:00:00'],\n",
              "              dtype='datetime64[ns]', length=345601, freq='S')"
            ]
          },
          "metadata": {},
          "execution_count": 40
        }
      ]
    },
    {
      "cell_type": "code",
      "metadata": {
        "id": "AoCFA6ExGcxi",
        "colab_type": "code",
        "colab": {}
      },
      "source": [
        "# Creating the dataframe with the above generated index\n",
        "df = pd.DataFrame(data=np.random.randint(0,100, len(date_index)), index=date_index)"
      ],
      "execution_count": 41,
      "outputs": []
    },
    {
      "cell_type": "code",
      "metadata": {
        "id": "ZyFUG2u8Gcxj",
        "colab_type": "code",
        "colab": {}
      },
      "source": [
        "#changing name of the coloumn \n",
        "df.columns = ['Value']"
      ],
      "execution_count": 42,
      "outputs": []
    },
    {
      "cell_type": "code",
      "metadata": {
        "id": "SBhrabp3Gcxl",
        "colab_type": "code",
        "colab": {}
      },
      "source": [
        "#df.head()"
      ],
      "execution_count": 43,
      "outputs": []
    },
    {
      "cell_type": "code",
      "metadata": {
        "id": "hVqzhAo_Gcxn",
        "colab_type": "code",
        "colab": {}
      },
      "source": [
        "# Exporting data to csv\n",
        "df.to_csv('test_data.csv')"
      ],
      "execution_count": 44,
      "outputs": []
    }
  ]
}