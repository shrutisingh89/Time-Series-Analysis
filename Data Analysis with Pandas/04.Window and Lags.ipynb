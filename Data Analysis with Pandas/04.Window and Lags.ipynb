{
  "nbformat": 4,
  "nbformat_minor": 0,
  "metadata": {
    "kernelspec": {
      "display_name": "Python 3",
      "language": "python",
      "name": "python3"
    },
    "language_info": {
      "codemirror_mode": {
        "name": "ipython",
        "version": 3
      },
      "file_extension": ".py",
      "mimetype": "text/x-python",
      "name": "python",
      "nbconvert_exporter": "python",
      "pygments_lexer": "ipython3",
      "version": "3.6.1"
    },
    "colab": {
      "name": "04.Window and Lags.ipynb",
      "version": "0.3.2",
      "provenance": []
    }
  },
  "cells": [
    {
      "cell_type": "code",
      "metadata": {
        "id": "KpowcnYnGerc",
        "colab_type": "code",
        "colab": {}
      },
      "source": [
        "import pandas as pd\n",
        "import numpy as np\n",
        "import matplotlib.pyplot as plt\n",
        "plt.rcParams[\"figure.figsize\"] = (20,8)\n",
        "import warnings\n",
        "warnings.filterwarnings('ignore')\n",
        "import seaborn as sns\n",
        "import datetime"
      ],
      "execution_count": 0,
      "outputs": []
    },
    {
      "cell_type": "markdown",
      "metadata": {
        "id": "p18JZJ1UGerj",
        "colab_type": "text"
      },
      "source": [
        "# Window and Lags\n"
      ]
    },
    {
      "cell_type": "markdown",
      "metadata": {
        "id": "2LvSOgUZGerl",
        "colab_type": "text"
      },
      "source": [
        "## shift & diff\n",
        "\n",
        " Shift index by desired number of periods with an optional time freq."
      ]
    },
    {
      "cell_type": "code",
      "metadata": {
        "id": "D0emyIc6Germ",
        "colab_type": "code",
        "colab": {}
      },
      "source": [
        "colab_path = \"https://raw.githubusercontent.com/poornagurram/TimeSeriesAnalysis_ODSC_2019/master/\"\n",
        "df = pd.read_csv(colab_path+\"data/stock_data.csv\")"
      ],
      "execution_count": 0,
      "outputs": []
    },
    {
      "cell_type": "code",
      "metadata": {
        "id": "lHxLL_qpGerr",
        "colab_type": "code",
        "colab": {}
      },
      "source": [
        "df['AAPL_return'] = df['AAPL'] / df['AAPL'].shift(1)"
      ],
      "execution_count": 0,
      "outputs": []
    },
    {
      "cell_type": "code",
      "metadata": {
        "id": "RapVGXpUGeru",
        "colab_type": "code",
        "colab": {}
      },
      "source": [
        "df.head()"
      ],
      "execution_count": 0,
      "outputs": []
    },
    {
      "cell_type": "code",
      "metadata": {
        "id": "VYsMGKm7Gerw",
        "colab_type": "code",
        "colab": {}
      },
      "source": [
        "#df"
      ],
      "execution_count": 0,
      "outputs": []
    },
    {
      "cell_type": "code",
      "metadata": {
        "id": "CgpwEyOnGery",
        "colab_type": "code",
        "colab": {}
      },
      "source": [
        "df.diff?"
      ],
      "execution_count": 0,
      "outputs": []
    },
    {
      "cell_type": "code",
      "metadata": {
        "id": "bMO5GwKNGer1",
        "colab_type": "code",
        "colab": {}
      },
      "source": [
        "df['AAPL_5D_range'] = df['AAPL'].diff(5)"
      ],
      "execution_count": 0,
      "outputs": []
    },
    {
      "cell_type": "code",
      "metadata": {
        "id": "jhN3Ze_UGer4",
        "colab_type": "code",
        "colab": {}
      },
      "source": [
        "df[['AAPL', 'AAPL_5D_range']].plot(figsize=(20,10), secondary_y='AAPL_5D_range')\n"
      ],
      "execution_count": 0,
      "outputs": []
    },
    {
      "cell_type": "markdown",
      "metadata": {
        "id": "k6YFJCaVGer7",
        "colab_type": "text"
      },
      "source": [
        "## Rolling\n",
        "\n",
        " Provide rolling window calculations"
      ]
    },
    {
      "cell_type": "code",
      "metadata": {
        "id": "LPfldfyOGer9",
        "colab_type": "code",
        "colab": {}
      },
      "source": [
        "df.rolling?\n"
      ],
      "execution_count": 0,
      "outputs": []
    },
    {
      "cell_type": "code",
      "metadata": {
        "id": "50w9aOKRGesB",
        "colab_type": "code",
        "colab": {}
      },
      "source": [
        "df.rolling(30)"
      ],
      "execution_count": 0,
      "outputs": []
    },
    {
      "cell_type": "code",
      "metadata": {
        "id": "VOModRMxGesE",
        "colab_type": "code",
        "colab": {}
      },
      "source": [
        "df['AAPL_rollmean'] = df['AAPL'].rolling(30).mean()"
      ],
      "execution_count": 0,
      "outputs": []
    },
    {
      "cell_type": "code",
      "metadata": {
        "id": "MNUp1JY8GesH",
        "colab_type": "code",
        "colab": {}
      },
      "source": [
        "df.head(50)"
      ],
      "execution_count": 0,
      "outputs": []
    },
    {
      "cell_type": "code",
      "metadata": {
        "id": "tfgaP_EVGesK",
        "colab_type": "code",
        "colab": {}
      },
      "source": [
        "df[['AAPL', 'AAPL_rollmean']].plot(figsize=(20,10))"
      ],
      "execution_count": 0,
      "outputs": []
    },
    {
      "cell_type": "markdown",
      "metadata": {
        "id": "2-gzcku6GesN",
        "colab_type": "text"
      },
      "source": [
        "## expanding"
      ]
    },
    {
      "cell_type": "code",
      "metadata": {
        "id": "FJO9PVM8GesN",
        "colab_type": "code",
        "colab": {}
      },
      "source": [
        "df['AAPL'].expanding().max()"
      ],
      "execution_count": 0,
      "outputs": []
    },
    {
      "cell_type": "code",
      "metadata": {
        "id": "xSzd7crwGesP",
        "colab_type": "code",
        "colab": {}
      },
      "source": [
        "#cumulative product\n",
        "df['AAPL_return'].cumprod()\n"
      ],
      "execution_count": 0,
      "outputs": []
    },
    {
      "cell_type": "code",
      "metadata": {
        "id": "10PrE_vDGesR",
        "colab_type": "code",
        "colab": {}
      },
      "source": [
        "#df['AAPL_return'].cumprod"
      ],
      "execution_count": 0,
      "outputs": []
    },
    {
      "cell_type": "markdown",
      "metadata": {
        "id": "QVfoNrmtGesW",
        "colab_type": "text"
      },
      "source": [
        "# Exercise"
      ]
    },
    {
      "cell_type": "code",
      "metadata": {
        "id": "laq-mlElGesX",
        "colab_type": "code",
        "colab": {}
      },
      "source": [
        "# Q4:\n",
        "# read \"../data/exercise_4.csv\"\n",
        "# create temp_1 column with shift 1 \n",
        "# create temp_diff column with diff 2\n",
        "# create a temp_roll by calculate rolling mean with 10 sample window\n",
        "# delete all NaN values"
      ],
      "execution_count": 0,
      "outputs": []
    }
  ]
}