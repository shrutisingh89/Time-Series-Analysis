{
  "nbformat": 4,
  "nbformat_minor": 0,
  "metadata": {
    "kernelspec": {
      "display_name": "Python 3",
      "language": "python",
      "name": "python3"
    },
    "language_info": {
      "codemirror_mode": {
        "name": "ipython",
        "version": 3
      },
      "file_extension": ".py",
      "mimetype": "text/x-python",
      "name": "python",
      "nbconvert_exporter": "python",
      "pygments_lexer": "ipython3",
      "version": "3.6.1"
    },
    "colab": {
      "name": "01.Time Series Forecasting with MLP.ipynb",
      "version": "0.3.2",
      "provenance": []
    }
  },
  "cells": [
    {
      "cell_type": "code",
      "metadata": {
        "id": "hpQDh6LuJdMF",
        "colab_type": "code",
        "colab": {}
      },
      "source": [
        "import keras\n",
        "import pandas as pd\n",
        "from matplotlib import pyplot as plt\n",
        "from sklearn.model_selection import TimeSeriesSplit\n",
        "from sklearn.preprocessing import MinMaxScaler\n",
        "from keras.models import Sequential\n",
        "from keras.layers import Dense,Dropout\n",
        "from keras.optimizers import SGD\n",
        "colab_path = \"https://raw.githubusercontent.com/poornagurram/TimeSeriesAnalysis_ODSC_2019/master/\""
      ],
      "execution_count": 0,
      "outputs": []
    },
    {
      "cell_type": "code",
      "metadata": {
        "id": "QNoFd5cNJdMK",
        "colab_type": "code",
        "colab": {}
      },
      "source": [
        "rainfall_data_monthly = pd.read_csv(colab_path+\"data/All_India_Area_Weighted_Monthly_Rainfall.csv\")"
      ],
      "execution_count": 0,
      "outputs": []
    },
    {
      "cell_type": "code",
      "metadata": {
        "id": "FzcMFuBnJdMO",
        "colab_type": "code",
        "colab": {}
      },
      "source": [
        "rainfall_data_monthly.head()"
      ],
      "execution_count": 0,
      "outputs": []
    },
    {
      "cell_type": "code",
      "metadata": {
        "id": "AXqu0JUZJdMT",
        "colab_type": "code",
        "colab": {}
      },
      "source": [
        "rainfall_data_monthly['Value'].plot()"
      ],
      "execution_count": 0,
      "outputs": []
    },
    {
      "cell_type": "code",
      "metadata": {
        "id": "d3EC8jq7JdMW",
        "colab_type": "code",
        "colab": {}
      },
      "source": [
        "rainfall_data_monthly['Time'] = pd.to_datetime(rainfall_data_monthly['Time'])"
      ],
      "execution_count": 0,
      "outputs": []
    },
    {
      "cell_type": "code",
      "metadata": {
        "id": "WjiDUjTzJdMZ",
        "colab_type": "code",
        "colab": {}
      },
      "source": [
        "rainfall_data_monthly = rainfall_data_monthly.set_index('Time')"
      ],
      "execution_count": 0,
      "outputs": []
    },
    {
      "cell_type": "code",
      "metadata": {
        "id": "LQak2yB4JdMc",
        "colab_type": "code",
        "colab": {}
      },
      "source": [
        "rainfall_data_monthly['Value'].resample('6M').mean().plot()"
      ],
      "execution_count": 0,
      "outputs": []
    },
    {
      "cell_type": "code",
      "metadata": {
        "id": "mNf_nBs2JdMf",
        "colab_type": "code",
        "colab": {}
      },
      "source": [
        "rainfall_data_monthly = rainfall_data_monthly.reset_index()"
      ],
      "execution_count": 0,
      "outputs": []
    },
    {
      "cell_type": "code",
      "metadata": {
        "id": "XxcA5YRoJdMh",
        "colab_type": "code",
        "colab": {}
      },
      "source": [
        "rainfall_data_monthly['Value_s_1']=rainfall_data_monthly['Value'].shift(1)\n",
        "rainfall_data_monthly['Value_s_2']= rainfall_data_monthly['Value'].shift(2)\n",
        "rainfall_data_monthly['Value_d_1']= rainfall_data_monthly['Value'].diff(1)"
      ],
      "execution_count": 0,
      "outputs": []
    },
    {
      "cell_type": "code",
      "metadata": {
        "id": "-37eKSFPJdMk",
        "colab_type": "code",
        "colab": {}
      },
      "source": [
        "rainfall_data_monthly[['Value','Value_s_1','Value_s_2','Value_d_1']].loc[3]"
      ],
      "execution_count": 0,
      "outputs": []
    },
    {
      "cell_type": "code",
      "metadata": {
        "id": "xSRpciAKJdMn",
        "colab_type": "code",
        "colab": {}
      },
      "source": [
        "# lets split the data into train and test\n",
        "# train ==> 4 splits , test ==> 1 split\n",
        "\n",
        "tscv = TimeSeriesSplit(n_splits=5)\n",
        "\n",
        "for train_index, test_index in tscv.split(rainfall_data_monthly.Time):\n",
        "    y_train,y_test = rainfall_data_monthly['Value'][train_index],rainfall_data_monthly['Value'][test_index]\n",
        "    x_train,x_test = rainfall_data_monthly[['Value_s_1','Value_s_2','Value_d_1']].loc[train_index],rainfall_data_monthly[['Value_s_1','Value_s_2','Value_d_1']].loc[test_index]"
      ],
      "execution_count": 0,
      "outputs": []
    },
    {
      "cell_type": "code",
      "metadata": {
        "id": "MRcK9G0JJdMp",
        "colab_type": "code",
        "colab": {}
      },
      "source": [
        "x_train = x_train[3:]\n",
        "y_train = y_train[3:]"
      ],
      "execution_count": 0,
      "outputs": []
    },
    {
      "cell_type": "code",
      "metadata": {
        "id": "l_MlA6J4JdMs",
        "colab_type": "code",
        "colab": {}
      },
      "source": [
        ""
      ],
      "execution_count": 0,
      "outputs": []
    },
    {
      "cell_type": "code",
      "metadata": {
        "id": "loW6c7hVJdMy",
        "colab_type": "code",
        "colab": {}
      },
      "source": [
        "#x_train = x_train.values.reshape(-1,1)\n",
        "#x_test = x_test.values.reshape(-1,1)"
      ],
      "execution_count": 0,
      "outputs": []
    },
    {
      "cell_type": "code",
      "metadata": {
        "id": "6wAi2RbTJdM0",
        "colab_type": "code",
        "colab": {}
      },
      "source": [
        "#y_train"
      ],
      "execution_count": 0,
      "outputs": []
    },
    {
      "cell_type": "code",
      "metadata": {
        "id": "oIsu3jPYJdM3",
        "colab_type": "code",
        "colab": {}
      },
      "source": [
        "# Scaling Y\n",
        "\n",
        "scaler = MinMaxScaler(feature_range=(0,1))\n",
        "\n",
        "x_train = scaler.fit_transform(x_train)\n",
        "x_test = scaler.fit_transform(x_test)\n"
      ],
      "execution_count": 0,
      "outputs": []
    },
    {
      "cell_type": "code",
      "metadata": {
        "id": "Kf6YLoeSJdM6",
        "colab_type": "code",
        "colab": {}
      },
      "source": [
        "y_train = y_train.values.reshape(-1,1)\n",
        "y_test = y_test.values.reshape(-1,1)\n",
        "y_train = scaler.fit_transform(y_train)\n",
        "y_test = scaler.fit_transform(y_test)\n"
      ],
      "execution_count": 0,
      "outputs": []
    },
    {
      "cell_type": "code",
      "metadata": {
        "id": "9ycJ5KAoJdM8",
        "colab_type": "code",
        "colab": {}
      },
      "source": [
        "mlp_model = Sequential()\n",
        "mlp_model.add(Dense(100, activation='sigmoid', input_dim=x_train.shape[1]))\n",
        "mlp_model.add(Dense(100,activation='sigmoid'))\n",
        "mlp_model.add(Dropout(0.2))\n",
        "mlp_model.add(Dense(1,activation='sigmoid'))\n",
        "opt = SGD(lr=0.001)\n",
        "mlp_model.compile(loss='mean_squared_error', optimizer='adam')"
      ],
      "execution_count": 0,
      "outputs": []
    },
    {
      "cell_type": "code",
      "metadata": {
        "id": "wHWJgeHjJdM-",
        "colab_type": "code",
        "colab": {}
      },
      "source": [
        "mlp_model.fit(x_train,y_train,nb_epoch=50, batch_size=50, validation_split=0.2)"
      ],
      "execution_count": 0,
      "outputs": []
    },
    {
      "cell_type": "code",
      "metadata": {
        "id": "wnuRmmEjJdNA",
        "colab_type": "code",
        "colab": {}
      },
      "source": [
        "preds = mlp_model.predict(x_test)"
      ],
      "execution_count": 0,
      "outputs": []
    },
    {
      "cell_type": "code",
      "metadata": {
        "id": "_2XVYZXyJdND",
        "colab_type": "code",
        "colab": {}
      },
      "source": [
        "plt.figure(figsize=(10, 5.5))\n",
        "plt.plot(preds,linestyle='-', marker='*',color='b')\n",
        "plt.plot(y_test,linestyle='-', marker='.',color='r')\n",
        "plt.legend(['Predicted','Actual'], loc=2)\n",
        "plt.title('Actual vs Predicted Rainfall')\n",
        "plt.ylabel('rainfall in mm')\n",
        "plt.xlabel('Index')\n",
        "plt.savefig('rain_fall_mlp', format='png', dpi=300)"
      ],
      "execution_count": 0,
      "outputs": []
    },
    {
      "cell_type": "code",
      "metadata": {
        "id": "fMxloxHcJdNH",
        "colab_type": "code",
        "colab": {}
      },
      "source": [
        "from sklearn.metrics import r2_score\n",
        "\n",
        "r2_score(y_test,preds)"
      ],
      "execution_count": 0,
      "outputs": []
    },
    {
      "cell_type": "code",
      "metadata": {
        "id": "WF9ZHRTjJdNJ",
        "colab_type": "code",
        "colab": {}
      },
      "source": [
        ""
      ],
      "execution_count": 0,
      "outputs": []
    }
  ]
}