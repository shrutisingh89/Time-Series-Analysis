{
  "nbformat": 4,
  "nbformat_minor": 0,
  "metadata": {
    "kernelspec": {
      "display_name": "Python 3",
      "language": "python",
      "name": "python3"
    },
    "language_info": {
      "codemirror_mode": {
        "name": "ipython",
        "version": 3
      },
      "file_extension": ".py",
      "mimetype": "text/x-python",
      "name": "python",
      "nbconvert_exporter": "python",
      "pygments_lexer": "ipython3",
      "version": "3.6.1"
    },
    "colab": {
      "name": "02.Time Series Forecasting with LSTM.ipynb",
      "version": "0.3.2",
      "provenance": []
    }
  },
  "cells": [
    {
      "cell_type": "code",
      "metadata": {
        "id": "Dggq19RmJeta",
        "colab_type": "code",
        "colab": {}
      },
      "source": [
        "import pandas as pd\n",
        "import numpy as np\n",
        "from math import sqrt\n",
        "from sklearn.metrics import r2_score\n",
        "import matplotlib.pyplot as plt\n",
        "from keras.models import Sequential\n",
        "from keras.layers import Dense, Dropout,LSTM\n",
        "colab_path = \"https://raw.githubusercontent.com/poornagurram/TimeSeriesAnalysis_ODSC_2019/master/\""
      ],
      "execution_count": 0,
      "outputs": []
    },
    {
      "cell_type": "markdown",
      "metadata": {
        "id": "ZIMSGUXLJetg",
        "colab_type": "text"
      },
      "source": [
        "# Univariate Forecasting"
      ]
    },
    {
      "cell_type": "code",
      "metadata": {
        "id": "mOA7YgKlJeti",
        "colab_type": "code",
        "colab": {}
      },
      "source": [
        "rainfall_data = pd.read_csv(colab_path+\"data/All_India_Area_Weighted_Monthly_Rainfall.csv\")"
      ],
      "execution_count": 0,
      "outputs": []
    },
    {
      "cell_type": "code",
      "metadata": {
        "id": "QAO3OiHTJetl",
        "colab_type": "code",
        "colab": {}
      },
      "source": [
        "\n",
        "def makeXy(ts, nb_timesteps):\n",
        "    \"\"\"\n",
        "    Input: \n",
        "           ts: original time series\n",
        "           nb_timesteps: number of time steps in the regressors\n",
        "    Output: \n",
        "           X: 2-D array of regressors\n",
        "           y: 1-D array of target \n",
        "    \"\"\"\n",
        "    X = []\n",
        "    y = []\n",
        "    for i in range(nb_timesteps, ts.shape[0]):\n",
        "        X.append(list(ts.loc[i-nb_timesteps:i-1]))\n",
        "        y.append(ts.loc[i])\n",
        "    X, y = np.array(X), np.array(y)\n",
        "    return X, y"
      ],
      "execution_count": 0,
      "outputs": []
    },
    {
      "cell_type": "code",
      "metadata": {
        "id": "T_Bt5ePYJeto",
        "colab_type": "code",
        "colab": {}
      },
      "source": [
        "from sklearn.preprocessing import MinMaxScaler\n",
        "scaler = MinMaxScaler(feature_range=(0, 1))\n",
        "rainfall_data['Value'] = scaler.fit_transform(np.array(rainfall_data['Value']).reshape(-1, 1))"
      ],
      "execution_count": 0,
      "outputs": []
    },
    {
      "cell_type": "code",
      "metadata": {
        "id": "qpOmUCoTJetr",
        "colab_type": "code",
        "colab": {}
      },
      "source": [
        "X,y = makeXy(rainfall_data['Value'],10)\n",
        "\n",
        "X_train = X[:1100]\n",
        "X_test = X[1100:]\n",
        "y_train = y[:1100]\n",
        "y_test = y[1100:]"
      ],
      "execution_count": 0,
      "outputs": []
    },
    {
      "cell_type": "code",
      "metadata": {
        "id": "7VJTBIMaJetv",
        "colab_type": "code",
        "colab": {}
      },
      "source": [
        "X_train = np.reshape(X_train, (X_train.shape[0],X_train.shape[1],1))\n",
        "X_test = np.reshape(X_test, (X_test.shape[0],X_test.shape[1],1))"
      ],
      "execution_count": 0,
      "outputs": []
    },
    {
      "cell_type": "code",
      "metadata": {
        "id": "DBoPapo5Jety",
        "colab_type": "code",
        "colab": {}
      },
      "source": [
        "lstm_model = Sequential()\n",
        "lstm_model.add(LSTM(50, input_shape = (X_train.shape[1],1), return_sequences=True, activation = 'relu'))\n",
        "lstm_model.add(Dropout(0.1))\n",
        "lstm_model.add(LSTM(50,activation='relu'))\n",
        "lstm_model.add(Dropout(0.1))\n",
        "lstm_model.add(Dense(1))\n",
        "lstm_model.compile(loss = 'mean_squared_error',\n",
        "              optimizer = 'adam',\n",
        "              metrics = ['mse'])\n",
        "lstm_model.fit(X_train, y_train, \n",
        "    nb_epoch=50, batch_size=50,validation_split=0.2)"
      ],
      "execution_count": 0,
      "outputs": []
    },
    {
      "cell_type": "code",
      "metadata": {
        "id": "WEbaLK_1JeuB",
        "colab_type": "code",
        "colab": {}
      },
      "source": [
        "preds = lstm_model.predict(X_test)"
      ],
      "execution_count": 0,
      "outputs": []
    },
    {
      "cell_type": "code",
      "metadata": {
        "id": "d5DcJCMEJeuG",
        "colab_type": "code",
        "colab": {}
      },
      "source": [
        "def plot_predictions(preds,y_test):\n",
        "    plt.figure(figsize=(10, 5.5))\n",
        "    plt.plot(preds,linestyle='-',color='b')\n",
        "    plt.plot(y_test,linestyle='-',color='r')\n",
        "    plt.legend(['Predicted','Actual'], loc=2)"
      ],
      "execution_count": 0,
      "outputs": []
    },
    {
      "cell_type": "code",
      "metadata": {
        "id": "FpAVjSwfJeuN",
        "colab_type": "code",
        "colab": {}
      },
      "source": [
        "r2_score(y_test,preds)"
      ],
      "execution_count": 0,
      "outputs": []
    },
    {
      "cell_type": "markdown",
      "metadata": {
        "id": "A3ki9EkVJeuX",
        "colab_type": "text"
      },
      "source": [
        "# MultiVariate Forecasting"
      ]
    },
    {
      "cell_type": "code",
      "metadata": {
        "id": "Llz63bnuJeua",
        "colab_type": "code",
        "colab": {}
      },
      "source": [
        "multi_data = pd.read_csv(colab_path+\"data/pollution.csv\",parse_dates=True,index_col=0)"
      ],
      "execution_count": 0,
      "outputs": []
    },
    {
      "cell_type": "code",
      "metadata": {
        "id": "pQVytBclJeuf",
        "colab_type": "code",
        "colab": {}
      },
      "source": [
        "multi_data.head()"
      ],
      "execution_count": 0,
      "outputs": []
    },
    {
      "cell_type": "code",
      "metadata": {
        "id": "jzVFmMGlJeun",
        "colab_type": "code",
        "colab": {}
      },
      "source": [
        "def create_lags(df):\n",
        "    for col in df.columns:\n",
        "        df[col+\"_1\"] = df[col].shift(1)\n",
        "    return df.dropna()"
      ],
      "execution_count": 0,
      "outputs": []
    },
    {
      "cell_type": "code",
      "metadata": {
        "id": "Z-F5OeC8Jeus",
        "colab_type": "code",
        "colab": {}
      },
      "source": [
        "reframed_multi_data = create_lags(multi_data)"
      ],
      "execution_count": 0,
      "outputs": []
    },
    {
      "cell_type": "code",
      "metadata": {
        "id": "pbT9oEufJeux",
        "colab_type": "code",
        "colab": {}
      },
      "source": [
        "reframed_multi_data.reset_index(inplace=True)\n",
        "del reframed_multi_data['date']"
      ],
      "execution_count": 0,
      "outputs": []
    },
    {
      "cell_type": "code",
      "metadata": {
        "id": "yrKRxDsnJeu2",
        "colab_type": "code",
        "colab": {}
      },
      "source": [
        "reframed_multi_data.columns"
      ],
      "execution_count": 0,
      "outputs": []
    },
    {
      "cell_type": "code",
      "metadata": {
        "id": "5IoDgK2UJeu9",
        "colab_type": "code",
        "colab": {}
      },
      "source": [
        "y = reframed_multi_data['pollution']"
      ],
      "execution_count": 0,
      "outputs": []
    },
    {
      "cell_type": "code",
      "metadata": {
        "id": "TCJhWDfxJevD",
        "colab_type": "code",
        "colab": {}
      },
      "source": [
        "x = reframed_multi_data[['dew', 'temp', 'press', 'wnd_spd', 'pollution_1', 'dew_1',\n",
        "       'temp_1', 'press_1', 'wnd_spd_1']]"
      ],
      "execution_count": 0,
      "outputs": []
    },
    {
      "cell_type": "code",
      "metadata": {
        "id": "ULuguLHpJevJ",
        "colab_type": "code",
        "colab": {}
      },
      "source": [
        "x_train = x[:35799]\n",
        "x_test = x[35799:]"
      ],
      "execution_count": 0,
      "outputs": []
    },
    {
      "cell_type": "code",
      "metadata": {
        "id": "WzkZhGKIJevN",
        "colab_type": "code",
        "colab": {}
      },
      "source": [
        "y_train = y[:35799]\n",
        "y_test = y[35799:]"
      ],
      "execution_count": 0,
      "outputs": []
    },
    {
      "cell_type": "code",
      "metadata": {
        "id": "Dkry6nXDJevY",
        "colab_type": "code",
        "colab": {}
      },
      "source": [
        "from sklearn.preprocessing import MinMaxScaler\n",
        "scaler = MinMaxScaler(feature_range=(0,1))\n",
        "x_train = scaler.fit_transform(x_train)\n",
        "x_test = scaler.transform(x_test)\n",
        "y_train = scaler.fit_transform(y_train.values.reshape(-1,1))\n",
        "y_test = scaler.transform(y_test.values.reshape(-1,1))\n",
        "\n",
        "x_train = x_train.reshape(x_train.shape[0],1,x_train.shape[1])\n",
        "x_test = x_test.reshape(x_test.shape[0],1,x_test.shape[1])"
      ],
      "execution_count": 0,
      "outputs": []
    },
    {
      "cell_type": "code",
      "metadata": {
        "id": "xgG_8s8eJeve",
        "colab_type": "code",
        "colab": {}
      },
      "source": [
        "# Samples, Timesteps, features\n",
        "x_train.shape"
      ],
      "execution_count": 0,
      "outputs": []
    },
    {
      "cell_type": "code",
      "metadata": {
        "id": "SZWbffB-Jevh",
        "colab_type": "code",
        "colab": {}
      },
      "source": [
        "multi_lstm_model = Sequential()\n",
        "multi_lstm_model.add(LSTM(100,input_shape=(x_train.shape[1],x_train.shape[2])))\n",
        "multi_lstm_model.add(Dense(1))\n",
        "multi_lstm_model.compile(loss=\"mse\",optimizer=\"adam\")"
      ],
      "execution_count": 0,
      "outputs": []
    },
    {
      "cell_type": "code",
      "metadata": {
        "id": "Dq6r4Qs0Jevl",
        "colab_type": "code",
        "colab": {}
      },
      "source": [
        "multi_lstm_model.fit(x_train,y_train,epochs=25,batch_size=500)"
      ],
      "execution_count": 0,
      "outputs": []
    },
    {
      "cell_type": "code",
      "metadata": {
        "id": "xEMikB1GJevt",
        "colab_type": "code",
        "colab": {}
      },
      "source": [
        "y_pred = multi_lstm_model.predict(x_test)"
      ],
      "execution_count": 0,
      "outputs": []
    },
    {
      "cell_type": "code",
      "metadata": {
        "id": "P_U53VUcJevy",
        "colab_type": "code",
        "colab": {}
      },
      "source": [
        "def plot_predictions(preds,y_test):\n",
        "    plt.figure(figsize=(10, 5.5))\n",
        "    plt.plot(preds,linestyle='-',color='b')\n",
        "    plt.plot(y_test,linestyle='-',color='r')\n",
        "    plt.legend(['Predicted','Actual'], loc=2)\n",
        "    plt.title('Actual vs Predicted')"
      ],
      "execution_count": 0,
      "outputs": []
    },
    {
      "cell_type": "code",
      "metadata": {
        "id": "1oOxrP5QJev2",
        "colab_type": "code",
        "colab": {}
      },
      "source": [
        "plot_predictions(y_pred[:100],y_test[:100])"
      ],
      "execution_count": 0,
      "outputs": []
    },
    {
      "cell_type": "code",
      "metadata": {
        "id": "QpcKbEb8Jev9",
        "colab_type": "code",
        "colab": {}
      },
      "source": [
        "r2_score(y_test,y_pred)"
      ],
      "execution_count": 0,
      "outputs": []
    },
    {
      "cell_type": "code",
      "metadata": {
        "id": "J1UUvQU3JewC",
        "colab_type": "code",
        "colab": {}
      },
      "source": [
        ""
      ],
      "execution_count": 0,
      "outputs": []
    }
  ]
}