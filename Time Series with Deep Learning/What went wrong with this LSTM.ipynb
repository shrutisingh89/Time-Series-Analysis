{
  "nbformat": 4,
  "nbformat_minor": 0,
  "metadata": {
    "kernelspec": {
      "display_name": "Python 3",
      "language": "python",
      "name": "python3"
    },
    "language_info": {
      "codemirror_mode": {
        "name": "ipython",
        "version": 3
      },
      "file_extension": ".py",
      "mimetype": "text/x-python",
      "name": "python",
      "nbconvert_exporter": "python",
      "pygments_lexer": "ipython3",
      "version": "3.6.1"
    },
    "colab": {
      "name": "What went wrong with this LSTM.ipynb",
      "version": "0.3.2",
      "provenance": []
    }
  },
  "cells": [
    {
      "cell_type": "code",
      "metadata": {
        "id": "bbupexIPKuso",
        "colab_type": "code",
        "colab": {}
      },
      "source": [
        "import pandas as pd\n",
        "from keras.models import Sequential\n",
        "from keras.layers import LSTM,Dense\n",
        "import matplotlib.pyplot as plt\n",
        "from sklearn.metrics import r2_score\n",
        "colab_path = \"https://raw.githubusercontent.com/poornagurram/TimeSeriesAnalysis_ODSC_2019/master/\""
      ],
      "execution_count": 0,
      "outputs": []
    },
    {
      "cell_type": "code",
      "metadata": {
        "id": "o8EtOpvLKuss",
        "colab_type": "code",
        "colab": {}
      },
      "source": [
        "multi_data = pd.read_csv(colab_path+\"data/flotation-cell.csv\",parse_dates=True,index_col=0)"
      ],
      "execution_count": 0,
      "outputs": []
    },
    {
      "cell_type": "code",
      "metadata": {
        "id": "u-89zwJ1Kusu",
        "colab_type": "code",
        "colab": {}
      },
      "source": [
        "def create_lags(df):\n",
        "    for col in df.columns:\n",
        "        df[col+\"_1\"] = df[col].shift(1)\n",
        "    return df.dropna()"
      ],
      "execution_count": 0,
      "outputs": []
    },
    {
      "cell_type": "code",
      "metadata": {
        "id": "9XsOYqMvKusw",
        "colab_type": "code",
        "colab": {}
      },
      "source": [
        "# Look at the dataset because something is wrong ?"
      ],
      "execution_count": 0,
      "outputs": []
    },
    {
      "cell_type": "code",
      "metadata": {
        "id": "GfqdxiAaKusy",
        "colab_type": "code",
        "colab": {}
      },
      "source": [
        "multi_data.reset_index(inplace=True)\n",
        "del multi_data['Date and time']"
      ],
      "execution_count": 0,
      "outputs": []
    },
    {
      "cell_type": "code",
      "metadata": {
        "id": "lVp3P7GMKus0",
        "colab_type": "code",
        "colab": {}
      },
      "source": [
        "multi_data.dropna(inplace=True)"
      ],
      "execution_count": 0,
      "outputs": []
    },
    {
      "cell_type": "code",
      "metadata": {
        "id": "wGtrnQFmKus2",
        "colab_type": "code",
        "colab": {}
      },
      "source": [
        "reframed_multi_data = create_lags(multi_data)"
      ],
      "execution_count": 0,
      "outputs": []
    },
    {
      "cell_type": "code",
      "metadata": {
        "id": "Ssnoxz0tKus3",
        "colab_type": "code",
        "colab": {}
      },
      "source": [
        "reframed_multi_data.columns"
      ],
      "execution_count": 0,
      "outputs": []
    },
    {
      "cell_type": "code",
      "metadata": {
        "id": "i2gGvpjCKus5",
        "colab_type": "code",
        "colab": {}
      },
      "source": [
        "y = reframed_multi_data['Air flow rate']"
      ],
      "execution_count": 0,
      "outputs": []
    },
    {
      "cell_type": "code",
      "metadata": {
        "id": "Q722-7ojKus8",
        "colab_type": "code",
        "colab": {}
      },
      "source": [
        "x = reframed_multi_data[['Upstream pH', 'CuSO4 added', 'Pulp level',\n",
        "       'Feed rate', 'Feed rate_1', 'Upstream pH_1', 'CuSO4 added_1',\n",
        "       'Pulp level_1', 'Air flow rate_1']]"
      ],
      "execution_count": 0,
      "outputs": []
    },
    {
      "cell_type": "code",
      "metadata": {
        "id": "YLwuoN-VKus-",
        "colab_type": "code",
        "colab": {}
      },
      "source": [
        "x_train = x[:2500]\n",
        "x_test = x[2500:]"
      ],
      "execution_count": 0,
      "outputs": []
    },
    {
      "cell_type": "code",
      "metadata": {
        "id": "81HOwb0OKutA",
        "colab_type": "code",
        "colab": {}
      },
      "source": [
        "y_train = y[:2500]\n",
        "y_test = y[2500:]"
      ],
      "execution_count": 0,
      "outputs": []
    },
    {
      "cell_type": "code",
      "metadata": {
        "id": "8pozYKSPKutD",
        "colab_type": "code",
        "colab": {}
      },
      "source": [
        "# Something fishy here\n",
        "from sklearn.preprocessing import MinMaxScaler\n",
        "scaler = MinMaxScaler(feature_range=(0,1))\n",
        "x_train = scaler.fit_transform(x_train)\n",
        "x_test = scaler.fit_transform(x_test)\n",
        "y_train = scaler.fit_transform(y_train.values.reshape(-1,1))\n",
        "y_test = scaler.fit_transform(y_test.values.reshape(-1,1))\n",
        "\n",
        "x_train = x_train.reshape(x_train.shape[0],1,x_train.shape[1])\n",
        "x_test = x_test.reshape(x_test.shape[0],1,x_test.shape[1])"
      ],
      "execution_count": 0,
      "outputs": []
    },
    {
      "cell_type": "code",
      "metadata": {
        "id": "7qxJGZljKutF",
        "colab_type": "code",
        "colab": {}
      },
      "source": [
        "x_train.shape"
      ],
      "execution_count": 0,
      "outputs": []
    },
    {
      "cell_type": "code",
      "metadata": {
        "id": "lQOJ-dG-KutH",
        "colab_type": "code",
        "colab": {}
      },
      "source": [
        "# does hyper parameter tuning help ?\n",
        "multi_lstm_model = Sequential()\n",
        "multi_lstm_model.add(LSTM(100,input_shape=(x_train.shape[1],x_train.shape[2])))\n",
        "multi_lstm_model.add(Dense(1))\n",
        "multi_lstm_model.compile(loss=\"mse\",optimizer=\"adam\")"
      ],
      "execution_count": 0,
      "outputs": []
    },
    {
      "cell_type": "code",
      "metadata": {
        "id": "QbbWWyU_KutJ",
        "colab_type": "code",
        "colab": {}
      },
      "source": [
        "multi_lstm_model.fit(x_train,y_train,nb_epoch=25,batch_size=100)"
      ],
      "execution_count": 0,
      "outputs": []
    },
    {
      "cell_type": "code",
      "metadata": {
        "id": "lXVNTQkbKutK",
        "colab_type": "code",
        "colab": {}
      },
      "source": [
        "y_pred = multi_lstm_model.predict(x_test)"
      ],
      "execution_count": 0,
      "outputs": []
    },
    {
      "cell_type": "code",
      "metadata": {
        "id": "Xf5x9Cc8KutM",
        "colab_type": "code",
        "colab": {}
      },
      "source": [
        "def plot_predictions(preds,y_test):\n",
        "    plt.figure(figsize=(10, 5.5))\n",
        "    plt.plot(preds,linestyle='-',color='b')\n",
        "    plt.plot(y_test,linestyle='-',color='r')\n",
        "    plt.legend(['Predicted','Actual'], loc=2)\n",
        "    plt.title('Actual vs Predicted')"
      ],
      "execution_count": 0,
      "outputs": []
    },
    {
      "cell_type": "code",
      "metadata": {
        "id": "6-uhppEyKutO",
        "colab_type": "code",
        "colab": {}
      },
      "source": [
        "plot_predictions(y_pred[:100],y_test[:100])"
      ],
      "execution_count": 0,
      "outputs": []
    },
    {
      "cell_type": "code",
      "metadata": {
        "id": "2u3zn_ZjKutP",
        "colab_type": "code",
        "colab": {}
      },
      "source": [
        "r2_score(y_test,y_pred)"
      ],
      "execution_count": 0,
      "outputs": []
    },
    {
      "cell_type": "code",
      "metadata": {
        "id": "L6dEQAqGKutS",
        "colab_type": "code",
        "colab": {}
      },
      "source": [
        ""
      ],
      "execution_count": 0,
      "outputs": []
    }
  ]
}