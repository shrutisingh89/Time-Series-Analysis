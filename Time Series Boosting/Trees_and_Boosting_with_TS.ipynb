{
  "nbformat": 4,
  "nbformat_minor": 0,
  "metadata": {
    "kernelspec": {
      "display_name": "Python 3",
      "language": "python",
      "name": "python3"
    },
    "language_info": {
      "codemirror_mode": {
        "name": "ipython",
        "version": 3
      },
      "file_extension": ".py",
      "mimetype": "text/x-python",
      "name": "python",
      "nbconvert_exporter": "python",
      "pygments_lexer": "ipython3",
      "version": "3.6.1"
    },
    "colab": {
      "name": "Trees_and_Boosting_with_TS.ipynb",
      "version": "0.3.2",
      "provenance": []
    }
  },
  "cells": [
    {
      "cell_type": "markdown",
      "metadata": {
        "id": "Gl0KbU7NJbSz",
        "colab_type": "text"
      },
      "source": [
        "## Trees, Ensembles and XGBoost"
      ]
    },
    {
      "cell_type": "markdown",
      "metadata": {
        "id": "PtXnrfkUJbS1",
        "colab_type": "text"
      },
      "source": [
        "    -- Introduction\n",
        "    -- How they work?\n",
        "    -- What are Trees useful for?"
      ]
    },
    {
      "cell_type": "markdown",
      "metadata": {
        "id": "52frCEIbJbS5",
        "colab_type": "text"
      },
      "source": [
        "## Imports and initialization"
      ]
    },
    {
      "cell_type": "code",
      "metadata": {
        "id": "HYWxk1z_JbS6",
        "colab_type": "code",
        "colab": {}
      },
      "source": [
        "import pandas as pd\n",
        "import numpy as np\n",
        "import matplotlib.pyplot as plt\n",
        "%matplotlib inline\n",
        "import matplotlib\n",
        "matplotlib.rcParams['figure.figsize'] = [20, 10]\n",
        "colab_path = \"https://raw.githubusercontent.com/poornagurram/TimeSeriesAnalysis_ODSC_2019/master/\""
      ],
      "execution_count": 0,
      "outputs": []
    },
    {
      "cell_type": "markdown",
      "metadata": {
        "id": "yKY7uggAJbS9",
        "colab_type": "text"
      },
      "source": [
        "## Data Preparation"
      ]
    },
    {
      "cell_type": "code",
      "metadata": {
        "id": "qY1vDqu8JbS-",
        "colab_type": "code",
        "colab": {}
      },
      "source": [
        "data = pd.read_csv(colab_path+'data/gdp_uk.csv')"
      ],
      "execution_count": 0,
      "outputs": []
    },
    {
      "cell_type": "code",
      "metadata": {
        "id": "iyvHmCz2JbTA",
        "colab_type": "code",
        "colab": {}
      },
      "source": [
        "data[['year', 'value']].plot(x='year', y='value')"
      ],
      "execution_count": 0,
      "outputs": []
    },
    {
      "cell_type": "code",
      "metadata": {
        "id": "rmxVpvTzJbTE",
        "colab_type": "code",
        "colab": {}
      },
      "source": [
        "data['gdp_growth'] = np.log(data.value / data.value.shift(1))\n",
        "data['is_inc'] = np.where(data.value / data.value.shift(1) > 1, 1, 0)"
      ],
      "execution_count": 0,
      "outputs": []
    },
    {
      "cell_type": "code",
      "metadata": {
        "id": "ZpqqSug0JbTG",
        "colab_type": "code",
        "colab": {}
      },
      "source": [
        "data.head(10)"
      ],
      "execution_count": 0,
      "outputs": []
    },
    {
      "cell_type": "code",
      "metadata": {
        "id": "UGpkZ15OJbTJ",
        "colab_type": "code",
        "colab": {}
      },
      "source": [
        "for lag in range(1, 6):\n",
        "    data[f'gdp_growth_lag_{lag}'] = data['gdp_growth'].shift(lag)"
      ],
      "execution_count": 0,
      "outputs": []
    },
    {
      "cell_type": "code",
      "metadata": {
        "id": "EzaKWbB7JbTL",
        "colab_type": "code",
        "colab": {}
      },
      "source": [
        "data.dropna(inplace=True)"
      ],
      "execution_count": 0,
      "outputs": []
    },
    {
      "cell_type": "code",
      "metadata": {
        "id": "UgkdeJXeJbTN",
        "colab_type": "code",
        "colab": {}
      },
      "source": [
        "df = data[['year', \n",
        "         'gdp_growth_lag_1', \n",
        "         'gdp_growth_lag_2',\n",
        "         'gdp_growth_lag_3',\n",
        "         'gdp_growth_lag_4',\n",
        "         'gdp_growth_lag_5',\n",
        "         'gdp_growth',\n",
        "         'is_inc']].copy()"
      ],
      "execution_count": 0,
      "outputs": []
    },
    {
      "cell_type": "code",
      "metadata": {
        "id": "EJjSBUWcJbTP",
        "colab_type": "code",
        "colab": {}
      },
      "source": [
        "df.head(10)"
      ],
      "execution_count": 0,
      "outputs": []
    },
    {
      "cell_type": "code",
      "metadata": {
        "id": "5L6kSPzGJbTS",
        "colab_type": "code",
        "colab": {}
      },
      "source": [
        "features_columns = ['gdp_growth_lag_1', 'gdp_growth_lag_2','gdp_growth_lag_3', 'gdp_growth_lag_4', 'gdp_growth_lag_5']\n",
        "target = 'is_inc'"
      ],
      "execution_count": 0,
      "outputs": []
    },
    {
      "cell_type": "markdown",
      "metadata": {
        "id": "QIRCUqNGJbTU",
        "colab_type": "text"
      },
      "source": [
        "## Trees & XGBoost"
      ]
    },
    {
      "cell_type": "code",
      "metadata": {
        "id": "Kdu8IWN4JbTV",
        "colab_type": "code",
        "colab": {}
      },
      "source": [
        "import xgboost as xgb\n",
        "from sklearn.ensemble import RandomForestClassifier\n",
        "from sklearn.tree import DecisionTreeClassifier"
      ],
      "execution_count": 0,
      "outputs": []
    },
    {
      "cell_type": "code",
      "metadata": {
        "id": "MDNBPa5sJbTX",
        "colab_type": "code",
        "colab": {}
      },
      "source": [
        "model = xgb.XGBClassifier(max_depth=5)\n",
        "# model = RandomForestClassifier(n_estimators=20, max_depth=5)\n",
        "# model = DecisionTreeClassifier(max_depth=5)"
      ],
      "execution_count": 0,
      "outputs": []
    },
    {
      "cell_type": "markdown",
      "metadata": {
        "id": "ceal6ax7JbTa",
        "colab_type": "text"
      },
      "source": [
        "## Train"
      ]
    },
    {
      "cell_type": "code",
      "metadata": {
        "id": "KvvYmyHfJbTb",
        "colab_type": "code",
        "colab": {}
      },
      "source": [
        "train_df = df[df.year < 1990].copy()\n",
        "test_df = df[df.year >= 1990].copy()"
      ],
      "execution_count": 0,
      "outputs": []
    },
    {
      "cell_type": "code",
      "metadata": {
        "id": "rHgid13QJbTc",
        "colab_type": "code",
        "colab": {}
      },
      "source": [
        "model.fit(train_df[features_columns], train_df[target])"
      ],
      "execution_count": 0,
      "outputs": []
    },
    {
      "cell_type": "code",
      "metadata": {
        "id": "DYq8TciHJbTe",
        "colab_type": "code",
        "colab": {}
      },
      "source": [
        "model.feature_importances_"
      ],
      "execution_count": 0,
      "outputs": []
    },
    {
      "cell_type": "markdown",
      "metadata": {
        "id": "6rwnESI9JbTg",
        "colab_type": "text"
      },
      "source": [
        "## Test"
      ]
    },
    {
      "cell_type": "code",
      "metadata": {
        "id": "y1SkxdwCJbTh",
        "colab_type": "code",
        "colab": {}
      },
      "source": [
        "df['is_inc_pred'] = model.predict(df[features_columns])\n",
        "test_df['is_inc_pred'] = model.predict(test_df[features_columns])"
      ],
      "execution_count": 0,
      "outputs": []
    },
    {
      "cell_type": "code",
      "metadata": {
        "id": "2jhLUFYaJbTj",
        "colab_type": "code",
        "colab": {}
      },
      "source": [
        "from sklearn.metrics import accuracy_score"
      ],
      "execution_count": 0,
      "outputs": []
    },
    {
      "cell_type": "code",
      "metadata": {
        "id": "0pKidA2MJbTm",
        "colab_type": "code",
        "colab": {}
      },
      "source": [
        "accuracy_score(test_df['is_inc'], test_df['is_inc_pred'])"
      ],
      "execution_count": 0,
      "outputs": []
    },
    {
      "cell_type": "code",
      "metadata": {
        "id": "vgIbauk3JbTq",
        "colab_type": "code",
        "colab": {}
      },
      "source": [
        "accuracy_score(df['is_inc'], df['is_inc_pred'])"
      ],
      "execution_count": 0,
      "outputs": []
    },
    {
      "cell_type": "markdown",
      "metadata": {
        "id": "7kdN7fLyJbTt",
        "colab_type": "text"
      },
      "source": [
        "## Regressor"
      ]
    },
    {
      "cell_type": "code",
      "metadata": {
        "id": "hgFDvCzSJbTv",
        "colab_type": "code",
        "colab": {}
      },
      "source": [
        "model = xgb.XGBRegressor()"
      ],
      "execution_count": 0,
      "outputs": []
    },
    {
      "cell_type": "code",
      "metadata": {
        "id": "3U4lpd7PJbTx",
        "colab_type": "code",
        "colab": {}
      },
      "source": [
        "dir(model)"
      ],
      "execution_count": 0,
      "outputs": []
    },
    {
      "cell_type": "code",
      "metadata": {
        "id": "RRalGBkHJbTz",
        "colab_type": "code",
        "colab": {}
      },
      "source": [
        "model.fit(train_df[features_columns], train_df['gdp_growth']) "
      ],
      "execution_count": 0,
      "outputs": []
    },
    {
      "cell_type": "code",
      "metadata": {
        "id": "7b4JvBodJbT1",
        "colab_type": "code",
        "colab": {}
      },
      "source": [
        "df['gdp_growth_pred'] = model.predict(df[features_columns])\n",
        "test_df['gdp_growth_pred'] = model.predict(test_df[features_columns])"
      ],
      "execution_count": 0,
      "outputs": []
    },
    {
      "cell_type": "code",
      "metadata": {
        "id": "ORBNP_7iJbT5",
        "colab_type": "code",
        "colab": {}
      },
      "source": [
        "df[['year', 'gdp_growth', 'gdp_growth_pred']].plot(x='year', y=['gdp_growth_pred', 'gdp_growth'])"
      ],
      "execution_count": 0,
      "outputs": []
    },
    {
      "cell_type": "code",
      "metadata": {
        "id": "mYLfxZpzJbT6",
        "colab_type": "code",
        "colab": {}
      },
      "source": [
        "test_df[['year', 'gdp_growth', 'gdp_growth_pred']].plot(x='year', y=['gdp_growth_pred', 'gdp_growth'])"
      ],
      "execution_count": 0,
      "outputs": []
    },
    {
      "cell_type": "markdown",
      "metadata": {
        "id": "TkGBbm4WJbT8",
        "colab_type": "text"
      },
      "source": [
        "## Gotchas with Trees"
      ]
    },
    {
      "cell_type": "markdown",
      "metadata": {
        "id": "kMALpLcwJbT9",
        "colab_type": "text"
      },
      "source": [
        "    -- Do not capture linear relationships\n",
        "    -- Time series is not inherent. So need to input Time series flavour forcefully\n",
        "    -- Work wonderfully for structured data\n",
        "    -- One hot encoding is mandatory (ordinality is assumed)"
      ]
    },
    {
      "cell_type": "code",
      "metadata": {
        "id": "9ZkeHuZIJbT9",
        "colab_type": "code",
        "colab": {}
      },
      "source": [
        ""
      ],
      "execution_count": 0,
      "outputs": []
    }
  ]
}